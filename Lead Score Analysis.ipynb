{
 "cells": [
  {
   "cell_type": "markdown",
   "metadata": {},
   "source": [
    "# Lead Score Analysis By Ishan Pandey & Bikash Mishra"
   ]
  },
  {
   "cell_type": "markdown",
   "metadata": {},
   "source": [
    "## Following steps are performed during the analysis.\n",
    "\n",
    "#### Step 1: Reading and Understanding Data\n",
    "#### Step 2: Data Cleaning\n",
    "#### Step 3: Data Visualization\n",
    "#### Step 4: Data Preparation\n",
    "#### Step 5: Building the model\n",
    "#### Step 6: Making Predictions Using the Final Model\n",
    "#### Step 7: Model Evaluation"
   ]
  },
  {
   "cell_type": "code",
   "execution_count": 1,
   "metadata": {},
   "outputs": [],
   "source": [
    "# Importing all the libraries required for this analysis\n",
    "\n",
    "import numpy as np\n",
    "import pandas as pd\n",
    "import matplotlib.pyplot as plt\n",
    "import seaborn as sns\n",
    "import warnings \n",
    "warnings.filterwarnings('ignore')\n",
    "pd.set_option('display.max_rows', 100)\n",
    "pd.set_option('display.max_columns', 500)\n",
    "pd.set_option('display.width', 1000)\n",
    "pd.set_option('display.expand_frame_repr', False)\n",
    "\n",
    "#Importing train_test_split \n",
    "from sklearn.model_selection import train_test_split\n",
    "\n",
    "# Importing StandardScaler \n",
    "from sklearn.preprocessing import StandardScaler\n",
    "\n",
    "# Importing RFE and LinearRegression\n",
    "from sklearn.feature_selection import RFE\n",
    "from sklearn.linear_model import LogisticRegression\n",
    "\n",
    "# Importing statsmodel\n",
    "import statsmodels.api as sm \n",
    "\n",
    "# Importing VIF for calculation\n",
    "from statsmodels.stats.outliers_influence import variance_inflation_factor\n",
    "\n",
    "# Importing r2_score for calculation\n",
    "from sklearn.metrics import r2_score \n",
    "\n",
    "from sklearn import metrics\n",
    "from sklearn.metrics import confusion_matrix\n",
    "from sklearn.metrics import precision_score, recall_score\n",
    "from sklearn.metrics import precision_recall_curve"
   ]
  },
  {
   "cell_type": "markdown",
   "metadata": {},
   "source": [
    "## Step 1: Reading and Understanding Data"
   ]
  },
  {
   "cell_type": "code",
   "execution_count": 2,
   "metadata": {},
   "outputs": [],
   "source": [
    "# Importing dataset\n",
    "Leads_data= pd.read_csv(\"Leads.csv\")"
   ]
  },
  {
   "cell_type": "code",
   "execution_count": 3,
   "metadata": {},
   "outputs": [
    {
     "data": {
      "text/html": [
       "<div>\n",
       "<style scoped>\n",
       "    .dataframe tbody tr th:only-of-type {\n",
       "        vertical-align: middle;\n",
       "    }\n",
       "\n",
       "    .dataframe tbody tr th {\n",
       "        vertical-align: top;\n",
       "    }\n",
       "\n",
       "    .dataframe thead th {\n",
       "        text-align: right;\n",
       "    }\n",
       "</style>\n",
       "<table border=\"1\" class=\"dataframe\">\n",
       "  <thead>\n",
       "    <tr style=\"text-align: right;\">\n",
       "      <th></th>\n",
       "      <th>Prospect ID</th>\n",
       "      <th>Lead Number</th>\n",
       "      <th>Lead Origin</th>\n",
       "      <th>Lead Source</th>\n",
       "      <th>Do Not Email</th>\n",
       "      <th>Do Not Call</th>\n",
       "      <th>Converted</th>\n",
       "      <th>TotalVisits</th>\n",
       "      <th>Total Time Spent on Website</th>\n",
       "      <th>Page Views Per Visit</th>\n",
       "      <th>Last Activity</th>\n",
       "      <th>Country</th>\n",
       "      <th>Specialization</th>\n",
       "      <th>How did you hear about X Education</th>\n",
       "      <th>What is your current occupation</th>\n",
       "      <th>What matters most to you in choosing a course</th>\n",
       "      <th>Search</th>\n",
       "      <th>Magazine</th>\n",
       "      <th>Newspaper Article</th>\n",
       "      <th>X Education Forums</th>\n",
       "      <th>Newspaper</th>\n",
       "      <th>Digital Advertisement</th>\n",
       "      <th>Through Recommendations</th>\n",
       "      <th>Receive More Updates About Our Courses</th>\n",
       "      <th>Tags</th>\n",
       "      <th>Lead Quality</th>\n",
       "      <th>Update me on Supply Chain Content</th>\n",
       "      <th>Get updates on DM Content</th>\n",
       "      <th>Lead Profile</th>\n",
       "      <th>City</th>\n",
       "      <th>Asymmetrique Activity Index</th>\n",
       "      <th>Asymmetrique Profile Index</th>\n",
       "      <th>Asymmetrique Activity Score</th>\n",
       "      <th>Asymmetrique Profile Score</th>\n",
       "      <th>I agree to pay the amount through cheque</th>\n",
       "      <th>A free copy of Mastering The Interview</th>\n",
       "      <th>Last Notable Activity</th>\n",
       "    </tr>\n",
       "  </thead>\n",
       "  <tbody>\n",
       "    <tr>\n",
       "      <th>0</th>\n",
       "      <td>7927b2df-8bba-4d29-b9a2-b6e0beafe620</td>\n",
       "      <td>660737</td>\n",
       "      <td>API</td>\n",
       "      <td>Olark Chat</td>\n",
       "      <td>No</td>\n",
       "      <td>No</td>\n",
       "      <td>0</td>\n",
       "      <td>0.0</td>\n",
       "      <td>0</td>\n",
       "      <td>0.0</td>\n",
       "      <td>Page Visited on Website</td>\n",
       "      <td>NaN</td>\n",
       "      <td>Select</td>\n",
       "      <td>Select</td>\n",
       "      <td>Unemployed</td>\n",
       "      <td>Better Career Prospects</td>\n",
       "      <td>No</td>\n",
       "      <td>No</td>\n",
       "      <td>No</td>\n",
       "      <td>No</td>\n",
       "      <td>No</td>\n",
       "      <td>No</td>\n",
       "      <td>No</td>\n",
       "      <td>No</td>\n",
       "      <td>Interested in other courses</td>\n",
       "      <td>Low in Relevance</td>\n",
       "      <td>No</td>\n",
       "      <td>No</td>\n",
       "      <td>Select</td>\n",
       "      <td>Select</td>\n",
       "      <td>02.Medium</td>\n",
       "      <td>02.Medium</td>\n",
       "      <td>15.0</td>\n",
       "      <td>15.0</td>\n",
       "      <td>No</td>\n",
       "      <td>No</td>\n",
       "      <td>Modified</td>\n",
       "    </tr>\n",
       "    <tr>\n",
       "      <th>1</th>\n",
       "      <td>2a272436-5132-4136-86fa-dcc88c88f482</td>\n",
       "      <td>660728</td>\n",
       "      <td>API</td>\n",
       "      <td>Organic Search</td>\n",
       "      <td>No</td>\n",
       "      <td>No</td>\n",
       "      <td>0</td>\n",
       "      <td>5.0</td>\n",
       "      <td>674</td>\n",
       "      <td>2.5</td>\n",
       "      <td>Email Opened</td>\n",
       "      <td>India</td>\n",
       "      <td>Select</td>\n",
       "      <td>Select</td>\n",
       "      <td>Unemployed</td>\n",
       "      <td>Better Career Prospects</td>\n",
       "      <td>No</td>\n",
       "      <td>No</td>\n",
       "      <td>No</td>\n",
       "      <td>No</td>\n",
       "      <td>No</td>\n",
       "      <td>No</td>\n",
       "      <td>No</td>\n",
       "      <td>No</td>\n",
       "      <td>Ringing</td>\n",
       "      <td>NaN</td>\n",
       "      <td>No</td>\n",
       "      <td>No</td>\n",
       "      <td>Select</td>\n",
       "      <td>Select</td>\n",
       "      <td>02.Medium</td>\n",
       "      <td>02.Medium</td>\n",
       "      <td>15.0</td>\n",
       "      <td>15.0</td>\n",
       "      <td>No</td>\n",
       "      <td>No</td>\n",
       "      <td>Email Opened</td>\n",
       "    </tr>\n",
       "    <tr>\n",
       "      <th>2</th>\n",
       "      <td>8cc8c611-a219-4f35-ad23-fdfd2656bd8a</td>\n",
       "      <td>660727</td>\n",
       "      <td>Landing Page Submission</td>\n",
       "      <td>Direct Traffic</td>\n",
       "      <td>No</td>\n",
       "      <td>No</td>\n",
       "      <td>1</td>\n",
       "      <td>2.0</td>\n",
       "      <td>1532</td>\n",
       "      <td>2.0</td>\n",
       "      <td>Email Opened</td>\n",
       "      <td>India</td>\n",
       "      <td>Business Administration</td>\n",
       "      <td>Select</td>\n",
       "      <td>Student</td>\n",
       "      <td>Better Career Prospects</td>\n",
       "      <td>No</td>\n",
       "      <td>No</td>\n",
       "      <td>No</td>\n",
       "      <td>No</td>\n",
       "      <td>No</td>\n",
       "      <td>No</td>\n",
       "      <td>No</td>\n",
       "      <td>No</td>\n",
       "      <td>Will revert after reading the email</td>\n",
       "      <td>Might be</td>\n",
       "      <td>No</td>\n",
       "      <td>No</td>\n",
       "      <td>Potential Lead</td>\n",
       "      <td>Mumbai</td>\n",
       "      <td>02.Medium</td>\n",
       "      <td>01.High</td>\n",
       "      <td>14.0</td>\n",
       "      <td>20.0</td>\n",
       "      <td>No</td>\n",
       "      <td>Yes</td>\n",
       "      <td>Email Opened</td>\n",
       "    </tr>\n",
       "    <tr>\n",
       "      <th>3</th>\n",
       "      <td>0cc2df48-7cf4-4e39-9de9-19797f9b38cc</td>\n",
       "      <td>660719</td>\n",
       "      <td>Landing Page Submission</td>\n",
       "      <td>Direct Traffic</td>\n",
       "      <td>No</td>\n",
       "      <td>No</td>\n",
       "      <td>0</td>\n",
       "      <td>1.0</td>\n",
       "      <td>305</td>\n",
       "      <td>1.0</td>\n",
       "      <td>Unreachable</td>\n",
       "      <td>India</td>\n",
       "      <td>Media and Advertising</td>\n",
       "      <td>Word Of Mouth</td>\n",
       "      <td>Unemployed</td>\n",
       "      <td>Better Career Prospects</td>\n",
       "      <td>No</td>\n",
       "      <td>No</td>\n",
       "      <td>No</td>\n",
       "      <td>No</td>\n",
       "      <td>No</td>\n",
       "      <td>No</td>\n",
       "      <td>No</td>\n",
       "      <td>No</td>\n",
       "      <td>Ringing</td>\n",
       "      <td>Not Sure</td>\n",
       "      <td>No</td>\n",
       "      <td>No</td>\n",
       "      <td>Select</td>\n",
       "      <td>Mumbai</td>\n",
       "      <td>02.Medium</td>\n",
       "      <td>01.High</td>\n",
       "      <td>13.0</td>\n",
       "      <td>17.0</td>\n",
       "      <td>No</td>\n",
       "      <td>No</td>\n",
       "      <td>Modified</td>\n",
       "    </tr>\n",
       "    <tr>\n",
       "      <th>4</th>\n",
       "      <td>3256f628-e534-4826-9d63-4a8b88782852</td>\n",
       "      <td>660681</td>\n",
       "      <td>Landing Page Submission</td>\n",
       "      <td>Google</td>\n",
       "      <td>No</td>\n",
       "      <td>No</td>\n",
       "      <td>1</td>\n",
       "      <td>2.0</td>\n",
       "      <td>1428</td>\n",
       "      <td>1.0</td>\n",
       "      <td>Converted to Lead</td>\n",
       "      <td>India</td>\n",
       "      <td>Select</td>\n",
       "      <td>Other</td>\n",
       "      <td>Unemployed</td>\n",
       "      <td>Better Career Prospects</td>\n",
       "      <td>No</td>\n",
       "      <td>No</td>\n",
       "      <td>No</td>\n",
       "      <td>No</td>\n",
       "      <td>No</td>\n",
       "      <td>No</td>\n",
       "      <td>No</td>\n",
       "      <td>No</td>\n",
       "      <td>Will revert after reading the email</td>\n",
       "      <td>Might be</td>\n",
       "      <td>No</td>\n",
       "      <td>No</td>\n",
       "      <td>Select</td>\n",
       "      <td>Mumbai</td>\n",
       "      <td>02.Medium</td>\n",
       "      <td>01.High</td>\n",
       "      <td>15.0</td>\n",
       "      <td>18.0</td>\n",
       "      <td>No</td>\n",
       "      <td>No</td>\n",
       "      <td>Modified</td>\n",
       "    </tr>\n",
       "  </tbody>\n",
       "</table>\n",
       "</div>"
      ],
      "text/plain": [
       "                            Prospect ID  Lead Number              Lead Origin     Lead Source Do Not Email Do Not Call  Converted  TotalVisits  Total Time Spent on Website  Page Views Per Visit            Last Activity Country           Specialization How did you hear about X Education What is your current occupation What matters most to you in choosing a course Search Magazine Newspaper Article X Education Forums Newspaper Digital Advertisement Through Recommendations Receive More Updates About Our Courses                                 Tags      Lead Quality Update me on Supply Chain Content Get updates on DM Content    Lead Profile    City Asymmetrique Activity Index Asymmetrique Profile Index  Asymmetrique Activity Score  Asymmetrique Profile Score I agree to pay the amount through cheque A free copy of Mastering The Interview Last Notable Activity\n",
       "0  7927b2df-8bba-4d29-b9a2-b6e0beafe620       660737                      API      Olark Chat           No          No          0          0.0                            0                   0.0  Page Visited on Website     NaN                   Select                             Select                      Unemployed                       Better Career Prospects     No       No                No                 No        No                    No                      No                                     No          Interested in other courses  Low in Relevance                                No                        No          Select  Select                   02.Medium                  02.Medium                         15.0                        15.0                                       No                                     No              Modified\n",
       "1  2a272436-5132-4136-86fa-dcc88c88f482       660728                      API  Organic Search           No          No          0          5.0                          674                   2.5             Email Opened   India                   Select                             Select                      Unemployed                       Better Career Prospects     No       No                No                 No        No                    No                      No                                     No                              Ringing               NaN                                No                        No          Select  Select                   02.Medium                  02.Medium                         15.0                        15.0                                       No                                     No          Email Opened\n",
       "2  8cc8c611-a219-4f35-ad23-fdfd2656bd8a       660727  Landing Page Submission  Direct Traffic           No          No          1          2.0                         1532                   2.0             Email Opened   India  Business Administration                             Select                         Student                       Better Career Prospects     No       No                No                 No        No                    No                      No                                     No  Will revert after reading the email          Might be                                No                        No  Potential Lead  Mumbai                   02.Medium                    01.High                         14.0                        20.0                                       No                                    Yes          Email Opened\n",
       "3  0cc2df48-7cf4-4e39-9de9-19797f9b38cc       660719  Landing Page Submission  Direct Traffic           No          No          0          1.0                          305                   1.0              Unreachable   India    Media and Advertising                      Word Of Mouth                      Unemployed                       Better Career Prospects     No       No                No                 No        No                    No                      No                                     No                              Ringing          Not Sure                                No                        No          Select  Mumbai                   02.Medium                    01.High                         13.0                        17.0                                       No                                     No              Modified\n",
       "4  3256f628-e534-4826-9d63-4a8b88782852       660681  Landing Page Submission          Google           No          No          1          2.0                         1428                   1.0        Converted to Lead   India                   Select                              Other                      Unemployed                       Better Career Prospects     No       No                No                 No        No                    No                      No                                     No  Will revert after reading the email          Might be                                No                        No          Select  Mumbai                   02.Medium                    01.High                         15.0                        18.0                                       No                                     No              Modified"
      ]
     },
     "execution_count": 3,
     "metadata": {},
     "output_type": "execute_result"
    }
   ],
   "source": [
    "Leads_data.head()"
   ]
  },
  {
   "cell_type": "code",
   "execution_count": 4,
   "metadata": {},
   "outputs": [
    {
     "data": {
      "text/plain": [
       "(9240, 37)"
      ]
     },
     "execution_count": 4,
     "metadata": {},
     "output_type": "execute_result"
    }
   ],
   "source": [
    "Leads_data.shape"
   ]
  },
  {
   "cell_type": "code",
   "execution_count": 5,
   "metadata": {},
   "outputs": [
    {
     "name": "stdout",
     "output_type": "stream",
     "text": [
      "<class 'pandas.core.frame.DataFrame'>\n",
      "RangeIndex: 9240 entries, 0 to 9239\n",
      "Data columns (total 37 columns):\n",
      " #   Column                                         Non-Null Count  Dtype  \n",
      "---  ------                                         --------------  -----  \n",
      " 0   Prospect ID                                    9240 non-null   object \n",
      " 1   Lead Number                                    9240 non-null   int64  \n",
      " 2   Lead Origin                                    9240 non-null   object \n",
      " 3   Lead Source                                    9204 non-null   object \n",
      " 4   Do Not Email                                   9240 non-null   object \n",
      " 5   Do Not Call                                    9240 non-null   object \n",
      " 6   Converted                                      9240 non-null   int64  \n",
      " 7   TotalVisits                                    9103 non-null   float64\n",
      " 8   Total Time Spent on Website                    9240 non-null   int64  \n",
      " 9   Page Views Per Visit                           9103 non-null   float64\n",
      " 10  Last Activity                                  9137 non-null   object \n",
      " 11  Country                                        6779 non-null   object \n",
      " 12  Specialization                                 7802 non-null   object \n",
      " 13  How did you hear about X Education             7033 non-null   object \n",
      " 14  What is your current occupation                6550 non-null   object \n",
      " 15  What matters most to you in choosing a course  6531 non-null   object \n",
      " 16  Search                                         9240 non-null   object \n",
      " 17  Magazine                                       9240 non-null   object \n",
      " 18  Newspaper Article                              9240 non-null   object \n",
      " 19  X Education Forums                             9240 non-null   object \n",
      " 20  Newspaper                                      9240 non-null   object \n",
      " 21  Digital Advertisement                          9240 non-null   object \n",
      " 22  Through Recommendations                        9240 non-null   object \n",
      " 23  Receive More Updates About Our Courses         9240 non-null   object \n",
      " 24  Tags                                           5887 non-null   object \n",
      " 25  Lead Quality                                   4473 non-null   object \n",
      " 26  Update me on Supply Chain Content              9240 non-null   object \n",
      " 27  Get updates on DM Content                      9240 non-null   object \n",
      " 28  Lead Profile                                   6531 non-null   object \n",
      " 29  City                                           7820 non-null   object \n",
      " 30  Asymmetrique Activity Index                    5022 non-null   object \n",
      " 31  Asymmetrique Profile Index                     5022 non-null   object \n",
      " 32  Asymmetrique Activity Score                    5022 non-null   float64\n",
      " 33  Asymmetrique Profile Score                     5022 non-null   float64\n",
      " 34  I agree to pay the amount through cheque       9240 non-null   object \n",
      " 35  A free copy of Mastering The Interview         9240 non-null   object \n",
      " 36  Last Notable Activity                          9240 non-null   object \n",
      "dtypes: float64(4), int64(3), object(30)\n",
      "memory usage: 2.6+ MB\n"
     ]
    }
   ],
   "source": [
    "Leads_data.info()"
   ]
  },
  {
   "cell_type": "markdown",
   "metadata": {},
   "source": [
    "### Checking percentage of null values in each column"
   ]
  },
  {
   "cell_type": "code",
   "execution_count": 6,
   "metadata": {},
   "outputs": [
    {
     "data": {
      "text/plain": [
       "Prospect ID                                       0.00\n",
       "Lead Number                                       0.00\n",
       "Lead Origin                                       0.00\n",
       "Lead Source                                       0.39\n",
       "Do Not Email                                      0.00\n",
       "Do Not Call                                       0.00\n",
       "Converted                                         0.00\n",
       "TotalVisits                                       1.48\n",
       "Total Time Spent on Website                       0.00\n",
       "Page Views Per Visit                              1.48\n",
       "Last Activity                                     1.11\n",
       "Country                                          26.63\n",
       "Specialization                                   15.56\n",
       "How did you hear about X Education               23.89\n",
       "What is your current occupation                  29.11\n",
       "What matters most to you in choosing a course    29.32\n",
       "Search                                            0.00\n",
       "Magazine                                          0.00\n",
       "Newspaper Article                                 0.00\n",
       "X Education Forums                                0.00\n",
       "Newspaper                                         0.00\n",
       "Digital Advertisement                             0.00\n",
       "Through Recommendations                           0.00\n",
       "Receive More Updates About Our Courses            0.00\n",
       "Tags                                             36.29\n",
       "Lead Quality                                     51.59\n",
       "Update me on Supply Chain Content                 0.00\n",
       "Get updates on DM Content                         0.00\n",
       "Lead Profile                                     29.32\n",
       "City                                             15.37\n",
       "Asymmetrique Activity Index                      45.65\n",
       "Asymmetrique Profile Index                       45.65\n",
       "Asymmetrique Activity Score                      45.65\n",
       "Asymmetrique Profile Score                       45.65\n",
       "I agree to pay the amount through cheque          0.00\n",
       "A free copy of Mastering The Interview            0.00\n",
       "Last Notable Activity                             0.00\n",
       "dtype: float64"
      ]
     },
     "execution_count": 6,
     "metadata": {},
     "output_type": "execute_result"
    }
   ],
   "source": [
    "(100 * Leads_data.isnull().sum()/len(Leads_data)).round(2)"
   ]
  },
  {
   "cell_type": "markdown",
   "metadata": {},
   "source": [
    "### Checking the unique data"
   ]
  },
  {
   "cell_type": "code",
   "execution_count": 7,
   "metadata": {},
   "outputs": [
    {
     "data": {
      "text/plain": [
       "Prospect ID                                      9240\n",
       "Lead Origin                                         5\n",
       "Lead Source                                        21\n",
       "Do Not Email                                        2\n",
       "Do Not Call                                         2\n",
       "Last Activity                                      17\n",
       "Country                                            38\n",
       "Specialization                                     19\n",
       "How did you hear about X Education                 10\n",
       "What is your current occupation                     6\n",
       "What matters most to you in choosing a course       3\n",
       "Search                                              2\n",
       "Magazine                                            1\n",
       "Newspaper Article                                   2\n",
       "X Education Forums                                  2\n",
       "Newspaper                                           2\n",
       "Digital Advertisement                               2\n",
       "Through Recommendations                             2\n",
       "Receive More Updates About Our Courses              1\n",
       "Tags                                               26\n",
       "Lead Quality                                        5\n",
       "Update me on Supply Chain Content                   1\n",
       "Get updates on DM Content                           1\n",
       "Lead Profile                                        6\n",
       "City                                                7\n",
       "Asymmetrique Activity Index                         3\n",
       "Asymmetrique Profile Index                          3\n",
       "I agree to pay the amount through cheque            1\n",
       "A free copy of Mastering The Interview              2\n",
       "Last Notable Activity                              16\n",
       "dtype: int64"
      ]
     },
     "execution_count": 7,
     "metadata": {},
     "output_type": "execute_result"
    }
   ],
   "source": [
    "Leads_data.select_dtypes(include='object').apply(pd.Series.nunique, axis = 0)"
   ]
  },
  {
   "cell_type": "code",
   "execution_count": 8,
   "metadata": {},
   "outputs": [
    {
     "data": {
      "text/plain": [
       "Lead Number                    9240\n",
       "Converted                         2\n",
       "TotalVisits                      41\n",
       "Total Time Spent on Website    1731\n",
       "Page Views Per Visit            114\n",
       "Asymmetrique Activity Score      12\n",
       "Asymmetrique Profile Score       10\n",
       "dtype: int64"
      ]
     },
     "execution_count": 8,
     "metadata": {},
     "output_type": "execute_result"
    }
   ],
   "source": [
    "Leads_data.select_dtypes(include='number').apply(pd.Series.nunique, axis = 0)"
   ]
  },
  {
   "cell_type": "markdown",
   "metadata": {},
   "source": [
    "## Step 2: Data Cleaning"
   ]
  },
  {
   "cell_type": "markdown",
   "metadata": {},
   "source": [
    "### Dropping columns and Rows"
   ]
  },
  {
   "cell_type": "markdown",
   "metadata": {},
   "source": [
    "#### Dropping the missing value columns having more than 40%"
   ]
  },
  {
   "cell_type": "code",
   "execution_count": 9,
   "metadata": {},
   "outputs": [],
   "source": [
    "Leads_data=Leads_data.loc[:, Leads_data.isnull().mean() <=0.4]"
   ]
  },
  {
   "cell_type": "code",
   "execution_count": 10,
   "metadata": {},
   "outputs": [
    {
     "data": {
      "text/plain": [
       "(9240, 32)"
      ]
     },
     "execution_count": 10,
     "metadata": {},
     "output_type": "execute_result"
    }
   ],
   "source": [
    "Leads_data.shape"
   ]
  },
  {
   "cell_type": "markdown",
   "metadata": {},
   "source": [
    "##### Dropping categorical columns having only 1 value in the entire column\n",
    "    1.Magazine\n",
    "    2.Receive More Updates About Our Courses\n",
    "    3.Get updates on DM Content\n",
    "    4.Update me on Supply Chain Content\n",
    "    5.I agree to pay the amount through cheque"
   ]
  },
  {
   "cell_type": "code",
   "execution_count": 11,
   "metadata": {},
   "outputs": [],
   "source": [
    "Leads_data.drop(['Magazine','Receive More Updates About Our Courses','Get updates on DM Content','Update me on Supply Chain Content','I agree to pay the amount through cheque'],axis=1,inplace=True)"
   ]
  },
  {
   "cell_type": "markdown",
   "metadata": {},
   "source": [
    "##### Following columns are unique ID columns\n",
    "    1. Lead Number\n",
    "    2. Prospect ID"
   ]
  },
  {
   "cell_type": "code",
   "execution_count": 12,
   "metadata": {},
   "outputs": [],
   "source": [
    "Leads_data.drop(['Prospect ID','Lead Number'],axis=1,inplace=True)"
   ]
  },
  {
   "cell_type": "markdown",
   "metadata": {},
   "source": [
    "#### Following columns are generated by Sales team post their interaction with Prospect so they should be dropped as these info/data will not be available to our model when it will be deployed for future hot lead identification\n",
    "Note: Some of the sales columns already got dropped earlier as part of data cleaning."
   ]
  },
  {
   "cell_type": "code",
   "execution_count": 13,
   "metadata": {},
   "outputs": [],
   "source": [
    "Leads_data.drop(['Tags','Last Activity','Last Notable Activity','Lead Profile'],axis=1,inplace=True)"
   ]
  },
  {
   "cell_type": "code",
   "execution_count": 14,
   "metadata": {},
   "outputs": [
    {
     "name": "stdout",
     "output_type": "stream",
     "text": [
      "<class 'pandas.core.frame.DataFrame'>\n",
      "RangeIndex: 9240 entries, 0 to 9239\n",
      "Data columns (total 21 columns):\n",
      " #   Column                                         Non-Null Count  Dtype  \n",
      "---  ------                                         --------------  -----  \n",
      " 0   Lead Origin                                    9240 non-null   object \n",
      " 1   Lead Source                                    9204 non-null   object \n",
      " 2   Do Not Email                                   9240 non-null   object \n",
      " 3   Do Not Call                                    9240 non-null   object \n",
      " 4   Converted                                      9240 non-null   int64  \n",
      " 5   TotalVisits                                    9103 non-null   float64\n",
      " 6   Total Time Spent on Website                    9240 non-null   int64  \n",
      " 7   Page Views Per Visit                           9103 non-null   float64\n",
      " 8   Country                                        6779 non-null   object \n",
      " 9   Specialization                                 7802 non-null   object \n",
      " 10  How did you hear about X Education             7033 non-null   object \n",
      " 11  What is your current occupation                6550 non-null   object \n",
      " 12  What matters most to you in choosing a course  6531 non-null   object \n",
      " 13  Search                                         9240 non-null   object \n",
      " 14  Newspaper Article                              9240 non-null   object \n",
      " 15  X Education Forums                             9240 non-null   object \n",
      " 16  Newspaper                                      9240 non-null   object \n",
      " 17  Digital Advertisement                          9240 non-null   object \n",
      " 18  Through Recommendations                        9240 non-null   object \n",
      " 19  City                                           7820 non-null   object \n",
      " 20  A free copy of Mastering The Interview         9240 non-null   object \n",
      "dtypes: float64(2), int64(2), object(17)\n",
      "memory usage: 1.5+ MB\n"
     ]
    }
   ],
   "source": [
    "Leads_data.info()"
   ]
  },
  {
   "cell_type": "markdown",
   "metadata": {},
   "source": [
    "### Handling categorical columns having skewed values"
   ]
  },
  {
   "cell_type": "code",
   "execution_count": 15,
   "metadata": {},
   "outputs": [
    {
     "data": {
      "text/plain": [
       "India                   6492\n",
       "United States             69\n",
       "United Arab Emirates      53\n",
       "Singapore                 24\n",
       "Saudi Arabia              21\n",
       "United Kingdom            15\n",
       "Australia                 13\n",
       "Qatar                     10\n",
       "Bahrain                    7\n",
       "Hong Kong                  7\n",
       "France                     6\n",
       "Oman                       6\n",
       "unknown                    5\n",
       "Nigeria                    4\n",
       "Germany                    4\n",
       "Kuwait                     4\n",
       "South Africa               4\n",
       "Canada                     4\n",
       "Sweden                     3\n",
       "Netherlands                2\n",
       "China                      2\n",
       "Ghana                      2\n",
       "Italy                      2\n",
       "Uganda                     2\n",
       "Asia/Pacific Region        2\n",
       "Bangladesh                 2\n",
       "Philippines                2\n",
       "Belgium                    2\n",
       "Indonesia                  1\n",
       "Denmark                    1\n",
       "Vietnam                    1\n",
       "Russia                     1\n",
       "Switzerland                1\n",
       "Malaysia                   1\n",
       "Sri Lanka                  1\n",
       "Tanzania                   1\n",
       "Liberia                    1\n",
       "Kenya                      1\n",
       "Name: Country, dtype: int64"
      ]
     },
     "execution_count": 15,
     "metadata": {},
     "output_type": "execute_result"
    }
   ],
   "source": [
    "Leads_data.Country.value_counts()"
   ]
  },
  {
   "cell_type": "code",
   "execution_count": 16,
   "metadata": {},
   "outputs": [
    {
     "data": {
      "text/plain": [
       "Better Career Prospects      6528\n",
       "Flexibility & Convenience       2\n",
       "Other                           1\n",
       "Name: What matters most to you in choosing a course, dtype: int64"
      ]
     },
     "execution_count": 16,
     "metadata": {},
     "output_type": "execute_result"
    }
   ],
   "source": [
    "Leads_data['What matters most to you in choosing a course'].value_counts()"
   ]
  },
  {
   "cell_type": "code",
   "execution_count": 17,
   "metadata": {},
   "outputs": [
    {
     "data": {
      "text/plain": [
       "Mumbai                         3222\n",
       "Select                         2249\n",
       "Thane & Outskirts               752\n",
       "Other Cities                    686\n",
       "Other Cities of Maharashtra     457\n",
       "Other Metro Cities              380\n",
       "Tier II Cities                   74\n",
       "Name: City, dtype: int64"
      ]
     },
     "execution_count": 17,
     "metadata": {},
     "output_type": "execute_result"
    }
   ],
   "source": [
    "Leads_data['City'].value_counts()"
   ]
  },
  {
   "cell_type": "code",
   "execution_count": 18,
   "metadata": {},
   "outputs": [
    {
     "data": {
      "text/plain": [
       "Select                   5043\n",
       "Online Search             808\n",
       "Word Of Mouth             348\n",
       "Student of SomeSchool     310\n",
       "Other                     186\n",
       "Multiple Sources          152\n",
       "Advertisements             70\n",
       "Social Media               67\n",
       "Email                      26\n",
       "SMS                        23\n",
       "Name: How did you hear about X Education, dtype: int64"
      ]
     },
     "execution_count": 18,
     "metadata": {},
     "output_type": "execute_result"
    }
   ],
   "source": [
    "Leads_data['How did you hear about X Education'].value_counts()"
   ]
  },
  {
   "cell_type": "markdown",
   "metadata": {},
   "source": [
    "### Dropping columns  \n",
    "#### Followings are skewed columns,won't add any value to the model\n",
    "    1. Country\n",
    "    2. What matters most to you in choosing a course\n",
    "#### After replcaing the select to null values, the percentage of null value increases i.e. >40%\n",
    "    3. City\n",
    "    4. How did you hear about X Education"
   ]
  },
  {
   "cell_type": "code",
   "execution_count": 19,
   "metadata": {},
   "outputs": [],
   "source": [
    "Leads_data.drop(['Country','What matters most to you in choosing a course','City','How did you hear about X Education'],axis=1,inplace=True)"
   ]
  },
  {
   "cell_type": "markdown",
   "metadata": {},
   "source": [
    "#### Checking percentage of nulls in available columns"
   ]
  },
  {
   "cell_type": "code",
   "execution_count": 20,
   "metadata": {},
   "outputs": [
    {
     "data": {
      "text/plain": [
       "Lead Origin                                0.00\n",
       "Lead Source                                0.39\n",
       "Do Not Email                               0.00\n",
       "Do Not Call                                0.00\n",
       "Converted                                  0.00\n",
       "TotalVisits                                1.48\n",
       "Total Time Spent on Website                0.00\n",
       "Page Views Per Visit                       1.48\n",
       "Specialization                            15.56\n",
       "What is your current occupation           29.11\n",
       "Search                                     0.00\n",
       "Newspaper Article                          0.00\n",
       "X Education Forums                         0.00\n",
       "Newspaper                                  0.00\n",
       "Digital Advertisement                      0.00\n",
       "Through Recommendations                    0.00\n",
       "A free copy of Mastering The Interview     0.00\n",
       "dtype: float64"
      ]
     },
     "execution_count": 20,
     "metadata": {},
     "output_type": "execute_result"
    }
   ],
   "source": [
    "(100 * Leads_data.isnull().sum()/len(Leads_data)).round(2)"
   ]
  },
  {
   "cell_type": "markdown",
   "metadata": {},
   "source": [
    "#### Impute missing values with mode for the categorical data and median for numerical data"
   ]
  },
  {
   "cell_type": "code",
   "execution_count": 21,
   "metadata": {},
   "outputs": [],
   "source": [
    "Leads_data.fillna(Leads_data.select_dtypes(include='object').mode().iloc[0], inplace=True)"
   ]
  },
  {
   "cell_type": "code",
   "execution_count": 22,
   "metadata": {},
   "outputs": [],
   "source": [
    "Leads_data.fillna(Leads_data.select_dtypes(include='number').median().iloc[0], inplace=True)"
   ]
  },
  {
   "cell_type": "code",
   "execution_count": 23,
   "metadata": {},
   "outputs": [
    {
     "data": {
      "text/plain": [
       "Lead Origin                               0.0\n",
       "Lead Source                               0.0\n",
       "Do Not Email                              0.0\n",
       "Do Not Call                               0.0\n",
       "Converted                                 0.0\n",
       "TotalVisits                               0.0\n",
       "Total Time Spent on Website               0.0\n",
       "Page Views Per Visit                      0.0\n",
       "Specialization                            0.0\n",
       "What is your current occupation           0.0\n",
       "Search                                    0.0\n",
       "Newspaper Article                         0.0\n",
       "X Education Forums                        0.0\n",
       "Newspaper                                 0.0\n",
       "Digital Advertisement                     0.0\n",
       "Through Recommendations                   0.0\n",
       "A free copy of Mastering The Interview    0.0\n",
       "dtype: float64"
      ]
     },
     "execution_count": 23,
     "metadata": {},
     "output_type": "execute_result"
    }
   ],
   "source": [
    "(100 * Leads_data.isnull().sum()/len(Leads_data)).round(2)"
   ]
  },
  {
   "cell_type": "code",
   "execution_count": 24,
   "metadata": {},
   "outputs": [
    {
     "data": {
      "text/plain": [
       "Select                               3380\n",
       "Finance Management                    976\n",
       "Human Resource Management             848\n",
       "Marketing Management                  838\n",
       "Operations Management                 503\n",
       "Business Administration               403\n",
       "IT Projects Management                366\n",
       "Supply Chain Management               349\n",
       "Banking, Investment And Insurance     338\n",
       "Travel and Tourism                    203\n",
       "Media and Advertising                 203\n",
       "International Business                178\n",
       "Healthcare Management                 159\n",
       "Hospitality Management                114\n",
       "E-COMMERCE                            112\n",
       "Retail Management                     100\n",
       "Rural and Agribusiness                 73\n",
       "E-Business                             57\n",
       "Services Excellence                    40\n",
       "Name: Specialization, dtype: int64"
      ]
     },
     "execution_count": 24,
     "metadata": {},
     "output_type": "execute_result"
    }
   ],
   "source": [
    "Leads_data['Specialization'].value_counts()"
   ]
  },
  {
   "cell_type": "code",
   "execution_count": 25,
   "metadata": {},
   "outputs": [],
   "source": [
    "Leads_data['Specialization'] = Leads_data['Specialization'].replace('Select','Fresher')"
   ]
  },
  {
   "cell_type": "markdown",
   "metadata": {},
   "source": [
    "### Replace following columns to reduce number of categories as these contain very few values\n",
    "    1. In 'Lead Origin' column, replacing Lead Add Form, Lead Import, Quick Add Form with \"Lead Form/Import\" \n",
    "    2. In 'Lead Source' column, replacing Welingak Website,Referral Sites,Facebook,google,Click2call,bing,Social Media,Live    Chat,Press_Release,NC_EDM,testone,blog,youtubechannel,welearnblog_Home,WeLearn,Pay per Click Ads with \"Others\"\n",
    "    3. Replaced select in specialisation column with ‘freshers’ as we think this correctly reflects the people who would not mark any specialisation in the form.\n",
    "    4. In 'What is your current occupation' column,replacing less than 3% values with \"Student & Others\""
   ]
  },
  {
   "cell_type": "code",
   "execution_count": 26,
   "metadata": {},
   "outputs": [],
   "source": [
    "Leads_data['Specialization']=Leads_data['Specialization'].replace(['International Business','Healthcare Management','E-COMMERCE','Retail Management','Rural and Agribusiness','E-Business','Services Excellence'],'Others')\n",
    "Leads_data['Lead Source']=Leads_data['Lead Source'].replace(['Welingak Website','Referral Sites','Facebook','google','Click2call','bing','Social Media','Live Chat','Press_Release','NC_EDM','testone','blog','youtubechannel','welearnblog_Home','WeLearn','Pay per Click Ads'],'Others')\n",
    "Leads_data['Lead Origin']=Leads_data['Lead Origin'].replace(['Lead Add Form','Lead Import','Quick Add Form'],'Lead Form/Import')\n",
    "Leads_data['What is your current occupation']=Leads_data['What is your current occupation'].replace(['Student','Other','Housewife','Businessman'],'Student & Others')"
   ]
  },
  {
   "cell_type": "code",
   "execution_count": 27,
   "metadata": {},
   "outputs": [
    {
     "data": {
      "text/plain": [
       "Converted                         2\n",
       "TotalVisits                      41\n",
       "Total Time Spent on Website    1731\n",
       "Page Views Per Visit            114\n",
       "dtype: int64"
      ]
     },
     "execution_count": 27,
     "metadata": {},
     "output_type": "execute_result"
    }
   ],
   "source": [
    "Leads_data.select_dtypes(include='number').apply(pd.Series.nunique, axis = 0)"
   ]
  },
  {
   "cell_type": "code",
   "execution_count": 28,
   "metadata": {},
   "outputs": [
    {
     "data": {
      "text/plain": [
       "Lead Origin                                3\n",
       "Lead Source                                6\n",
       "Do Not Email                               2\n",
       "Do Not Call                                2\n",
       "Specialization                            13\n",
       "What is your current occupation            3\n",
       "Search                                     2\n",
       "Newspaper Article                          2\n",
       "X Education Forums                         2\n",
       "Newspaper                                  2\n",
       "Digital Advertisement                      2\n",
       "Through Recommendations                    2\n",
       "A free copy of Mastering The Interview     2\n",
       "dtype: int64"
      ]
     },
     "execution_count": 28,
     "metadata": {},
     "output_type": "execute_result"
    }
   ],
   "source": [
    "Leads_data.select_dtypes(include='object').apply(pd.Series.nunique, axis = 0)"
   ]
  },
  {
   "cell_type": "code",
   "execution_count": 29,
   "metadata": {},
   "outputs": [
    {
     "data": {
      "text/plain": [
       "No     0.92\n",
       "Yes    0.08\n",
       "Name: Do Not Email, dtype: float64"
      ]
     },
     "execution_count": 29,
     "metadata": {},
     "output_type": "execute_result"
    }
   ],
   "source": [
    "(Leads_data['Do Not Email'].value_counts()/len(Leads_data)).round(2)"
   ]
  },
  {
   "cell_type": "code",
   "execution_count": 30,
   "metadata": {},
   "outputs": [
    {
     "data": {
      "text/plain": [
       "No     1.0\n",
       "Yes    0.0\n",
       "Name: Do Not Call, dtype: float64"
      ]
     },
     "execution_count": 30,
     "metadata": {},
     "output_type": "execute_result"
    }
   ],
   "source": [
    "(Leads_data['Do Not Call'].value_counts()/len(Leads_data)).round(2)"
   ]
  },
  {
   "cell_type": "code",
   "execution_count": 31,
   "metadata": {},
   "outputs": [
    {
     "data": {
      "text/plain": [
       "No     0.998\n",
       "Yes    0.002\n",
       "Name: Search, dtype: float64"
      ]
     },
     "execution_count": 31,
     "metadata": {},
     "output_type": "execute_result"
    }
   ],
   "source": [
    "(Leads_data['Search'].value_counts()/len(Leads_data)).round(3)"
   ]
  },
  {
   "cell_type": "code",
   "execution_count": 32,
   "metadata": {},
   "outputs": [
    {
     "data": {
      "text/plain": [
       "No     1.0\n",
       "Yes    0.0\n",
       "Name: Newspaper Article, dtype: float64"
      ]
     },
     "execution_count": 32,
     "metadata": {},
     "output_type": "execute_result"
    }
   ],
   "source": [
    "(Leads_data['Newspaper Article'].value_counts()/len(Leads_data)).round(3)"
   ]
  },
  {
   "cell_type": "code",
   "execution_count": 33,
   "metadata": {},
   "outputs": [
    {
     "data": {
      "text/plain": [
       "No     1.0\n",
       "Yes    0.0\n",
       "Name: X Education Forums, dtype: float64"
      ]
     },
     "execution_count": 33,
     "metadata": {},
     "output_type": "execute_result"
    }
   ],
   "source": [
    "(Leads_data['X Education Forums'].value_counts()/len(Leads_data)).round(3)"
   ]
  },
  {
   "cell_type": "code",
   "execution_count": 34,
   "metadata": {},
   "outputs": [
    {
     "data": {
      "text/plain": [
       "No     1.0\n",
       "Yes    0.0\n",
       "Name: Newspaper, dtype: float64"
      ]
     },
     "execution_count": 34,
     "metadata": {},
     "output_type": "execute_result"
    }
   ],
   "source": [
    "(Leads_data['Newspaper'].value_counts()/len(Leads_data)).round(3)"
   ]
  },
  {
   "cell_type": "code",
   "execution_count": 35,
   "metadata": {},
   "outputs": [
    {
     "data": {
      "text/plain": [
       "No     1.0\n",
       "Yes    0.0\n",
       "Name: Digital Advertisement, dtype: float64"
      ]
     },
     "execution_count": 35,
     "metadata": {},
     "output_type": "execute_result"
    }
   ],
   "source": [
    "(Leads_data['Digital Advertisement'].value_counts()/len(Leads_data)).round(3)"
   ]
  },
  {
   "cell_type": "code",
   "execution_count": 36,
   "metadata": {},
   "outputs": [
    {
     "data": {
      "text/plain": [
       "No     0.999\n",
       "Yes    0.001\n",
       "Name: Through Recommendations, dtype: float64"
      ]
     },
     "execution_count": 36,
     "metadata": {},
     "output_type": "execute_result"
    }
   ],
   "source": [
    "(Leads_data['Through Recommendations'].value_counts()/len(Leads_data)).round(3)"
   ]
  },
  {
   "cell_type": "markdown",
   "metadata": {},
   "source": [
    "### Dropping the following columns due to highly skewness\n",
    "    1.Search\n",
    "    2.Newspaper Article\n",
    "    3.X Education Forums\n",
    "    4.Newspaper\n",
    "    5.Digital Advertisement \n",
    "    6.Through Recommendations \n",
    "    7.Do Not Call"
   ]
  },
  {
   "cell_type": "code",
   "execution_count": 37,
   "metadata": {},
   "outputs": [],
   "source": [
    "Leads_data.drop(['Search','Newspaper Article','Do Not Call','X Education Forums','Newspaper','Digital Advertisement','Through Recommendations'],axis=1,inplace=True)"
   ]
  },
  {
   "cell_type": "code",
   "execution_count": 38,
   "metadata": {},
   "outputs": [
    {
     "data": {
      "text/plain": [
       "0    0.61461\n",
       "1    0.38539\n",
       "Name: Converted, dtype: float64"
      ]
     },
     "execution_count": 38,
     "metadata": {},
     "output_type": "execute_result"
    }
   ],
   "source": [
    "Leads_data['Converted'].value_counts(normalize=True)"
   ]
  },
  {
   "cell_type": "markdown",
   "metadata": {},
   "source": [
    "### Converting categorical variable to numerical variable (binary) - (Yes/No) to (1/0)"
   ]
  },
  {
   "cell_type": "code",
   "execution_count": 39,
   "metadata": {},
   "outputs": [],
   "source": [
    "Leads_data = Leads_data.replace(to_replace = \"Yes\", value = 1)\n",
    "Leads_data = Leads_data.replace(to_replace = \"No\", value = 0)"
   ]
  },
  {
   "cell_type": "code",
   "execution_count": 40,
   "metadata": {},
   "outputs": [
    {
     "name": "stdout",
     "output_type": "stream",
     "text": [
      "<class 'pandas.core.frame.DataFrame'>\n",
      "RangeIndex: 9240 entries, 0 to 9239\n",
      "Data columns (total 10 columns):\n",
      " #   Column                                  Non-Null Count  Dtype  \n",
      "---  ------                                  --------------  -----  \n",
      " 0   Lead Origin                             9240 non-null   object \n",
      " 1   Lead Source                             9240 non-null   object \n",
      " 2   Do Not Email                            9240 non-null   int64  \n",
      " 3   Converted                               9240 non-null   int64  \n",
      " 4   TotalVisits                             9240 non-null   float64\n",
      " 5   Total Time Spent on Website             9240 non-null   int64  \n",
      " 6   Page Views Per Visit                    9240 non-null   float64\n",
      " 7   Specialization                          9240 non-null   object \n",
      " 8   What is your current occupation         9240 non-null   object \n",
      " 9   A free copy of Mastering The Interview  9240 non-null   int64  \n",
      "dtypes: float64(2), int64(4), object(4)\n",
      "memory usage: 722.0+ KB\n"
     ]
    }
   ],
   "source": [
    "Leads_data.info()"
   ]
  },
  {
   "cell_type": "markdown",
   "metadata": {},
   "source": [
    "## Step 3: Data Visualization"
   ]
  },
  {
   "cell_type": "markdown",
   "metadata": {},
   "source": [
    "### Checking Outliers"
   ]
  },
  {
   "cell_type": "code",
   "execution_count": 41,
   "metadata": {},
   "outputs": [
    {
     "data": {
      "text/html": [
       "<div>\n",
       "<style scoped>\n",
       "    .dataframe tbody tr th:only-of-type {\n",
       "        vertical-align: middle;\n",
       "    }\n",
       "\n",
       "    .dataframe tbody tr th {\n",
       "        vertical-align: top;\n",
       "    }\n",
       "\n",
       "    .dataframe thead th {\n",
       "        text-align: right;\n",
       "    }\n",
       "</style>\n",
       "<table border=\"1\" class=\"dataframe\">\n",
       "  <thead>\n",
       "    <tr style=\"text-align: right;\">\n",
       "      <th></th>\n",
       "      <th>Do Not Email</th>\n",
       "      <th>Converted</th>\n",
       "      <th>TotalVisits</th>\n",
       "      <th>Total Time Spent on Website</th>\n",
       "      <th>Page Views Per Visit</th>\n",
       "      <th>A free copy of Mastering The Interview</th>\n",
       "    </tr>\n",
       "  </thead>\n",
       "  <tbody>\n",
       "    <tr>\n",
       "      <th>count</th>\n",
       "      <td>9240.000000</td>\n",
       "      <td>9240.000000</td>\n",
       "      <td>9240.000000</td>\n",
       "      <td>9240.000000</td>\n",
       "      <td>9240.000000</td>\n",
       "      <td>9240.000000</td>\n",
       "    </tr>\n",
       "    <tr>\n",
       "      <th>mean</th>\n",
       "      <td>0.079437</td>\n",
       "      <td>0.385390</td>\n",
       "      <td>3.394156</td>\n",
       "      <td>487.698268</td>\n",
       "      <td>2.327787</td>\n",
       "      <td>0.312554</td>\n",
       "    </tr>\n",
       "    <tr>\n",
       "      <th>std</th>\n",
       "      <td>0.270435</td>\n",
       "      <td>0.486714</td>\n",
       "      <td>4.836682</td>\n",
       "      <td>548.021466</td>\n",
       "      <td>2.164258</td>\n",
       "      <td>0.463559</td>\n",
       "    </tr>\n",
       "    <tr>\n",
       "      <th>min</th>\n",
       "      <td>0.000000</td>\n",
       "      <td>0.000000</td>\n",
       "      <td>0.000000</td>\n",
       "      <td>0.000000</td>\n",
       "      <td>0.000000</td>\n",
       "      <td>0.000000</td>\n",
       "    </tr>\n",
       "    <tr>\n",
       "      <th>25%</th>\n",
       "      <td>0.000000</td>\n",
       "      <td>0.000000</td>\n",
       "      <td>0.000000</td>\n",
       "      <td>12.000000</td>\n",
       "      <td>0.000000</td>\n",
       "      <td>0.000000</td>\n",
       "    </tr>\n",
       "    <tr>\n",
       "      <th>50%</th>\n",
       "      <td>0.000000</td>\n",
       "      <td>0.000000</td>\n",
       "      <td>3.000000</td>\n",
       "      <td>248.000000</td>\n",
       "      <td>2.000000</td>\n",
       "      <td>0.000000</td>\n",
       "    </tr>\n",
       "    <tr>\n",
       "      <th>75%</th>\n",
       "      <td>0.000000</td>\n",
       "      <td>1.000000</td>\n",
       "      <td>5.000000</td>\n",
       "      <td>936.000000</td>\n",
       "      <td>3.000000</td>\n",
       "      <td>1.000000</td>\n",
       "    </tr>\n",
       "    <tr>\n",
       "      <th>max</th>\n",
       "      <td>1.000000</td>\n",
       "      <td>1.000000</td>\n",
       "      <td>251.000000</td>\n",
       "      <td>2272.000000</td>\n",
       "      <td>55.000000</td>\n",
       "      <td>1.000000</td>\n",
       "    </tr>\n",
       "  </tbody>\n",
       "</table>\n",
       "</div>"
      ],
      "text/plain": [
       "       Do Not Email    Converted  TotalVisits  Total Time Spent on Website  Page Views Per Visit  A free copy of Mastering The Interview\n",
       "count   9240.000000  9240.000000  9240.000000                  9240.000000           9240.000000                             9240.000000\n",
       "mean       0.079437     0.385390     3.394156                   487.698268              2.327787                                0.312554\n",
       "std        0.270435     0.486714     4.836682                   548.021466              2.164258                                0.463559\n",
       "min        0.000000     0.000000     0.000000                     0.000000              0.000000                                0.000000\n",
       "25%        0.000000     0.000000     0.000000                    12.000000              0.000000                                0.000000\n",
       "50%        0.000000     0.000000     3.000000                   248.000000              2.000000                                0.000000\n",
       "75%        0.000000     1.000000     5.000000                   936.000000              3.000000                                1.000000\n",
       "max        1.000000     1.000000   251.000000                  2272.000000             55.000000                                1.000000"
      ]
     },
     "execution_count": 41,
     "metadata": {},
     "output_type": "execute_result"
    }
   ],
   "source": [
    "Leads_data.describe()"
   ]
  },
  {
   "cell_type": "code",
   "execution_count": 42,
   "metadata": {},
   "outputs": [
    {
     "data": {
      "image/png": "[encoded data removed]",
      "text/plain": [
       "<Figure size 720x144 with 1 Axes>"
      ]
     },
     "metadata": {
      "needs_background": "light"
     },
     "output_type": "display_data"
    }
   ],
   "source": [
    "plt.figure(figsize=(10,2))\n",
    "sns.boxplot(Leads_data.TotalVisits)\n",
    "plt.show()"
   ]
  },
  {
   "cell_type": "code",
   "execution_count": 43,
   "metadata": {},
   "outputs": [
    {
     "data": {
      "image/png": "[encoded data removed]",
      "text/plain": [
       "<Figure size 720x144 with 1 Axes>"
      ]
     },
     "metadata": {
      "needs_background": "light"
     },
     "output_type": "display_data"
    }
   ],
   "source": [
    "plt.figure(figsize=(10,2))\n",
    "sns.boxplot(Leads_data['Page Views Per Visit'])\n",
    "plt.show()"
   ]
  },
  {
   "cell_type": "code",
   "execution_count": 44,
   "metadata": {},
   "outputs": [
    {
     "data": {
      "image/png": "[encoded data removed]",
      "text/plain": [
       "<Figure size 720x144 with 1 Axes>"
      ]
     },
     "metadata": {
      "needs_background": "light"
     },
     "output_type": "display_data"
    }
   ],
   "source": [
    "plt.figure(figsize=(10,2))\n",
    "sns.boxplot(Leads_data['Total Time Spent on Website'])\n",
    "plt.show()"
   ]
  },
  {
   "cell_type": "markdown",
   "metadata": {},
   "source": [
    "### Handling Outliers"
   ]
  },
  {
   "cell_type": "code",
   "execution_count": 45,
   "metadata": {},
   "outputs": [],
   "source": [
    "# Excluding values outside 99th percentile in 'TotalVisits' & 'Page Views Per Visit' variables\n",
    "Leads_data=Leads_data[Leads_data['TotalVisits']<np.nanpercentile(Leads_data['TotalVisits'], 99)]\n",
    "Leads_data=Leads_data[Leads_data['Page Views Per Visit']<np.nanpercentile(Leads_data['Page Views Per Visit'], 99)]"
   ]
  },
  {
   "cell_type": "markdown",
   "metadata": {},
   "source": [
    "### Checking Correlation between variables"
   ]
  },
  {
   "cell_type": "code",
   "execution_count": 46,
   "metadata": {},
   "outputs": [
    {
     "data": {
      "image/png": "[encoded data removed]",
      "text/plain": [
       "<Figure size 720x576 with 2 Axes>"
      ]
     },
     "metadata": {
      "needs_background": "light"
     },
     "output_type": "display_data"
    }
   ],
   "source": [
    "plt.figure(figsize=(10,8))\n",
    "sns.heatmap(Leads_data.corr(), cmap=\"YlGnBu\", annot=True)\n",
    "plt.show()"
   ]
  },
  {
   "cell_type": "markdown",
   "metadata": {},
   "source": [
    "We observe Page views per visit and Total Views are positively correlated strongly. It reflects the actual scenario - When prospects view websites more, they view more pages each time as they want to understand maximum info about the types of courses, universities affiliated, placements, fees etc."
   ]
  },
  {
   "cell_type": "markdown",
   "metadata": {},
   "source": [
    "## Step 4: Data Preparation"
   ]
  },
  {
   "cell_type": "markdown",
   "metadata": {},
   "source": [
    "### Creating dummy variables"
   ]
  },
  {
   "cell_type": "code",
   "execution_count": 47,
   "metadata": {},
   "outputs": [],
   "source": [
    "# Get the dummy variables for the feature 'Lead Origin' and store it in a new variable - 'Lead_Origin_X'\n",
    "# Let's drop the first column from Leads_data df using 'drop_first = True'\n",
    "# This is because n columns can be identified from n-1 variables\n",
    "\n",
    "Lead_Origin_X = pd.get_dummies(Leads_data['Lead Origin'],drop_first = True,prefix='Lead_Origin')\n",
    "Leads_data = pd.concat([Leads_data, Lead_Origin_X], axis = 1)\n",
    "\n",
    "# Similarly creating dummies for \"Lead Source\" variable\n",
    "Lead_Source_X = pd.get_dummies(Leads_data['Lead Source'],drop_first = True, prefix='Lead_Source')\n",
    "Leads_data = pd.concat([Leads_data,Lead_Source_X], axis = 1)\n",
    "\n",
    "# Similarly creating dummies for \"Specialization\"\n",
    "\n",
    "Specialization_X = pd.get_dummies(Leads_data['Specialization'],drop_first = True, prefix='Specialization')\n",
    "Leads_data = pd.concat([Leads_data,Specialization_X], axis = 1)\n",
    "\n",
    "# Similarly creating dummies for \"What is your current occupation\" \n",
    "\n",
    "Current_Occupation_X = pd.get_dummies(Leads_data['What is your current occupation'],drop_first = True, prefix='Current_Occupation')\n",
    "Leads_data = pd.concat([Leads_data,Current_Occupation_X], axis = 1)\n"
   ]
  },
  {
   "cell_type": "code",
   "execution_count": 48,
   "metadata": {},
   "outputs": [],
   "source": [
    "# Drop 'Lead Origin' , 'Lead Source' , 'Specialization' and 'What is your current occupation' as we have created the dummies for it\n",
    "Leads_data.drop(['Lead Origin'], axis = 1, inplace = True)\n",
    "Leads_data.drop(['Lead Source'], axis = 1, inplace = True)\n",
    "Leads_data.drop(['Specialization'], axis = 1, inplace = True)\n",
    "Leads_data.drop(['What is your current occupation'], axis = 1, inplace = True)"
   ]
  },
  {
   "cell_type": "code",
   "execution_count": 49,
   "metadata": {},
   "outputs": [
    {
     "data": {
      "text/html": [
       "<div>\n",
       "<style scoped>\n",
       "    .dataframe tbody tr th:only-of-type {\n",
       "        vertical-align: middle;\n",
       "    }\n",
       "\n",
       "    .dataframe tbody tr th {\n",
       "        vertical-align: top;\n",
       "    }\n",
       "\n",
       "    .dataframe thead th {\n",
       "        text-align: right;\n",
       "    }\n",
       "</style>\n",
       "<table border=\"1\" class=\"dataframe\">\n",
       "  <thead>\n",
       "    <tr style=\"text-align: right;\">\n",
       "      <th></th>\n",
       "      <th>Do Not Email</th>\n",
       "      <th>Converted</th>\n",
       "      <th>TotalVisits</th>\n",
       "      <th>Total Time Spent on Website</th>\n",
       "      <th>Page Views Per Visit</th>\n",
       "      <th>A free copy of Mastering The Interview</th>\n",
       "      <th>Lead_Origin_Landing Page Submission</th>\n",
       "      <th>Lead_Origin_Lead Form/Import</th>\n",
       "      <th>Lead_Source_Google</th>\n",
       "      <th>Lead_Source_Olark Chat</th>\n",
       "      <th>Lead_Source_Organic Search</th>\n",
       "      <th>Lead_Source_Others</th>\n",
       "      <th>Lead_Source_Reference</th>\n",
       "      <th>Specialization_Business Administration</th>\n",
       "      <th>Specialization_Finance Management</th>\n",
       "      <th>Specialization_Fresher</th>\n",
       "      <th>Specialization_Hospitality Management</th>\n",
       "      <th>Specialization_Human Resource Management</th>\n",
       "      <th>Specialization_IT Projects Management</th>\n",
       "      <th>Specialization_Marketing Management</th>\n",
       "      <th>Specialization_Media and Advertising</th>\n",
       "      <th>Specialization_Operations Management</th>\n",
       "      <th>Specialization_Others</th>\n",
       "      <th>Specialization_Supply Chain Management</th>\n",
       "      <th>Specialization_Travel and Tourism</th>\n",
       "      <th>Current_Occupation_Unemployed</th>\n",
       "      <th>Current_Occupation_Working Professional</th>\n",
       "    </tr>\n",
       "  </thead>\n",
       "  <tbody>\n",
       "    <tr>\n",
       "      <th>count</th>\n",
       "      <td>9029.000000</td>\n",
       "      <td>9029.000000</td>\n",
       "      <td>9029.000000</td>\n",
       "      <td>9029.000000</td>\n",
       "      <td>9029.000000</td>\n",
       "      <td>9029.000000</td>\n",
       "      <td>9029.000000</td>\n",
       "      <td>9029.000000</td>\n",
       "      <td>9029.000000</td>\n",
       "      <td>9029.000000</td>\n",
       "      <td>9029.000000</td>\n",
       "      <td>9029.000000</td>\n",
       "      <td>9029.000000</td>\n",
       "      <td>9029.000000</td>\n",
       "      <td>9029.000000</td>\n",
       "      <td>9029.000000</td>\n",
       "      <td>9029.000000</td>\n",
       "      <td>9029.000000</td>\n",
       "      <td>9029.000000</td>\n",
       "      <td>9029.000000</td>\n",
       "      <td>9029.000000</td>\n",
       "      <td>9029.000000</td>\n",
       "      <td>9029.000000</td>\n",
       "      <td>9029.000000</td>\n",
       "      <td>9029.000000</td>\n",
       "      <td>9029.000000</td>\n",
       "      <td>9029.000000</td>\n",
       "    </tr>\n",
       "    <tr>\n",
       "      <th>mean</th>\n",
       "      <td>0.077749</td>\n",
       "      <td>0.385092</td>\n",
       "      <td>3.041644</td>\n",
       "      <td>483.133016</td>\n",
       "      <td>2.196036</td>\n",
       "      <td>0.305682</td>\n",
       "      <td>0.522317</td>\n",
       "      <td>0.085613</td>\n",
       "      <td>0.316646</td>\n",
       "      <td>0.193931</td>\n",
       "      <td>0.118396</td>\n",
       "      <td>0.037324</td>\n",
       "      <td>0.059032</td>\n",
       "      <td>0.043416</td>\n",
       "      <td>0.105881</td>\n",
       "      <td>0.371248</td>\n",
       "      <td>0.011961</td>\n",
       "      <td>0.090708</td>\n",
       "      <td>0.039539</td>\n",
       "      <td>0.091040</td>\n",
       "      <td>0.021708</td>\n",
       "      <td>0.054823</td>\n",
       "      <td>0.075977</td>\n",
       "      <td>0.037213</td>\n",
       "      <td>0.020822</td>\n",
       "      <td>0.897442</td>\n",
       "      <td>0.076310</td>\n",
       "    </tr>\n",
       "    <tr>\n",
       "      <th>std</th>\n",
       "      <td>0.267792</td>\n",
       "      <td>0.486644</td>\n",
       "      <td>2.826553</td>\n",
       "      <td>547.420675</td>\n",
       "      <td>1.843445</td>\n",
       "      <td>0.460721</td>\n",
       "      <td>0.499529</td>\n",
       "      <td>0.279807</td>\n",
       "      <td>0.465194</td>\n",
       "      <td>0.395397</td>\n",
       "      <td>0.323095</td>\n",
       "      <td>0.189565</td>\n",
       "      <td>0.235698</td>\n",
       "      <td>0.203802</td>\n",
       "      <td>0.307702</td>\n",
       "      <td>0.483165</td>\n",
       "      <td>0.108718</td>\n",
       "      <td>0.287209</td>\n",
       "      <td>0.194885</td>\n",
       "      <td>0.287682</td>\n",
       "      <td>0.145736</td>\n",
       "      <td>0.227648</td>\n",
       "      <td>0.264977</td>\n",
       "      <td>0.189295</td>\n",
       "      <td>0.142795</td>\n",
       "      <td>0.303398</td>\n",
       "      <td>0.265508</td>\n",
       "    </tr>\n",
       "    <tr>\n",
       "      <th>min</th>\n",
       "      <td>0.000000</td>\n",
       "      <td>0.000000</td>\n",
       "      <td>0.000000</td>\n",
       "      <td>0.000000</td>\n",
       "      <td>0.000000</td>\n",
       "      <td>0.000000</td>\n",
       "      <td>0.000000</td>\n",
       "      <td>0.000000</td>\n",
       "      <td>0.000000</td>\n",
       "      <td>0.000000</td>\n",
       "      <td>0.000000</td>\n",
       "      <td>0.000000</td>\n",
       "      <td>0.000000</td>\n",
       "      <td>0.000000</td>\n",
       "      <td>0.000000</td>\n",
       "      <td>0.000000</td>\n",
       "      <td>0.000000</td>\n",
       "      <td>0.000000</td>\n",
       "      <td>0.000000</td>\n",
       "      <td>0.000000</td>\n",
       "      <td>0.000000</td>\n",
       "      <td>0.000000</td>\n",
       "      <td>0.000000</td>\n",
       "      <td>0.000000</td>\n",
       "      <td>0.000000</td>\n",
       "      <td>0.000000</td>\n",
       "      <td>0.000000</td>\n",
       "    </tr>\n",
       "    <tr>\n",
       "      <th>25%</th>\n",
       "      <td>0.000000</td>\n",
       "      <td>0.000000</td>\n",
       "      <td>0.000000</td>\n",
       "      <td>7.000000</td>\n",
       "      <td>0.000000</td>\n",
       "      <td>0.000000</td>\n",
       "      <td>0.000000</td>\n",
       "      <td>0.000000</td>\n",
       "      <td>0.000000</td>\n",
       "      <td>0.000000</td>\n",
       "      <td>0.000000</td>\n",
       "      <td>0.000000</td>\n",
       "      <td>0.000000</td>\n",
       "      <td>0.000000</td>\n",
       "      <td>0.000000</td>\n",
       "      <td>0.000000</td>\n",
       "      <td>0.000000</td>\n",
       "      <td>0.000000</td>\n",
       "      <td>0.000000</td>\n",
       "      <td>0.000000</td>\n",
       "      <td>0.000000</td>\n",
       "      <td>0.000000</td>\n",
       "      <td>0.000000</td>\n",
       "      <td>0.000000</td>\n",
       "      <td>0.000000</td>\n",
       "      <td>1.000000</td>\n",
       "      <td>0.000000</td>\n",
       "    </tr>\n",
       "    <tr>\n",
       "      <th>50%</th>\n",
       "      <td>0.000000</td>\n",
       "      <td>0.000000</td>\n",
       "      <td>3.000000</td>\n",
       "      <td>245.000000</td>\n",
       "      <td>2.000000</td>\n",
       "      <td>0.000000</td>\n",
       "      <td>1.000000</td>\n",
       "      <td>0.000000</td>\n",
       "      <td>0.000000</td>\n",
       "      <td>0.000000</td>\n",
       "      <td>0.000000</td>\n",
       "      <td>0.000000</td>\n",
       "      <td>0.000000</td>\n",
       "      <td>0.000000</td>\n",
       "      <td>0.000000</td>\n",
       "      <td>0.000000</td>\n",
       "      <td>0.000000</td>\n",
       "      <td>0.000000</td>\n",
       "      <td>0.000000</td>\n",
       "      <td>0.000000</td>\n",
       "      <td>0.000000</td>\n",
       "      <td>0.000000</td>\n",
       "      <td>0.000000</td>\n",
       "      <td>0.000000</td>\n",
       "      <td>0.000000</td>\n",
       "      <td>1.000000</td>\n",
       "      <td>0.000000</td>\n",
       "    </tr>\n",
       "    <tr>\n",
       "      <th>75%</th>\n",
       "      <td>0.000000</td>\n",
       "      <td>1.000000</td>\n",
       "      <td>4.000000</td>\n",
       "      <td>929.000000</td>\n",
       "      <td>3.000000</td>\n",
       "      <td>1.000000</td>\n",
       "      <td>1.000000</td>\n",
       "      <td>0.000000</td>\n",
       "      <td>1.000000</td>\n",
       "      <td>0.000000</td>\n",
       "      <td>0.000000</td>\n",
       "      <td>0.000000</td>\n",
       "      <td>0.000000</td>\n",
       "      <td>0.000000</td>\n",
       "      <td>0.000000</td>\n",
       "      <td>1.000000</td>\n",
       "      <td>0.000000</td>\n",
       "      <td>0.000000</td>\n",
       "      <td>0.000000</td>\n",
       "      <td>0.000000</td>\n",
       "      <td>0.000000</td>\n",
       "      <td>0.000000</td>\n",
       "      <td>0.000000</td>\n",
       "      <td>0.000000</td>\n",
       "      <td>0.000000</td>\n",
       "      <td>1.000000</td>\n",
       "      <td>0.000000</td>\n",
       "    </tr>\n",
       "    <tr>\n",
       "      <th>max</th>\n",
       "      <td>1.000000</td>\n",
       "      <td>1.000000</td>\n",
       "      <td>16.000000</td>\n",
       "      <td>2272.000000</td>\n",
       "      <td>8.000000</td>\n",
       "      <td>1.000000</td>\n",
       "      <td>1.000000</td>\n",
       "      <td>1.000000</td>\n",
       "      <td>1.000000</td>\n",
       "      <td>1.000000</td>\n",
       "      <td>1.000000</td>\n",
       "      <td>1.000000</td>\n",
       "      <td>1.000000</td>\n",
       "      <td>1.000000</td>\n",
       "      <td>1.000000</td>\n",
       "      <td>1.000000</td>\n",
       "      <td>1.000000</td>\n",
       "      <td>1.000000</td>\n",
       "      <td>1.000000</td>\n",
       "      <td>1.000000</td>\n",
       "      <td>1.000000</td>\n",
       "      <td>1.000000</td>\n",
       "      <td>1.000000</td>\n",
       "      <td>1.000000</td>\n",
       "      <td>1.000000</td>\n",
       "      <td>1.000000</td>\n",
       "      <td>1.000000</td>\n",
       "    </tr>\n",
       "  </tbody>\n",
       "</table>\n",
       "</div>"
      ],
      "text/plain": [
       "       Do Not Email    Converted  TotalVisits  Total Time Spent on Website  Page Views Per Visit  A free copy of Mastering The Interview  Lead_Origin_Landing Page Submission  Lead_Origin_Lead Form/Import  Lead_Source_Google  Lead_Source_Olark Chat  Lead_Source_Organic Search  Lead_Source_Others  Lead_Source_Reference  Specialization_Business Administration  Specialization_Finance Management  Specialization_Fresher  Specialization_Hospitality Management  Specialization_Human Resource Management  Specialization_IT Projects Management  Specialization_Marketing Management  Specialization_Media and Advertising  Specialization_Operations Management  Specialization_Others  Specialization_Supply Chain Management  Specialization_Travel and Tourism  Current_Occupation_Unemployed  Current_Occupation_Working Professional\n",
       "count   9029.000000  9029.000000  9029.000000                  9029.000000           9029.000000                             9029.000000                          9029.000000                   9029.000000         9029.000000             9029.000000                 9029.000000         9029.000000            9029.000000                             9029.000000                        9029.000000             9029.000000                            9029.000000                               9029.000000                            9029.000000                          9029.000000                           9029.000000                           9029.000000            9029.000000                             9029.000000                        9029.000000                    9029.000000                              9029.000000\n",
       "mean       0.077749     0.385092     3.041644                   483.133016              2.196036                                0.305682                             0.522317                      0.085613            0.316646                0.193931                    0.118396            0.037324               0.059032                                0.043416                           0.105881                0.371248                               0.011961                                  0.090708                               0.039539                             0.091040                              0.021708                              0.054823               0.075977                                0.037213                           0.020822                       0.897442                                 0.076310\n",
       "std        0.267792     0.486644     2.826553                   547.420675              1.843445                                0.460721                             0.499529                      0.279807            0.465194                0.395397                    0.323095            0.189565               0.235698                                0.203802                           0.307702                0.483165                               0.108718                                  0.287209                               0.194885                             0.287682                              0.145736                              0.227648               0.264977                                0.189295                           0.142795                       0.303398                                 0.265508\n",
       "min        0.000000     0.000000     0.000000                     0.000000              0.000000                                0.000000                             0.000000                      0.000000            0.000000                0.000000                    0.000000            0.000000               0.000000                                0.000000                           0.000000                0.000000                               0.000000                                  0.000000                               0.000000                             0.000000                              0.000000                              0.000000               0.000000                                0.000000                           0.000000                       0.000000                                 0.000000\n",
       "25%        0.000000     0.000000     0.000000                     7.000000              0.000000                                0.000000                             0.000000                      0.000000            0.000000                0.000000                    0.000000            0.000000               0.000000                                0.000000                           0.000000                0.000000                               0.000000                                  0.000000                               0.000000                             0.000000                              0.000000                              0.000000               0.000000                                0.000000                           0.000000                       1.000000                                 0.000000\n",
       "50%        0.000000     0.000000     3.000000                   245.000000              2.000000                                0.000000                             1.000000                      0.000000            0.000000                0.000000                    0.000000            0.000000               0.000000                                0.000000                           0.000000                0.000000                               0.000000                                  0.000000                               0.000000                             0.000000                              0.000000                              0.000000               0.000000                                0.000000                           0.000000                       1.000000                                 0.000000\n",
       "75%        0.000000     1.000000     4.000000                   929.000000              3.000000                                1.000000                             1.000000                      0.000000            1.000000                0.000000                    0.000000            0.000000               0.000000                                0.000000                           0.000000                1.000000                               0.000000                                  0.000000                               0.000000                             0.000000                              0.000000                              0.000000               0.000000                                0.000000                           0.000000                       1.000000                                 0.000000\n",
       "max        1.000000     1.000000    16.000000                  2272.000000              8.000000                                1.000000                             1.000000                      1.000000            1.000000                1.000000                    1.000000            1.000000               1.000000                                1.000000                           1.000000                1.000000                               1.000000                                  1.000000                               1.000000                             1.000000                              1.000000                              1.000000               1.000000                                1.000000                           1.000000                       1.000000                                 1.000000"
      ]
     },
     "execution_count": 49,
     "metadata": {},
     "output_type": "execute_result"
    }
   ],
   "source": [
    "Leads_data.describe()"
   ]
  },
  {
   "cell_type": "code",
   "execution_count": 50,
   "metadata": {},
   "outputs": [
    {
     "name": "stdout",
     "output_type": "stream",
     "text": [
      "<class 'pandas.core.frame.DataFrame'>\n",
      "Int64Index: 9029 entries, 0 to 9239\n",
      "Data columns (total 27 columns):\n",
      " #   Column                                    Non-Null Count  Dtype  \n",
      "---  ------                                    --------------  -----  \n",
      " 0   Do Not Email                              9029 non-null   int64  \n",
      " 1   Converted                                 9029 non-null   int64  \n",
      " 2   TotalVisits                               9029 non-null   float64\n",
      " 3   Total Time Spent on Website               9029 non-null   int64  \n",
      " 4   Page Views Per Visit                      9029 non-null   float64\n",
      " 5   A free copy of Mastering The Interview    9029 non-null   int64  \n",
      " 6   Lead_Origin_Landing Page Submission       9029 non-null   uint8  \n",
      " 7   Lead_Origin_Lead Form/Import              9029 non-null   uint8  \n",
      " 8   Lead_Source_Google                        9029 non-null   uint8  \n",
      " 9   Lead_Source_Olark Chat                    9029 non-null   uint8  \n",
      " 10  Lead_Source_Organic Search                9029 non-null   uint8  \n",
      " 11  Lead_Source_Others                        9029 non-null   uint8  \n",
      " 12  Lead_Source_Reference                     9029 non-null   uint8  \n",
      " 13  Specialization_Business Administration    9029 non-null   uint8  \n",
      " 14  Specialization_Finance Management         9029 non-null   uint8  \n",
      " 15  Specialization_Fresher                    9029 non-null   uint8  \n",
      " 16  Specialization_Hospitality Management     9029 non-null   uint8  \n",
      " 17  Specialization_Human Resource Management  9029 non-null   uint8  \n",
      " 18  Specialization_IT Projects Management     9029 non-null   uint8  \n",
      " 19  Specialization_Marketing Management       9029 non-null   uint8  \n",
      " 20  Specialization_Media and Advertising      9029 non-null   uint8  \n",
      " 21  Specialization_Operations Management      9029 non-null   uint8  \n",
      " 22  Specialization_Others                     9029 non-null   uint8  \n",
      " 23  Specialization_Supply Chain Management    9029 non-null   uint8  \n",
      " 24  Specialization_Travel and Tourism         9029 non-null   uint8  \n",
      " 25  Current_Occupation_Unemployed             9029 non-null   uint8  \n",
      " 26  Current_Occupation_Working Professional   9029 non-null   uint8  \n",
      "dtypes: float64(2), int64(4), uint8(21)\n",
      "memory usage: 678.9 KB\n"
     ]
    }
   ],
   "source": [
    "Leads_data.info()"
   ]
  },
  {
   "cell_type": "markdown",
   "metadata": {},
   "source": [
    "#### Converted column is the target columnn hence assign it to y"
   ]
  },
  {
   "cell_type": "code",
   "execution_count": 51,
   "metadata": {},
   "outputs": [],
   "source": [
    "y=Leads_data['Converted']"
   ]
  },
  {
   "cell_type": "code",
   "execution_count": 52,
   "metadata": {},
   "outputs": [],
   "source": [
    "X= Leads_data.drop('Converted',axis=1)"
   ]
  },
  {
   "cell_type": "markdown",
   "metadata": {},
   "source": [
    "### Splitting the Data into Training and Testing Sets"
   ]
  },
  {
   "cell_type": "code",
   "execution_count": 53,
   "metadata": {},
   "outputs": [],
   "source": [
    "X_train,X_test,y_train,y_test=train_test_split(X, y, train_size=0.7, test_size=0.3, random_state=100)"
   ]
  },
  {
   "cell_type": "code",
   "execution_count": 54,
   "metadata": {},
   "outputs": [
    {
     "name": "stdout",
     "output_type": "stream",
     "text": [
      "X_train : (6320, 26)  y_train : (6320,)\n",
      "X_test : (2709, 26)  y_test : (2709,)\n"
     ]
    }
   ],
   "source": [
    "print('X_train :',X_train.shape,' y_train :',y_train.shape)\n",
    "print('X_test :',X_test.shape, ' y_test :',y_test.shape)"
   ]
  },
  {
   "cell_type": "markdown",
   "metadata": {},
   "source": [
    "### Rescaling the Features"
   ]
  },
  {
   "cell_type": "code",
   "execution_count": 55,
   "metadata": {},
   "outputs": [],
   "source": [
    "scaler=StandardScaler()\n",
    "cols=['Total Time Spent on Website','TotalVisits','Page Views Per Visit']\n",
    "X_train[cols]=scaler.fit_transform(X_train[cols])"
   ]
  },
  {
   "cell_type": "code",
   "execution_count": 56,
   "metadata": {},
   "outputs": [
    {
     "data": {
      "text/html": [
       "<div>\n",
       "<style scoped>\n",
       "    .dataframe tbody tr th:only-of-type {\n",
       "        vertical-align: middle;\n",
       "    }\n",
       "\n",
       "    .dataframe tbody tr th {\n",
       "        vertical-align: top;\n",
       "    }\n",
       "\n",
       "    .dataframe thead th {\n",
       "        text-align: right;\n",
       "    }\n",
       "</style>\n",
       "<table border=\"1\" class=\"dataframe\">\n",
       "  <thead>\n",
       "    <tr style=\"text-align: right;\">\n",
       "      <th></th>\n",
       "      <th>Do Not Email</th>\n",
       "      <th>TotalVisits</th>\n",
       "      <th>Total Time Spent on Website</th>\n",
       "      <th>Page Views Per Visit</th>\n",
       "      <th>A free copy of Mastering The Interview</th>\n",
       "      <th>Lead_Origin_Landing Page Submission</th>\n",
       "      <th>Lead_Origin_Lead Form/Import</th>\n",
       "      <th>Lead_Source_Google</th>\n",
       "      <th>Lead_Source_Olark Chat</th>\n",
       "      <th>Lead_Source_Organic Search</th>\n",
       "      <th>Lead_Source_Others</th>\n",
       "      <th>Lead_Source_Reference</th>\n",
       "      <th>Specialization_Business Administration</th>\n",
       "      <th>Specialization_Finance Management</th>\n",
       "      <th>Specialization_Fresher</th>\n",
       "      <th>Specialization_Hospitality Management</th>\n",
       "      <th>Specialization_Human Resource Management</th>\n",
       "      <th>Specialization_IT Projects Management</th>\n",
       "      <th>Specialization_Marketing Management</th>\n",
       "      <th>Specialization_Media and Advertising</th>\n",
       "      <th>Specialization_Operations Management</th>\n",
       "      <th>Specialization_Others</th>\n",
       "      <th>Specialization_Supply Chain Management</th>\n",
       "      <th>Specialization_Travel and Tourism</th>\n",
       "      <th>Current_Occupation_Unemployed</th>\n",
       "      <th>Current_Occupation_Working Professional</th>\n",
       "    </tr>\n",
       "  </thead>\n",
       "  <tbody>\n",
       "    <tr>\n",
       "      <th>count</th>\n",
       "      <td>6320.000000</td>\n",
       "      <td>6.320000e+03</td>\n",
       "      <td>6.320000e+03</td>\n",
       "      <td>6.320000e+03</td>\n",
       "      <td>6320.000000</td>\n",
       "      <td>6320.000000</td>\n",
       "      <td>6320.000000</td>\n",
       "      <td>6320.000000</td>\n",
       "      <td>6320.000000</td>\n",
       "      <td>6320.000000</td>\n",
       "      <td>6320.000000</td>\n",
       "      <td>6320.000000</td>\n",
       "      <td>6320.000000</td>\n",
       "      <td>6320.000000</td>\n",
       "      <td>6320.000000</td>\n",
       "      <td>6320.000000</td>\n",
       "      <td>6320.000000</td>\n",
       "      <td>6320.000000</td>\n",
       "      <td>6320.000000</td>\n",
       "      <td>6320.000000</td>\n",
       "      <td>6320.000000</td>\n",
       "      <td>6320.000000</td>\n",
       "      <td>6320.000000</td>\n",
       "      <td>6320.000000</td>\n",
       "      <td>6320.000000</td>\n",
       "      <td>6320.000000</td>\n",
       "    </tr>\n",
       "    <tr>\n",
       "      <th>mean</th>\n",
       "      <td>0.078006</td>\n",
       "      <td>5.995556e-17</td>\n",
       "      <td>5.793537e-17</td>\n",
       "      <td>-1.449877e-16</td>\n",
       "      <td>0.306487</td>\n",
       "      <td>0.527690</td>\n",
       "      <td>0.082437</td>\n",
       "      <td>0.316139</td>\n",
       "      <td>0.193513</td>\n",
       "      <td>0.118354</td>\n",
       "      <td>0.037184</td>\n",
       "      <td>0.055063</td>\n",
       "      <td>0.042563</td>\n",
       "      <td>0.108228</td>\n",
       "      <td>0.371994</td>\n",
       "      <td>0.012342</td>\n",
       "      <td>0.089399</td>\n",
       "      <td>0.037342</td>\n",
       "      <td>0.095728</td>\n",
       "      <td>0.021203</td>\n",
       "      <td>0.052057</td>\n",
       "      <td>0.077848</td>\n",
       "      <td>0.036867</td>\n",
       "      <td>0.022627</td>\n",
       "      <td>0.899051</td>\n",
       "      <td>0.075158</td>\n",
       "    </tr>\n",
       "    <tr>\n",
       "      <th>std</th>\n",
       "      <td>0.268203</td>\n",
       "      <td>1.000079e+00</td>\n",
       "      <td>1.000079e+00</td>\n",
       "      <td>1.000079e+00</td>\n",
       "      <td>0.461071</td>\n",
       "      <td>0.499272</td>\n",
       "      <td>0.275051</td>\n",
       "      <td>0.465005</td>\n",
       "      <td>0.395083</td>\n",
       "      <td>0.323053</td>\n",
       "      <td>0.189226</td>\n",
       "      <td>0.228122</td>\n",
       "      <td>0.201886</td>\n",
       "      <td>0.310693</td>\n",
       "      <td>0.483375</td>\n",
       "      <td>0.110415</td>\n",
       "      <td>0.285341</td>\n",
       "      <td>0.189613</td>\n",
       "      <td>0.294241</td>\n",
       "      <td>0.144070</td>\n",
       "      <td>0.222160</td>\n",
       "      <td>0.267954</td>\n",
       "      <td>0.188450</td>\n",
       "      <td>0.148722</td>\n",
       "      <td>0.301286</td>\n",
       "      <td>0.263667</td>\n",
       "    </tr>\n",
       "    <tr>\n",
       "      <th>min</th>\n",
       "      <td>0.000000</td>\n",
       "      <td>-1.077771e+00</td>\n",
       "      <td>-8.843163e-01</td>\n",
       "      <td>-1.197064e+00</td>\n",
       "      <td>0.000000</td>\n",
       "      <td>0.000000</td>\n",
       "      <td>0.000000</td>\n",
       "      <td>0.000000</td>\n",
       "      <td>0.000000</td>\n",
       "      <td>0.000000</td>\n",
       "      <td>0.000000</td>\n",
       "      <td>0.000000</td>\n",
       "      <td>0.000000</td>\n",
       "      <td>0.000000</td>\n",
       "      <td>0.000000</td>\n",
       "      <td>0.000000</td>\n",
       "      <td>0.000000</td>\n",
       "      <td>0.000000</td>\n",
       "      <td>0.000000</td>\n",
       "      <td>0.000000</td>\n",
       "      <td>0.000000</td>\n",
       "      <td>0.000000</td>\n",
       "      <td>0.000000</td>\n",
       "      <td>0.000000</td>\n",
       "      <td>0.000000</td>\n",
       "      <td>0.000000</td>\n",
       "    </tr>\n",
       "    <tr>\n",
       "      <th>25%</th>\n",
       "      <td>0.000000</td>\n",
       "      <td>-1.077771e+00</td>\n",
       "      <td>-8.664247e-01</td>\n",
       "      <td>-1.197064e+00</td>\n",
       "      <td>0.000000</td>\n",
       "      <td>0.000000</td>\n",
       "      <td>0.000000</td>\n",
       "      <td>0.000000</td>\n",
       "      <td>0.000000</td>\n",
       "      <td>0.000000</td>\n",
       "      <td>0.000000</td>\n",
       "      <td>0.000000</td>\n",
       "      <td>0.000000</td>\n",
       "      <td>0.000000</td>\n",
       "      <td>0.000000</td>\n",
       "      <td>0.000000</td>\n",
       "      <td>0.000000</td>\n",
       "      <td>0.000000</td>\n",
       "      <td>0.000000</td>\n",
       "      <td>0.000000</td>\n",
       "      <td>0.000000</td>\n",
       "      <td>0.000000</td>\n",
       "      <td>0.000000</td>\n",
       "      <td>0.000000</td>\n",
       "      <td>1.000000</td>\n",
       "      <td>0.000000</td>\n",
       "    </tr>\n",
       "    <tr>\n",
       "      <th>50%</th>\n",
       "      <td>0.000000</td>\n",
       "      <td>-2.352046e-02</td>\n",
       "      <td>-4.439084e-01</td>\n",
       "      <td>-1.175385e-01</td>\n",
       "      <td>0.000000</td>\n",
       "      <td>1.000000</td>\n",
       "      <td>0.000000</td>\n",
       "      <td>0.000000</td>\n",
       "      <td>0.000000</td>\n",
       "      <td>0.000000</td>\n",
       "      <td>0.000000</td>\n",
       "      <td>0.000000</td>\n",
       "      <td>0.000000</td>\n",
       "      <td>0.000000</td>\n",
       "      <td>0.000000</td>\n",
       "      <td>0.000000</td>\n",
       "      <td>0.000000</td>\n",
       "      <td>0.000000</td>\n",
       "      <td>0.000000</td>\n",
       "      <td>0.000000</td>\n",
       "      <td>0.000000</td>\n",
       "      <td>0.000000</td>\n",
       "      <td>0.000000</td>\n",
       "      <td>0.000000</td>\n",
       "      <td>1.000000</td>\n",
       "      <td>0.000000</td>\n",
       "    </tr>\n",
       "    <tr>\n",
       "      <th>75%</th>\n",
       "      <td>0.000000</td>\n",
       "      <td>3.278963e-01</td>\n",
       "      <td>8.112541e-01</td>\n",
       "      <td>4.222245e-01</td>\n",
       "      <td>1.000000</td>\n",
       "      <td>1.000000</td>\n",
       "      <td>0.000000</td>\n",
       "      <td>1.000000</td>\n",
       "      <td>0.000000</td>\n",
       "      <td>0.000000</td>\n",
       "      <td>0.000000</td>\n",
       "      <td>0.000000</td>\n",
       "      <td>0.000000</td>\n",
       "      <td>0.000000</td>\n",
       "      <td>1.000000</td>\n",
       "      <td>0.000000</td>\n",
       "      <td>0.000000</td>\n",
       "      <td>0.000000</td>\n",
       "      <td>0.000000</td>\n",
       "      <td>0.000000</td>\n",
       "      <td>0.000000</td>\n",
       "      <td>0.000000</td>\n",
       "      <td>0.000000</td>\n",
       "      <td>0.000000</td>\n",
       "      <td>1.000000</td>\n",
       "      <td>0.000000</td>\n",
       "    </tr>\n",
       "    <tr>\n",
       "      <th>max</th>\n",
       "      <td>1.000000</td>\n",
       "      <td>4.544897e+00</td>\n",
       "      <td>3.284878e+00</td>\n",
       "      <td>3.121039e+00</td>\n",
       "      <td>1.000000</td>\n",
       "      <td>1.000000</td>\n",
       "      <td>1.000000</td>\n",
       "      <td>1.000000</td>\n",
       "      <td>1.000000</td>\n",
       "      <td>1.000000</td>\n",
       "      <td>1.000000</td>\n",
       "      <td>1.000000</td>\n",
       "      <td>1.000000</td>\n",
       "      <td>1.000000</td>\n",
       "      <td>1.000000</td>\n",
       "      <td>1.000000</td>\n",
       "      <td>1.000000</td>\n",
       "      <td>1.000000</td>\n",
       "      <td>1.000000</td>\n",
       "      <td>1.000000</td>\n",
       "      <td>1.000000</td>\n",
       "      <td>1.000000</td>\n",
       "      <td>1.000000</td>\n",
       "      <td>1.000000</td>\n",
       "      <td>1.000000</td>\n",
       "      <td>1.000000</td>\n",
       "    </tr>\n",
       "  </tbody>\n",
       "</table>\n",
       "</div>"
      ],
      "text/plain": [
       "       Do Not Email   TotalVisits  Total Time Spent on Website  Page Views Per Visit  A free copy of Mastering The Interview  Lead_Origin_Landing Page Submission  Lead_Origin_Lead Form/Import  Lead_Source_Google  Lead_Source_Olark Chat  Lead_Source_Organic Search  Lead_Source_Others  Lead_Source_Reference  Specialization_Business Administration  Specialization_Finance Management  Specialization_Fresher  Specialization_Hospitality Management  Specialization_Human Resource Management  Specialization_IT Projects Management  Specialization_Marketing Management  Specialization_Media and Advertising  Specialization_Operations Management  Specialization_Others  Specialization_Supply Chain Management  Specialization_Travel and Tourism  Current_Occupation_Unemployed  Current_Occupation_Working Professional\n",
       "count   6320.000000  6.320000e+03                 6.320000e+03          6.320000e+03                             6320.000000                          6320.000000                   6320.000000         6320.000000             6320.000000                 6320.000000         6320.000000            6320.000000                             6320.000000                        6320.000000             6320.000000                            6320.000000                               6320.000000                            6320.000000                          6320.000000                           6320.000000                           6320.000000            6320.000000                             6320.000000                        6320.000000                    6320.000000                              6320.000000\n",
       "mean       0.078006  5.995556e-17                 5.793537e-17         -1.449877e-16                                0.306487                             0.527690                      0.082437            0.316139                0.193513                    0.118354            0.037184               0.055063                                0.042563                           0.108228                0.371994                               0.012342                                  0.089399                               0.037342                             0.095728                              0.021203                              0.052057               0.077848                                0.036867                           0.022627                       0.899051                                 0.075158\n",
       "std        0.268203  1.000079e+00                 1.000079e+00          1.000079e+00                                0.461071                             0.499272                      0.275051            0.465005                0.395083                    0.323053            0.189226               0.228122                                0.201886                           0.310693                0.483375                               0.110415                                  0.285341                               0.189613                             0.294241                              0.144070                              0.222160               0.267954                                0.188450                           0.148722                       0.301286                                 0.263667\n",
       "min        0.000000 -1.077771e+00                -8.843163e-01         -1.197064e+00                                0.000000                             0.000000                      0.000000            0.000000                0.000000                    0.000000            0.000000               0.000000                                0.000000                           0.000000                0.000000                               0.000000                                  0.000000                               0.000000                             0.000000                              0.000000                              0.000000               0.000000                                0.000000                           0.000000                       0.000000                                 0.000000\n",
       "25%        0.000000 -1.077771e+00                -8.664247e-01         -1.197064e+00                                0.000000                             0.000000                      0.000000            0.000000                0.000000                    0.000000            0.000000               0.000000                                0.000000                           0.000000                0.000000                               0.000000                                  0.000000                               0.000000                             0.000000                              0.000000                              0.000000               0.000000                                0.000000                           0.000000                       1.000000                                 0.000000\n",
       "50%        0.000000 -2.352046e-02                -4.439084e-01         -1.175385e-01                                0.000000                             1.000000                      0.000000            0.000000                0.000000                    0.000000            0.000000               0.000000                                0.000000                           0.000000                0.000000                               0.000000                                  0.000000                               0.000000                             0.000000                              0.000000                              0.000000               0.000000                                0.000000                           0.000000                       1.000000                                 0.000000\n",
       "75%        0.000000  3.278963e-01                 8.112541e-01          4.222245e-01                                1.000000                             1.000000                      0.000000            1.000000                0.000000                    0.000000            0.000000               0.000000                                0.000000                           0.000000                1.000000                               0.000000                                  0.000000                               0.000000                             0.000000                              0.000000                              0.000000               0.000000                                0.000000                           0.000000                       1.000000                                 0.000000\n",
       "max        1.000000  4.544897e+00                 3.284878e+00          3.121039e+00                                1.000000                             1.000000                      1.000000            1.000000                1.000000                    1.000000            1.000000               1.000000                                1.000000                           1.000000                1.000000                               1.000000                                  1.000000                               1.000000                             1.000000                              1.000000                              1.000000               1.000000                                1.000000                           1.000000                       1.000000                                 1.000000"
      ]
     },
     "execution_count": 56,
     "metadata": {},
     "output_type": "execute_result"
    }
   ],
   "source": [
    "X_train.describe()"
   ]
  },
  {
   "cell_type": "markdown",
   "metadata": {},
   "source": [
    "## Step 5: Building the model"
   ]
  },
  {
   "cell_type": "markdown",
   "metadata": {},
   "source": [
    "#### We are going with Logistic regression model, as we have to focus on the classification of the leads that is going to be converted or not."
   ]
  },
  {
   "cell_type": "code",
   "execution_count": 57,
   "metadata": {},
   "outputs": [
    {
     "data": {
      "text/html": [
       "<table class=\"simpletable\">\n",
       "<caption>Generalized Linear Model Regression Results</caption>\n",
       "<tr>\n",
       "  <th>Dep. Variable:</th>       <td>Converted</td>    <th>  No. Observations:  </th>  <td>  6320</td> \n",
       "</tr>\n",
       "<tr>\n",
       "  <th>Model:</th>                  <td>GLM</td>       <th>  Df Residuals:      </th>  <td>  6293</td> \n",
       "</tr>\n",
       "<tr>\n",
       "  <th>Model Family:</th>        <td>Binomial</td>     <th>  Df Model:          </th>  <td>    26</td> \n",
       "</tr>\n",
       "<tr>\n",
       "  <th>Link Function:</th>         <td>logit</td>      <th>  Scale:             </th> <td>  1.0000</td>\n",
       "</tr>\n",
       "<tr>\n",
       "  <th>Method:</th>                <td>IRLS</td>       <th>  Log-Likelihood:    </th> <td> -2986.1</td>\n",
       "</tr>\n",
       "<tr>\n",
       "  <th>Date:</th>            <td>Mon, 17 May 2021</td> <th>  Deviance:          </th> <td>  5972.2</td>\n",
       "</tr>\n",
       "<tr>\n",
       "  <th>Time:</th>                <td>20:32:53</td>     <th>  Pearson chi2:      </th> <td>8.58e+03</td>\n",
       "</tr>\n",
       "<tr>\n",
       "  <th>No. Iterations:</th>          <td>6</td>        <th>                     </th>     <td> </td>   \n",
       "</tr>\n",
       "<tr>\n",
       "  <th>Covariance Type:</th>     <td>nonrobust</td>    <th>                     </th>     <td> </td>   \n",
       "</tr>\n",
       "</table>\n",
       "<table class=\"simpletable\">\n",
       "<tr>\n",
       "                      <td></td>                        <th>coef</th>     <th>std err</th>      <th>z</th>      <th>P>|z|</th>  <th>[0.025</th>    <th>0.975]</th>  \n",
       "</tr>\n",
       "<tr>\n",
       "  <th>const</th>                                    <td>    0.2214</td> <td>    0.297</td> <td>    0.744</td> <td> 0.457</td> <td>   -0.361</td> <td>    0.804</td>\n",
       "</tr>\n",
       "<tr>\n",
       "  <th>Do Not Email</th>                             <td>   -1.0561</td> <td>    0.152</td> <td>   -6.967</td> <td> 0.000</td> <td>   -1.353</td> <td>   -0.759</td>\n",
       "</tr>\n",
       "<tr>\n",
       "  <th>TotalVisits</th>                              <td>    0.1773</td> <td>    0.047</td> <td>    3.754</td> <td> 0.000</td> <td>    0.085</td> <td>    0.270</td>\n",
       "</tr>\n",
       "<tr>\n",
       "  <th>Total Time Spent on Website</th>              <td>    1.0587</td> <td>    0.038</td> <td>   27.842</td> <td> 0.000</td> <td>    0.984</td> <td>    1.133</td>\n",
       "</tr>\n",
       "<tr>\n",
       "  <th>Page Views Per Visit</th>                     <td>   -0.0415</td> <td>    0.054</td> <td>   -0.772</td> <td> 0.440</td> <td>   -0.147</td> <td>    0.064</td>\n",
       "</tr>\n",
       "<tr>\n",
       "  <th>A free copy of Mastering The Interview</th>   <td>   -0.1311</td> <td>    0.103</td> <td>   -1.272</td> <td> 0.203</td> <td>   -0.333</td> <td>    0.071</td>\n",
       "</tr>\n",
       "<tr>\n",
       "  <th>Lead_Origin_Landing Page Submission</th>      <td>   -0.7940</td> <td>    0.130</td> <td>   -6.127</td> <td> 0.000</td> <td>   -1.048</td> <td>   -0.540</td>\n",
       "</tr>\n",
       "<tr>\n",
       "  <th>Lead_Origin_Lead Form/Import</th>             <td>    3.7056</td> <td>    0.303</td> <td>   12.244</td> <td> 0.000</td> <td>    3.112</td> <td>    4.299</td>\n",
       "</tr>\n",
       "<tr>\n",
       "  <th>Lead_Source_Google</th>                       <td>    0.1908</td> <td>    0.107</td> <td>    1.785</td> <td> 0.074</td> <td>   -0.019</td> <td>    0.400</td>\n",
       "</tr>\n",
       "<tr>\n",
       "  <th>Lead_Source_Olark Chat</th>                   <td>    1.0829</td> <td>    0.151</td> <td>    7.149</td> <td> 0.000</td> <td>    0.786</td> <td>    1.380</td>\n",
       "</tr>\n",
       "<tr>\n",
       "  <th>Lead_Source_Organic Search</th>               <td>    0.1152</td> <td>    0.124</td> <td>    0.933</td> <td> 0.351</td> <td>   -0.127</td> <td>    0.357</td>\n",
       "</tr>\n",
       "<tr>\n",
       "  <th>Lead_Source_Others</th>                       <td>   -0.2546</td> <td>    0.270</td> <td>   -0.943</td> <td> 0.346</td> <td>   -0.784</td> <td>    0.275</td>\n",
       "</tr>\n",
       "<tr>\n",
       "  <th>Lead_Source_Reference</th>                    <td>    0.0124</td> <td>    0.369</td> <td>    0.034</td> <td> 0.973</td> <td>   -0.710</td> <td>    0.735</td>\n",
       "</tr>\n",
       "<tr>\n",
       "  <th>Specialization_Business Administration</th>   <td>   -0.3329</td> <td>    0.234</td> <td>   -1.421</td> <td> 0.155</td> <td>   -0.792</td> <td>    0.126</td>\n",
       "</tr>\n",
       "<tr>\n",
       "  <th>Specialization_Finance Management</th>        <td>   -0.4698</td> <td>    0.203</td> <td>   -2.317</td> <td> 0.021</td> <td>   -0.867</td> <td>   -0.072</td>\n",
       "</tr>\n",
       "<tr>\n",
       "  <th>Specialization_Fresher</th>                   <td>   -1.4963</td> <td>    0.209</td> <td>   -7.168</td> <td> 0.000</td> <td>   -1.905</td> <td>   -1.087</td>\n",
       "</tr>\n",
       "<tr>\n",
       "  <th>Specialization_Hospitality Management</th>    <td>   -0.9786</td> <td>    0.349</td> <td>   -2.808</td> <td> 0.005</td> <td>   -1.662</td> <td>   -0.295</td>\n",
       "</tr>\n",
       "<tr>\n",
       "  <th>Specialization_Human Resource Management</th> <td>   -0.2737</td> <td>    0.207</td> <td>   -1.324</td> <td> 0.186</td> <td>   -0.679</td> <td>    0.132</td>\n",
       "</tr>\n",
       "<tr>\n",
       "  <th>Specialization_IT Projects Management</th>    <td>   -0.4446</td> <td>    0.247</td> <td>   -1.802</td> <td> 0.072</td> <td>   -0.928</td> <td>    0.039</td>\n",
       "</tr>\n",
       "<tr>\n",
       "  <th>Specialization_Marketing Management</th>      <td>   -0.2601</td> <td>    0.205</td> <td>   -1.267</td> <td> 0.205</td> <td>   -0.662</td> <td>    0.142</td>\n",
       "</tr>\n",
       "<tr>\n",
       "  <th>Specialization_Media and Advertising</th>     <td>   -0.6143</td> <td>    0.280</td> <td>   -2.193</td> <td> 0.028</td> <td>   -1.163</td> <td>   -0.065</td>\n",
       "</tr>\n",
       "<tr>\n",
       "  <th>Specialization_Operations Management</th>     <td>   -0.2667</td> <td>    0.227</td> <td>   -1.174</td> <td> 0.240</td> <td>   -0.712</td> <td>    0.179</td>\n",
       "</tr>\n",
       "<tr>\n",
       "  <th>Specialization_Others</th>                    <td>   -0.3195</td> <td>    0.211</td> <td>   -1.513</td> <td> 0.130</td> <td>   -0.733</td> <td>    0.094</td>\n",
       "</tr>\n",
       "<tr>\n",
       "  <th>Specialization_Supply Chain Management</th>   <td>   -0.5364</td> <td>    0.245</td> <td>   -2.191</td> <td> 0.028</td> <td>   -1.016</td> <td>   -0.056</td>\n",
       "</tr>\n",
       "<tr>\n",
       "  <th>Specialization_Travel and Tourism</th>        <td>   -0.6159</td> <td>    0.282</td> <td>   -2.185</td> <td> 0.029</td> <td>   -1.168</td> <td>   -0.064</td>\n",
       "</tr>\n",
       "<tr>\n",
       "  <th>Current_Occupation_Unemployed</th>            <td>   -0.1744</td> <td>    0.200</td> <td>   -0.870</td> <td> 0.384</td> <td>   -0.567</td> <td>    0.219</td>\n",
       "</tr>\n",
       "<tr>\n",
       "  <th>Current_Occupation_Working Professional</th>  <td>    2.3924</td> <td>    0.265</td> <td>    9.031</td> <td> 0.000</td> <td>    1.873</td> <td>    2.912</td>\n",
       "</tr>\n",
       "</table>"
      ],
      "text/plain": [
       "<class 'statsmodels.iolib.summary.Summary'>\n",
       "\"\"\"\n",
       "                 Generalized Linear Model Regression Results                  \n",
       "==============================================================================\n",
       "Dep. Variable:              Converted   No. Observations:                 6320\n",
       "Model:                            GLM   Df Residuals:                     6293\n",
       "Model Family:                Binomial   Df Model:                           26\n",
       "Link Function:                  logit   Scale:                          1.0000\n",
       "Method:                          IRLS   Log-Likelihood:                -2986.1\n",
       "Date:                Mon, 17 May 2021   Deviance:                       5972.2\n",
       "Time:                        20:32:53   Pearson chi2:                 8.58e+03\n",
       "No. Iterations:                     6                                         \n",
       "Covariance Type:            nonrobust                                         \n",
       "============================================================================================================\n",
       "                                               coef    std err          z      P>|z|      [0.025      0.975]\n",
       "------------------------------------------------------------------------------------------------------------\n",
       "const                                        0.2214      0.297      0.744      0.457      -0.361       0.804\n",
       "Do Not Email                                -1.0561      0.152     -6.967      0.000      -1.353      -0.759\n",
       "TotalVisits                                  0.1773      0.047      3.754      0.000       0.085       0.270\n",
       "Total Time Spent on Website                  1.0587      0.038     27.842      0.000       0.984       1.133\n",
       "Page Views Per Visit                        -0.0415      0.054     -0.772      0.440      -0.147       0.064\n",
       "A free copy of Mastering The Interview      -0.1311      0.103     -1.272      0.203      -0.333       0.071\n",
       "Lead_Origin_Landing Page Submission         -0.7940      0.130     -6.127      0.000      -1.048      -0.540\n",
       "Lead_Origin_Lead Form/Import                 3.7056      0.303     12.244      0.000       3.112       4.299\n",
       "Lead_Source_Google                           0.1908      0.107      1.785      0.074      -0.019       0.400\n",
       "Lead_Source_Olark Chat                       1.0829      0.151      7.149      0.000       0.786       1.380\n",
       "Lead_Source_Organic Search                   0.1152      0.124      0.933      0.351      -0.127       0.357\n",
       "Lead_Source_Others                          -0.2546      0.270     -0.943      0.346      -0.784       0.275\n",
       "Lead_Source_Reference                        0.0124      0.369      0.034      0.973      -0.710       0.735\n",
       "Specialization_Business Administration      -0.3329      0.234     -1.421      0.155      -0.792       0.126\n",
       "Specialization_Finance Management           -0.4698      0.203     -2.317      0.021      -0.867      -0.072\n",
       "Specialization_Fresher                      -1.4963      0.209     -7.168      0.000      -1.905      -1.087\n",
       "Specialization_Hospitality Management       -0.9786      0.349     -2.808      0.005      -1.662      -0.295\n",
       "Specialization_Human Resource Management    -0.2737      0.207     -1.324      0.186      -0.679       0.132\n",
       "Specialization_IT Projects Management       -0.4446      0.247     -1.802      0.072      -0.928       0.039\n",
       "Specialization_Marketing Management         -0.2601      0.205     -1.267      0.205      -0.662       0.142\n",
       "Specialization_Media and Advertising        -0.6143      0.280     -2.193      0.028      -1.163      -0.065\n",
       "Specialization_Operations Management        -0.2667      0.227     -1.174      0.240      -0.712       0.179\n",
       "Specialization_Others                       -0.3195      0.211     -1.513      0.130      -0.733       0.094\n",
       "Specialization_Supply Chain Management      -0.5364      0.245     -2.191      0.028      -1.016      -0.056\n",
       "Specialization_Travel and Tourism           -0.6159      0.282     -2.185      0.029      -1.168      -0.064\n",
       "Current_Occupation_Unemployed               -0.1744      0.200     -0.870      0.384      -0.567       0.219\n",
       "Current_Occupation_Working Professional      2.3924      0.265      9.031      0.000       1.873       2.912\n",
       "============================================================================================================\n",
       "\"\"\""
      ]
     },
     "execution_count": 57,
     "metadata": {},
     "output_type": "execute_result"
    }
   ],
   "source": [
    "logm1 = sm.GLM(y_train,(sm.add_constant(X_train)), family = sm.families.Binomial())\n",
    "logm1.fit().summary()"
   ]
  },
  {
   "cell_type": "code",
   "execution_count": 58,
   "metadata": {},
   "outputs": [],
   "source": [
    "#### Running RFE with the output number of the variable equal to 18\n",
    "logreg = LogisticRegression()\n",
    "rfe = RFE(logreg, 18)          \n",
    "rfe = rfe.fit(X_train, y_train)"
   ]
  },
  {
   "cell_type": "code",
   "execution_count": 59,
   "metadata": {},
   "outputs": [
    {
     "data": {
      "text/plain": [
       "['Do Not Email',\n",
       " 'TotalVisits',\n",
       " 'Total Time Spent on Website',\n",
       " 'A free copy of Mastering The Interview',\n",
       " 'Lead_Origin_Landing Page Submission',\n",
       " 'Lead_Origin_Lead Form/Import',\n",
       " 'Lead_Source_Google',\n",
       " 'Lead_Source_Olark Chat',\n",
       " 'Lead_Source_Reference',\n",
       " 'Specialization_Finance Management',\n",
       " 'Specialization_Fresher',\n",
       " 'Specialization_Hospitality Management',\n",
       " 'Specialization_IT Projects Management',\n",
       " 'Specialization_Media and Advertising',\n",
       " 'Specialization_Supply Chain Management',\n",
       " 'Specialization_Travel and Tourism',\n",
       " 'Current_Occupation_Unemployed',\n",
       " 'Current_Occupation_Working Professional']"
      ]
     },
     "execution_count": 59,
     "metadata": {},
     "output_type": "execute_result"
    }
   ],
   "source": [
    "list(X_train.columns[rfe.support_])"
   ]
  },
  {
   "cell_type": "code",
   "execution_count": 60,
   "metadata": {},
   "outputs": [],
   "source": [
    "X_train_rfe = X_train[X_train.columns[rfe.support_]]"
   ]
  },
  {
   "cell_type": "code",
   "execution_count": 61,
   "metadata": {},
   "outputs": [],
   "source": [
    "def build_model(X,y):\n",
    "    X = sm.add_constant(X)\n",
    "    logm2 = sm.GLM(y,X, family = sm.families.Binomial())\n",
    "    res = logm2.fit()\n",
    "    print(res.summary())\n",
    "    return X\n",
    "\n",
    "def checkVIF(dataset):\n",
    "    col=['const']\n",
    "    dataset = dataset.drop([x for x in col if x in dataset.columns], axis=1)\n",
    "    vif = pd.DataFrame()\n",
    "    vif['Features'] = dataset.columns\n",
    "    vif['VIF'] = [variance_inflation_factor(dataset.values, i) for i in range(dataset.shape[1])]\n",
    "    vif['VIF'] = round(vif['VIF'], 2)\n",
    "    vif = vif.sort_values(by = \"VIF\", ascending = False)\n",
    "    return(vif)"
   ]
  },
  {
   "cell_type": "code",
   "execution_count": 62,
   "metadata": {},
   "outputs": [
    {
     "name": "stdout",
     "output_type": "stream",
     "text": [
      "                 Generalized Linear Model Regression Results                  \n",
      "==============================================================================\n",
      "Dep. Variable:              Converted   No. Observations:                 6320\n",
      "Model:                            GLM   Df Residuals:                     6301\n",
      "Model Family:                Binomial   Df Model:                           18\n",
      "Link Function:                  logit   Scale:                          1.0000\n",
      "Method:                          IRLS   Log-Likelihood:                -2988.7\n",
      "Date:                Mon, 17 May 2021   Deviance:                       5977.4\n",
      "Time:                        20:32:55   Pearson chi2:                 8.59e+03\n",
      "No. Iterations:                     6                                         \n",
      "Covariance Type:            nonrobust                                         \n",
      "===========================================================================================================\n",
      "                                              coef    std err          z      P>|z|      [0.025      0.975]\n",
      "-----------------------------------------------------------------------------------------------------------\n",
      "const                                      -0.0166      0.240     -0.069      0.945      -0.488       0.454\n",
      "Do Not Email                               -1.0480      0.151     -6.949      0.000      -1.344      -0.752\n",
      "TotalVisits                                 0.1681      0.041      4.152      0.000       0.089       0.248\n",
      "Total Time Spent on Website                 1.0576      0.038     27.837      0.000       0.983       1.132\n",
      "A free copy of Mastering The Interview     -0.1263      0.101     -1.256      0.209      -0.323       0.071\n",
      "Lead_Origin_Landing Page Submission        -0.8178      0.126     -6.502      0.000      -1.064      -0.571\n",
      "Lead_Origin_Lead Form/Import                3.5032      0.218     16.076      0.000       3.076       3.930\n",
      "Lead_Source_Google                          0.1720      0.091      1.889      0.059      -0.006       0.351\n",
      "Lead_Source_Olark Chat                      1.0954      0.136      8.069      0.000       0.829       1.362\n",
      "Lead_Source_Reference                       0.2295      0.283      0.812      0.417      -0.325       0.784\n",
      "Specialization_Finance Management          -0.2054      0.111     -1.845      0.065      -0.424       0.013\n",
      "Specialization_Fresher                     -1.2298      0.123     -9.992      0.000      -1.471      -0.989\n",
      "Specialization_Hospitality Management      -0.7012      0.304     -2.308      0.021      -1.297      -0.106\n",
      "Specialization_IT Projects Management      -0.1833      0.179     -1.024      0.306      -0.534       0.168\n",
      "Specialization_Media and Advertising       -0.3399      0.223     -1.527      0.127      -0.776       0.096\n",
      "Specialization_Supply Chain Management     -0.2720      0.177     -1.541      0.123      -0.618       0.074\n",
      "Specialization_Travel and Tourism          -0.3334      0.223     -1.495      0.135      -0.770       0.104\n",
      "Current_Occupation_Unemployed              -0.1783      0.200     -0.892      0.372      -0.570       0.213\n",
      "Current_Occupation_Working Professional     2.3858      0.264      9.029      0.000       1.868       2.904\n",
      "===========================================================================================================\n"
     ]
    }
   ],
   "source": [
    "X_train_model = build_model(X_train_rfe,y_train)"
   ]
  },
  {
   "cell_type": "code",
   "execution_count": 63,
   "metadata": {},
   "outputs": [
    {
     "data": {
      "text/html": [
       "<div>\n",
       "<style scoped>\n",
       "    .dataframe tbody tr th:only-of-type {\n",
       "        vertical-align: middle;\n",
       "    }\n",
       "\n",
       "    .dataframe tbody tr th {\n",
       "        vertical-align: top;\n",
       "    }\n",
       "\n",
       "    .dataframe thead th {\n",
       "        text-align: right;\n",
       "    }\n",
       "</style>\n",
       "<table border=\"1\" class=\"dataframe\">\n",
       "  <thead>\n",
       "    <tr style=\"text-align: right;\">\n",
       "      <th></th>\n",
       "      <th>Features</th>\n",
       "      <th>VIF</th>\n",
       "    </tr>\n",
       "  </thead>\n",
       "  <tbody>\n",
       "    <tr>\n",
       "      <th>16</th>\n",
       "      <td>Current_Occupation_Unemployed</td>\n",
       "      <td>12.59</td>\n",
       "    </tr>\n",
       "    <tr>\n",
       "      <th>4</th>\n",
       "      <td>Lead_Origin_Landing Page Submission</td>\n",
       "      <td>6.38</td>\n",
       "    </tr>\n",
       "    <tr>\n",
       "      <th>10</th>\n",
       "      <td>Specialization_Fresher</td>\n",
       "      <td>4.27</td>\n",
       "    </tr>\n",
       "    <tr>\n",
       "      <th>5</th>\n",
       "      <td>Lead_Origin_Lead Form/Import</td>\n",
       "      <td>3.74</td>\n",
       "    </tr>\n",
       "    <tr>\n",
       "      <th>8</th>\n",
       "      <td>Lead_Source_Reference</td>\n",
       "      <td>3.24</td>\n",
       "    </tr>\n",
       "    <tr>\n",
       "      <th>3</th>\n",
       "      <td>A free copy of Mastering The Interview</td>\n",
       "      <td>2.93</td>\n",
       "    </tr>\n",
       "    <tr>\n",
       "      <th>7</th>\n",
       "      <td>Lead_Source_Olark Chat</td>\n",
       "      <td>2.90</td>\n",
       "    </tr>\n",
       "    <tr>\n",
       "      <th>6</th>\n",
       "      <td>Lead_Source_Google</td>\n",
       "      <td>2.43</td>\n",
       "    </tr>\n",
       "    <tr>\n",
       "      <th>17</th>\n",
       "      <td>Current_Occupation_Working Professional</td>\n",
       "      <td>1.85</td>\n",
       "    </tr>\n",
       "    <tr>\n",
       "      <th>1</th>\n",
       "      <td>TotalVisits</td>\n",
       "      <td>1.63</td>\n",
       "    </tr>\n",
       "    <tr>\n",
       "      <th>9</th>\n",
       "      <td>Specialization_Finance Management</td>\n",
       "      <td>1.27</td>\n",
       "    </tr>\n",
       "    <tr>\n",
       "      <th>2</th>\n",
       "      <td>Total Time Spent on Website</td>\n",
       "      <td>1.27</td>\n",
       "    </tr>\n",
       "    <tr>\n",
       "      <th>0</th>\n",
       "      <td>Do Not Email</td>\n",
       "      <td>1.12</td>\n",
       "    </tr>\n",
       "    <tr>\n",
       "      <th>12</th>\n",
       "      <td>Specialization_IT Projects Management</td>\n",
       "      <td>1.11</td>\n",
       "    </tr>\n",
       "    <tr>\n",
       "      <th>14</th>\n",
       "      <td>Specialization_Supply Chain Management</td>\n",
       "      <td>1.10</td>\n",
       "    </tr>\n",
       "    <tr>\n",
       "      <th>15</th>\n",
       "      <td>Specialization_Travel and Tourism</td>\n",
       "      <td>1.08</td>\n",
       "    </tr>\n",
       "    <tr>\n",
       "      <th>13</th>\n",
       "      <td>Specialization_Media and Advertising</td>\n",
       "      <td>1.06</td>\n",
       "    </tr>\n",
       "    <tr>\n",
       "      <th>11</th>\n",
       "      <td>Specialization_Hospitality Management</td>\n",
       "      <td>1.03</td>\n",
       "    </tr>\n",
       "  </tbody>\n",
       "</table>\n",
       "</div>"
      ],
      "text/plain": [
       "                                   Features    VIF\n",
       "16            Current_Occupation_Unemployed  12.59\n",
       "4       Lead_Origin_Landing Page Submission   6.38\n",
       "10                   Specialization_Fresher   4.27\n",
       "5              Lead_Origin_Lead Form/Import   3.74\n",
       "8                     Lead_Source_Reference   3.24\n",
       "3    A free copy of Mastering The Interview   2.93\n",
       "7                    Lead_Source_Olark Chat   2.90\n",
       "6                        Lead_Source_Google   2.43\n",
       "17  Current_Occupation_Working Professional   1.85\n",
       "1                               TotalVisits   1.63\n",
       "9         Specialization_Finance Management   1.27\n",
       "2               Total Time Spent on Website   1.27\n",
       "0                              Do Not Email   1.12\n",
       "12    Specialization_IT Projects Management   1.11\n",
       "14   Specialization_Supply Chain Management   1.10\n",
       "15        Specialization_Travel and Tourism   1.08\n",
       "13     Specialization_Media and Advertising   1.06\n",
       "11    Specialization_Hospitality Management   1.03"
      ]
     },
     "execution_count": 63,
     "metadata": {},
     "output_type": "execute_result"
    }
   ],
   "source": [
    "checkVIF(X_train_model)"
   ]
  },
  {
   "cell_type": "markdown",
   "metadata": {},
   "source": [
    "#### 'Current_Occupation_Unemployed' has high p value and high VIF, so we drop the column & rebuild the model"
   ]
  },
  {
   "cell_type": "code",
   "execution_count": 64,
   "metadata": {},
   "outputs": [],
   "source": [
    "X_train_model = X_train_model.drop([\"Current_Occupation_Unemployed\"], axis = 1)"
   ]
  },
  {
   "cell_type": "code",
   "execution_count": 65,
   "metadata": {},
   "outputs": [
    {
     "name": "stdout",
     "output_type": "stream",
     "text": [
      "                 Generalized Linear Model Regression Results                  \n",
      "==============================================================================\n",
      "Dep. Variable:              Converted   No. Observations:                 6320\n",
      "Model:                            GLM   Df Residuals:                     6302\n",
      "Model Family:                Binomial   Df Model:                           17\n",
      "Link Function:                  logit   Scale:                          1.0000\n",
      "Method:                          IRLS   Log-Likelihood:                -2989.1\n",
      "Date:                Mon, 17 May 2021   Deviance:                       5978.2\n",
      "Time:                        20:32:55   Pearson chi2:                 8.61e+03\n",
      "No. Iterations:                     6                                         \n",
      "Covariance Type:            nonrobust                                         \n",
      "===========================================================================================================\n",
      "                                              coef    std err          z      P>|z|      [0.025      0.975]\n",
      "-----------------------------------------------------------------------------------------------------------\n",
      "const                                      -0.1878      0.144     -1.301      0.193      -0.471       0.095\n",
      "Do Not Email                               -1.0483      0.151     -6.951      0.000      -1.344      -0.753\n",
      "TotalVisits                                 0.1682      0.040      4.155      0.000       0.089       0.248\n",
      "Total Time Spent on Website                 1.0584      0.038     27.860      0.000       0.984       1.133\n",
      "A free copy of Mastering The Interview     -0.1288      0.101     -1.281      0.200      -0.326       0.068\n",
      "Lead_Origin_Landing Page Submission        -0.8176      0.126     -6.500      0.000      -1.064      -0.571\n",
      "Lead_Origin_Lead Form/Import                3.5007      0.218     16.066      0.000       3.074       3.928\n",
      "Lead_Source_Google                          0.1691      0.091      1.858      0.063      -0.009       0.347\n",
      "Lead_Source_Olark Chat                      1.0975      0.136      8.086      0.000       0.831       1.363\n",
      "Lead_Source_Reference                       0.2339      0.283      0.827      0.408      -0.320       0.788\n",
      "Specialization_Finance Management          -0.2047      0.111     -1.839      0.066      -0.423       0.013\n",
      "Specialization_Fresher                     -1.2322      0.123    -10.013      0.000      -1.473      -0.991\n",
      "Specialization_Hospitality Management      -0.7001      0.304     -2.303      0.021      -1.296      -0.104\n",
      "Specialization_IT Projects Management      -0.1835      0.179     -1.025      0.305      -0.534       0.167\n",
      "Specialization_Media and Advertising       -0.3402      0.223     -1.529      0.126      -0.776       0.096\n",
      "Specialization_Supply Chain Management     -0.2750      0.177     -1.557      0.119      -0.621       0.071\n",
      "Specialization_Travel and Tourism          -0.3387      0.223     -1.519      0.129      -0.776       0.098\n",
      "Current_Occupation_Working Professional     2.5591      0.179     14.276      0.000       2.208       2.911\n",
      "===========================================================================================================\n"
     ]
    }
   ],
   "source": [
    "X_train_model = build_model(X_train_model,y_train)"
   ]
  },
  {
   "cell_type": "code",
   "execution_count": 66,
   "metadata": {},
   "outputs": [
    {
     "data": {
      "text/html": [
       "<div>\n",
       "<style scoped>\n",
       "    .dataframe tbody tr th:only-of-type {\n",
       "        vertical-align: middle;\n",
       "    }\n",
       "\n",
       "    .dataframe tbody tr th {\n",
       "        vertical-align: top;\n",
       "    }\n",
       "\n",
       "    .dataframe thead th {\n",
       "        text-align: right;\n",
       "    }\n",
       "</style>\n",
       "<table border=\"1\" class=\"dataframe\">\n",
       "  <thead>\n",
       "    <tr style=\"text-align: right;\">\n",
       "      <th></th>\n",
       "      <th>Features</th>\n",
       "      <th>VIF</th>\n",
       "    </tr>\n",
       "  </thead>\n",
       "  <tbody>\n",
       "    <tr>\n",
       "      <th>4</th>\n",
       "      <td>Lead_Origin_Landing Page Submission</td>\n",
       "      <td>3.69</td>\n",
       "    </tr>\n",
       "    <tr>\n",
       "      <th>5</th>\n",
       "      <td>Lead_Origin_Lead Form/Import</td>\n",
       "      <td>3.49</td>\n",
       "    </tr>\n",
       "    <tr>\n",
       "      <th>8</th>\n",
       "      <td>Lead_Source_Reference</td>\n",
       "      <td>3.19</td>\n",
       "    </tr>\n",
       "    <tr>\n",
       "      <th>3</th>\n",
       "      <td>A free copy of Mastering The Interview</td>\n",
       "      <td>2.63</td>\n",
       "    </tr>\n",
       "    <tr>\n",
       "      <th>10</th>\n",
       "      <td>Specialization_Fresher</td>\n",
       "      <td>2.34</td>\n",
       "    </tr>\n",
       "    <tr>\n",
       "      <th>7</th>\n",
       "      <td>Lead_Source_Olark Chat</td>\n",
       "      <td>2.29</td>\n",
       "    </tr>\n",
       "    <tr>\n",
       "      <th>6</th>\n",
       "      <td>Lead_Source_Google</td>\n",
       "      <td>1.93</td>\n",
       "    </tr>\n",
       "    <tr>\n",
       "      <th>1</th>\n",
       "      <td>TotalVisits</td>\n",
       "      <td>1.60</td>\n",
       "    </tr>\n",
       "    <tr>\n",
       "      <th>2</th>\n",
       "      <td>Total Time Spent on Website</td>\n",
       "      <td>1.27</td>\n",
       "    </tr>\n",
       "    <tr>\n",
       "      <th>9</th>\n",
       "      <td>Specialization_Finance Management</td>\n",
       "      <td>1.25</td>\n",
       "    </tr>\n",
       "    <tr>\n",
       "      <th>16</th>\n",
       "      <td>Current_Occupation_Working Professional</td>\n",
       "      <td>1.19</td>\n",
       "    </tr>\n",
       "    <tr>\n",
       "      <th>0</th>\n",
       "      <td>Do Not Email</td>\n",
       "      <td>1.12</td>\n",
       "    </tr>\n",
       "    <tr>\n",
       "      <th>12</th>\n",
       "      <td>Specialization_IT Projects Management</td>\n",
       "      <td>1.10</td>\n",
       "    </tr>\n",
       "    <tr>\n",
       "      <th>14</th>\n",
       "      <td>Specialization_Supply Chain Management</td>\n",
       "      <td>1.09</td>\n",
       "    </tr>\n",
       "    <tr>\n",
       "      <th>15</th>\n",
       "      <td>Specialization_Travel and Tourism</td>\n",
       "      <td>1.07</td>\n",
       "    </tr>\n",
       "    <tr>\n",
       "      <th>13</th>\n",
       "      <td>Specialization_Media and Advertising</td>\n",
       "      <td>1.05</td>\n",
       "    </tr>\n",
       "    <tr>\n",
       "      <th>11</th>\n",
       "      <td>Specialization_Hospitality Management</td>\n",
       "      <td>1.03</td>\n",
       "    </tr>\n",
       "  </tbody>\n",
       "</table>\n",
       "</div>"
      ],
      "text/plain": [
       "                                   Features   VIF\n",
       "4       Lead_Origin_Landing Page Submission  3.69\n",
       "5              Lead_Origin_Lead Form/Import  3.49\n",
       "8                     Lead_Source_Reference  3.19\n",
       "3    A free copy of Mastering The Interview  2.63\n",
       "10                   Specialization_Fresher  2.34\n",
       "7                    Lead_Source_Olark Chat  2.29\n",
       "6                        Lead_Source_Google  1.93\n",
       "1                               TotalVisits  1.60\n",
       "2               Total Time Spent on Website  1.27\n",
       "9         Specialization_Finance Management  1.25\n",
       "16  Current_Occupation_Working Professional  1.19\n",
       "0                              Do Not Email  1.12\n",
       "12    Specialization_IT Projects Management  1.10\n",
       "14   Specialization_Supply Chain Management  1.09\n",
       "15        Specialization_Travel and Tourism  1.07\n",
       "13     Specialization_Media and Advertising  1.05\n",
       "11    Specialization_Hospitality Management  1.03"
      ]
     },
     "execution_count": 66,
     "metadata": {},
     "output_type": "execute_result"
    }
   ],
   "source": [
    "checkVIF(X_train_model)"
   ]
  },
  {
   "cell_type": "markdown",
   "metadata": {},
   "source": [
    "#### We see 'Specialization_IT Projects Management' has high p value, hence we drop this column "
   ]
  },
  {
   "cell_type": "code",
   "execution_count": 67,
   "metadata": {},
   "outputs": [],
   "source": [
    "X_train_model = X_train_model.drop([\"Specialization_IT Projects Management\"], axis = 1)"
   ]
  },
  {
   "cell_type": "code",
   "execution_count": 68,
   "metadata": {},
   "outputs": [
    {
     "name": "stdout",
     "output_type": "stream",
     "text": [
      "                 Generalized Linear Model Regression Results                  \n",
      "==============================================================================\n",
      "Dep. Variable:              Converted   No. Observations:                 6320\n",
      "Model:                            GLM   Df Residuals:                     6303\n",
      "Model Family:                Binomial   Df Model:                           16\n",
      "Link Function:                  logit   Scale:                          1.0000\n",
      "Method:                          IRLS   Log-Likelihood:                -2989.6\n",
      "Date:                Mon, 17 May 2021   Deviance:                       5979.2\n",
      "Time:                        20:32:56   Pearson chi2:                 8.58e+03\n",
      "No. Iterations:                     6                                         \n",
      "Covariance Type:            nonrobust                                         \n",
      "===========================================================================================================\n",
      "                                              coef    std err          z      P>|z|      [0.025      0.975]\n",
      "-----------------------------------------------------------------------------------------------------------\n",
      "const                                      -0.2028      0.144     -1.413      0.158      -0.484       0.079\n",
      "Do Not Email                               -1.0553      0.151     -7.009      0.000      -1.350      -0.760\n",
      "TotalVisits                                 0.1696      0.040      4.192      0.000       0.090       0.249\n",
      "Total Time Spent on Website                 1.0593      0.038     27.887      0.000       0.985       1.134\n",
      "A free copy of Mastering The Interview     -0.1308      0.100     -1.302      0.193      -0.328       0.066\n",
      "Lead_Origin_Landing Page Submission        -0.8177      0.126     -6.504      0.000      -1.064      -0.571\n",
      "Lead_Origin_Lead Form/Import                3.5056      0.218     16.091      0.000       3.079       3.933\n",
      "Lead_Source_Google                          0.1693      0.091      1.861      0.063      -0.009       0.348\n",
      "Lead_Source_Olark Chat                      1.1016      0.136      8.120      0.000       0.836       1.368\n",
      "Lead_Source_Reference                       0.2345      0.283      0.830      0.407      -0.320       0.789\n",
      "Specialization_Finance Management          -0.1897      0.110     -1.718      0.086      -0.406       0.027\n",
      "Specialization_Fresher                     -1.2185      0.122     -9.963      0.000      -1.458      -0.979\n",
      "Specialization_Hospitality Management      -0.6852      0.304     -2.256      0.024      -1.280      -0.090\n",
      "Specialization_Media and Advertising       -0.3252      0.222     -1.464      0.143      -0.761       0.110\n",
      "Specialization_Supply Chain Management     -0.2597      0.176     -1.475      0.140      -0.605       0.085\n",
      "Specialization_Travel and Tourism          -0.3229      0.222     -1.451      0.147      -0.759       0.113\n",
      "Current_Occupation_Working Professional     2.5580      0.179     14.273      0.000       2.207       2.909\n",
      "===========================================================================================================\n"
     ]
    }
   ],
   "source": [
    "X_train_model = build_model(X_train_model,y_train)"
   ]
  },
  {
   "cell_type": "code",
   "execution_count": 69,
   "metadata": {},
   "outputs": [
    {
     "data": {
      "text/html": [
       "<div>\n",
       "<style scoped>\n",
       "    .dataframe tbody tr th:only-of-type {\n",
       "        vertical-align: middle;\n",
       "    }\n",
       "\n",
       "    .dataframe tbody tr th {\n",
       "        vertical-align: top;\n",
       "    }\n",
       "\n",
       "    .dataframe thead th {\n",
       "        text-align: right;\n",
       "    }\n",
       "</style>\n",
       "<table border=\"1\" class=\"dataframe\">\n",
       "  <thead>\n",
       "    <tr style=\"text-align: right;\">\n",
       "      <th></th>\n",
       "      <th>Features</th>\n",
       "      <th>VIF</th>\n",
       "    </tr>\n",
       "  </thead>\n",
       "  <tbody>\n",
       "    <tr>\n",
       "      <th>4</th>\n",
       "      <td>Lead_Origin_Landing Page Submission</td>\n",
       "      <td>3.64</td>\n",
       "    </tr>\n",
       "    <tr>\n",
       "      <th>5</th>\n",
       "      <td>Lead_Origin_Lead Form/Import</td>\n",
       "      <td>3.49</td>\n",
       "    </tr>\n",
       "    <tr>\n",
       "      <th>8</th>\n",
       "      <td>Lead_Source_Reference</td>\n",
       "      <td>3.18</td>\n",
       "    </tr>\n",
       "    <tr>\n",
       "      <th>3</th>\n",
       "      <td>A free copy of Mastering The Interview</td>\n",
       "      <td>2.62</td>\n",
       "    </tr>\n",
       "    <tr>\n",
       "      <th>10</th>\n",
       "      <td>Specialization_Fresher</td>\n",
       "      <td>2.33</td>\n",
       "    </tr>\n",
       "    <tr>\n",
       "      <th>7</th>\n",
       "      <td>Lead_Source_Olark Chat</td>\n",
       "      <td>2.29</td>\n",
       "    </tr>\n",
       "    <tr>\n",
       "      <th>6</th>\n",
       "      <td>Lead_Source_Google</td>\n",
       "      <td>1.93</td>\n",
       "    </tr>\n",
       "    <tr>\n",
       "      <th>1</th>\n",
       "      <td>TotalVisits</td>\n",
       "      <td>1.60</td>\n",
       "    </tr>\n",
       "    <tr>\n",
       "      <th>2</th>\n",
       "      <td>Total Time Spent on Website</td>\n",
       "      <td>1.27</td>\n",
       "    </tr>\n",
       "    <tr>\n",
       "      <th>9</th>\n",
       "      <td>Specialization_Finance Management</td>\n",
       "      <td>1.23</td>\n",
       "    </tr>\n",
       "    <tr>\n",
       "      <th>15</th>\n",
       "      <td>Current_Occupation_Working Professional</td>\n",
       "      <td>1.19</td>\n",
       "    </tr>\n",
       "    <tr>\n",
       "      <th>0</th>\n",
       "      <td>Do Not Email</td>\n",
       "      <td>1.11</td>\n",
       "    </tr>\n",
       "    <tr>\n",
       "      <th>13</th>\n",
       "      <td>Specialization_Supply Chain Management</td>\n",
       "      <td>1.08</td>\n",
       "    </tr>\n",
       "    <tr>\n",
       "      <th>14</th>\n",
       "      <td>Specialization_Travel and Tourism</td>\n",
       "      <td>1.06</td>\n",
       "    </tr>\n",
       "    <tr>\n",
       "      <th>12</th>\n",
       "      <td>Specialization_Media and Advertising</td>\n",
       "      <td>1.05</td>\n",
       "    </tr>\n",
       "    <tr>\n",
       "      <th>11</th>\n",
       "      <td>Specialization_Hospitality Management</td>\n",
       "      <td>1.02</td>\n",
       "    </tr>\n",
       "  </tbody>\n",
       "</table>\n",
       "</div>"
      ],
      "text/plain": [
       "                                   Features   VIF\n",
       "4       Lead_Origin_Landing Page Submission  3.64\n",
       "5              Lead_Origin_Lead Form/Import  3.49\n",
       "8                     Lead_Source_Reference  3.18\n",
       "3    A free copy of Mastering The Interview  2.62\n",
       "10                   Specialization_Fresher  2.33\n",
       "7                    Lead_Source_Olark Chat  2.29\n",
       "6                        Lead_Source_Google  1.93\n",
       "1                               TotalVisits  1.60\n",
       "2               Total Time Spent on Website  1.27\n",
       "9         Specialization_Finance Management  1.23\n",
       "15  Current_Occupation_Working Professional  1.19\n",
       "0                              Do Not Email  1.11\n",
       "13   Specialization_Supply Chain Management  1.08\n",
       "14        Specialization_Travel and Tourism  1.06\n",
       "12     Specialization_Media and Advertising  1.05\n",
       "11    Specialization_Hospitality Management  1.02"
      ]
     },
     "execution_count": 69,
     "metadata": {},
     "output_type": "execute_result"
    }
   ],
   "source": [
    "checkVIF(X_train_model)"
   ]
  },
  {
   "cell_type": "markdown",
   "metadata": {},
   "source": [
    "#### We see 'Lead_Source_Reference' has high p value, hence we drop this column "
   ]
  },
  {
   "cell_type": "code",
   "execution_count": 70,
   "metadata": {},
   "outputs": [],
   "source": [
    "X_train_model = X_train_model.drop([\"Lead_Source_Reference\"], axis = 1)"
   ]
  },
  {
   "cell_type": "code",
   "execution_count": 71,
   "metadata": {},
   "outputs": [
    {
     "name": "stdout",
     "output_type": "stream",
     "text": [
      "                 Generalized Linear Model Regression Results                  \n",
      "==============================================================================\n",
      "Dep. Variable:              Converted   No. Observations:                 6320\n",
      "Model:                            GLM   Df Residuals:                     6304\n",
      "Model Family:                Binomial   Df Model:                           15\n",
      "Link Function:                  logit   Scale:                          1.0000\n",
      "Method:                          IRLS   Log-Likelihood:                -2990.0\n",
      "Date:                Mon, 17 May 2021   Deviance:                       5979.9\n",
      "Time:                        20:32:56   Pearson chi2:                 8.36e+03\n",
      "No. Iterations:                     6                                         \n",
      "Covariance Type:            nonrobust                                         \n",
      "===========================================================================================================\n",
      "                                              coef    std err          z      P>|z|      [0.025      0.975]\n",
      "-----------------------------------------------------------------------------------------------------------\n",
      "const                                      -0.1877      0.142     -1.319      0.187      -0.467       0.091\n",
      "Do Not Email                               -1.0593      0.151     -7.033      0.000      -1.354      -0.764\n",
      "TotalVisits                                 0.1689      0.040      4.176      0.000       0.090       0.248\n",
      "Total Time Spent on Website                 1.0592      0.038     27.884      0.000       0.985       1.134\n",
      "A free copy of Mastering The Interview     -0.1351      0.100     -1.347      0.178      -0.332       0.062\n",
      "Lead_Origin_Landing Page Submission        -0.8278      0.125     -6.617      0.000      -1.073      -0.583\n",
      "Lead_Origin_Lead Form/Import                3.6111      0.180     20.104      0.000       3.259       3.963\n",
      "Lead_Source_Google                          0.1640      0.091      1.806      0.071      -0.014       0.342\n",
      "Lead_Source_Olark Chat                      1.0982      0.136      8.096      0.000       0.832       1.364\n",
      "Specialization_Finance Management          -0.1894      0.110     -1.716      0.086      -0.406       0.027\n",
      "Specialization_Fresher                     -1.2329      0.121    -10.202      0.000      -1.470      -0.996\n",
      "Specialization_Hospitality Management      -0.6805      0.303     -2.246      0.025      -1.274      -0.087\n",
      "Specialization_Media and Advertising       -0.3271      0.222     -1.472      0.141      -0.763       0.108\n",
      "Specialization_Supply Chain Management     -0.2608      0.176     -1.482      0.138      -0.606       0.084\n",
      "Specialization_Travel and Tourism          -0.3238      0.223     -1.455      0.146      -0.760       0.112\n",
      "Current_Occupation_Working Professional     2.5597      0.179     14.287      0.000       2.209       2.911\n",
      "===========================================================================================================\n"
     ]
    }
   ],
   "source": [
    "X_train_model = build_model(X_train_model,y_train)"
   ]
  },
  {
   "cell_type": "code",
   "execution_count": 72,
   "metadata": {},
   "outputs": [
    {
     "data": {
      "text/html": [
       "<div>\n",
       "<style scoped>\n",
       "    .dataframe tbody tr th:only-of-type {\n",
       "        vertical-align: middle;\n",
       "    }\n",
       "\n",
       "    .dataframe tbody tr th {\n",
       "        vertical-align: top;\n",
       "    }\n",
       "\n",
       "    .dataframe thead th {\n",
       "        text-align: right;\n",
       "    }\n",
       "</style>\n",
       "<table border=\"1\" class=\"dataframe\">\n",
       "  <thead>\n",
       "    <tr style=\"text-align: right;\">\n",
       "      <th></th>\n",
       "      <th>Features</th>\n",
       "      <th>VIF</th>\n",
       "    </tr>\n",
       "  </thead>\n",
       "  <tbody>\n",
       "    <tr>\n",
       "      <th>4</th>\n",
       "      <td>Lead_Origin_Landing Page Submission</td>\n",
       "      <td>3.63</td>\n",
       "    </tr>\n",
       "    <tr>\n",
       "      <th>3</th>\n",
       "      <td>A free copy of Mastering The Interview</td>\n",
       "      <td>2.62</td>\n",
       "    </tr>\n",
       "    <tr>\n",
       "      <th>9</th>\n",
       "      <td>Specialization_Fresher</td>\n",
       "      <td>2.29</td>\n",
       "    </tr>\n",
       "    <tr>\n",
       "      <th>7</th>\n",
       "      <td>Lead_Source_Olark Chat</td>\n",
       "      <td>2.27</td>\n",
       "    </tr>\n",
       "    <tr>\n",
       "      <th>6</th>\n",
       "      <td>Lead_Source_Google</td>\n",
       "      <td>1.93</td>\n",
       "    </tr>\n",
       "    <tr>\n",
       "      <th>1</th>\n",
       "      <td>TotalVisits</td>\n",
       "      <td>1.60</td>\n",
       "    </tr>\n",
       "    <tr>\n",
       "      <th>5</th>\n",
       "      <td>Lead_Origin_Lead Form/Import</td>\n",
       "      <td>1.37</td>\n",
       "    </tr>\n",
       "    <tr>\n",
       "      <th>2</th>\n",
       "      <td>Total Time Spent on Website</td>\n",
       "      <td>1.27</td>\n",
       "    </tr>\n",
       "    <tr>\n",
       "      <th>8</th>\n",
       "      <td>Specialization_Finance Management</td>\n",
       "      <td>1.23</td>\n",
       "    </tr>\n",
       "    <tr>\n",
       "      <th>14</th>\n",
       "      <td>Current_Occupation_Working Professional</td>\n",
       "      <td>1.16</td>\n",
       "    </tr>\n",
       "    <tr>\n",
       "      <th>0</th>\n",
       "      <td>Do Not Email</td>\n",
       "      <td>1.11</td>\n",
       "    </tr>\n",
       "    <tr>\n",
       "      <th>12</th>\n",
       "      <td>Specialization_Supply Chain Management</td>\n",
       "      <td>1.08</td>\n",
       "    </tr>\n",
       "    <tr>\n",
       "      <th>13</th>\n",
       "      <td>Specialization_Travel and Tourism</td>\n",
       "      <td>1.06</td>\n",
       "    </tr>\n",
       "    <tr>\n",
       "      <th>11</th>\n",
       "      <td>Specialization_Media and Advertising</td>\n",
       "      <td>1.05</td>\n",
       "    </tr>\n",
       "    <tr>\n",
       "      <th>10</th>\n",
       "      <td>Specialization_Hospitality Management</td>\n",
       "      <td>1.02</td>\n",
       "    </tr>\n",
       "  </tbody>\n",
       "</table>\n",
       "</div>"
      ],
      "text/plain": [
       "                                   Features   VIF\n",
       "4       Lead_Origin_Landing Page Submission  3.63\n",
       "3    A free copy of Mastering The Interview  2.62\n",
       "9                    Specialization_Fresher  2.29\n",
       "7                    Lead_Source_Olark Chat  2.27\n",
       "6                        Lead_Source_Google  1.93\n",
       "1                               TotalVisits  1.60\n",
       "5              Lead_Origin_Lead Form/Import  1.37\n",
       "2               Total Time Spent on Website  1.27\n",
       "8         Specialization_Finance Management  1.23\n",
       "14  Current_Occupation_Working Professional  1.16\n",
       "0                              Do Not Email  1.11\n",
       "12   Specialization_Supply Chain Management  1.08\n",
       "13        Specialization_Travel and Tourism  1.06\n",
       "11     Specialization_Media and Advertising  1.05\n",
       "10    Specialization_Hospitality Management  1.02"
      ]
     },
     "execution_count": 72,
     "metadata": {},
     "output_type": "execute_result"
    }
   ],
   "source": [
    "checkVIF(X_train_model)"
   ]
  },
  {
   "cell_type": "markdown",
   "metadata": {},
   "source": [
    "#### We see 'A free copy of Mastering The Interview' has high p value, hence we drop this column "
   ]
  },
  {
   "cell_type": "code",
   "execution_count": 73,
   "metadata": {},
   "outputs": [],
   "source": [
    "X_train_model = X_train_model.drop([\"A free copy of Mastering The Interview\"], axis = 1)"
   ]
  },
  {
   "cell_type": "code",
   "execution_count": 74,
   "metadata": {},
   "outputs": [
    {
     "name": "stdout",
     "output_type": "stream",
     "text": [
      "                 Generalized Linear Model Regression Results                  \n",
      "==============================================================================\n",
      "Dep. Variable:              Converted   No. Observations:                 6320\n",
      "Model:                            GLM   Df Residuals:                     6305\n",
      "Model Family:                Binomial   Df Model:                           14\n",
      "Link Function:                  logit   Scale:                          1.0000\n",
      "Method:                          IRLS   Log-Likelihood:                -2990.9\n",
      "Date:                Mon, 17 May 2021   Deviance:                       5981.7\n",
      "Time:                        20:32:57   Pearson chi2:                 8.31e+03\n",
      "No. Iterations:                     6                                         \n",
      "Covariance Type:            nonrobust                                         \n",
      "===========================================================================================================\n",
      "                                              coef    std err          z      P>|z|      [0.025      0.975]\n",
      "-----------------------------------------------------------------------------------------------------------\n",
      "const                                      -0.2582      0.132     -1.950      0.051      -0.518       0.001\n",
      "Do Not Email                               -1.0579      0.151     -7.018      0.000      -1.353      -0.762\n",
      "TotalVisits                                 0.1691      0.040      4.179      0.000       0.090       0.248\n",
      "Total Time Spent on Website                 1.0585      0.038     27.878      0.000       0.984       1.133\n",
      "Lead_Origin_Landing Page Submission        -0.8560      0.123     -6.933      0.000      -1.098      -0.614\n",
      "Lead_Origin_Lead Form/Import                3.6535      0.177     20.641      0.000       3.307       4.000\n",
      "Lead_Source_Google                          0.2308      0.076      3.024      0.002       0.081       0.380\n",
      "Lead_Source_Olark Chat                      1.1403      0.132      8.616      0.000       0.881       1.400\n",
      "Specialization_Finance Management          -0.1859      0.110     -1.688      0.091      -0.402       0.030\n",
      "Specialization_Fresher                     -1.2045      0.119    -10.117      0.000      -1.438      -0.971\n",
      "Specialization_Hospitality Management      -0.6821      0.302     -2.257      0.024      -1.274      -0.090\n",
      "Specialization_Media and Advertising       -0.3314      0.222     -1.494      0.135      -0.766       0.103\n",
      "Specialization_Supply Chain Management     -0.2656      0.176     -1.510      0.131      -0.610       0.079\n",
      "Specialization_Travel and Tourism          -0.3336      0.222     -1.500      0.134      -0.769       0.102\n",
      "Current_Occupation_Working Professional     2.5672      0.179     14.319      0.000       2.216       2.919\n",
      "===========================================================================================================\n"
     ]
    }
   ],
   "source": [
    "X_train_model = build_model(X_train_model,y_train)"
   ]
  },
  {
   "cell_type": "code",
   "execution_count": 75,
   "metadata": {},
   "outputs": [
    {
     "data": {
      "text/html": [
       "<div>\n",
       "<style scoped>\n",
       "    .dataframe tbody tr th:only-of-type {\n",
       "        vertical-align: middle;\n",
       "    }\n",
       "\n",
       "    .dataframe tbody tr th {\n",
       "        vertical-align: top;\n",
       "    }\n",
       "\n",
       "    .dataframe thead th {\n",
       "        text-align: right;\n",
       "    }\n",
       "</style>\n",
       "<table border=\"1\" class=\"dataframe\">\n",
       "  <thead>\n",
       "    <tr style=\"text-align: right;\">\n",
       "      <th></th>\n",
       "      <th>Features</th>\n",
       "      <th>VIF</th>\n",
       "    </tr>\n",
       "  </thead>\n",
       "  <tbody>\n",
       "    <tr>\n",
       "      <th>6</th>\n",
       "      <td>Lead_Source_Olark Chat</td>\n",
       "      <td>2.27</td>\n",
       "    </tr>\n",
       "    <tr>\n",
       "      <th>8</th>\n",
       "      <td>Specialization_Fresher</td>\n",
       "      <td>2.25</td>\n",
       "    </tr>\n",
       "    <tr>\n",
       "      <th>3</th>\n",
       "      <td>Lead_Origin_Landing Page Submission</td>\n",
       "      <td>1.85</td>\n",
       "    </tr>\n",
       "    <tr>\n",
       "      <th>1</th>\n",
       "      <td>TotalVisits</td>\n",
       "      <td>1.60</td>\n",
       "    </tr>\n",
       "    <tr>\n",
       "      <th>5</th>\n",
       "      <td>Lead_Source_Google</td>\n",
       "      <td>1.59</td>\n",
       "    </tr>\n",
       "    <tr>\n",
       "      <th>4</th>\n",
       "      <td>Lead_Origin_Lead Form/Import</td>\n",
       "      <td>1.37</td>\n",
       "    </tr>\n",
       "    <tr>\n",
       "      <th>2</th>\n",
       "      <td>Total Time Spent on Website</td>\n",
       "      <td>1.26</td>\n",
       "    </tr>\n",
       "    <tr>\n",
       "      <th>7</th>\n",
       "      <td>Specialization_Finance Management</td>\n",
       "      <td>1.23</td>\n",
       "    </tr>\n",
       "    <tr>\n",
       "      <th>13</th>\n",
       "      <td>Current_Occupation_Working Professional</td>\n",
       "      <td>1.16</td>\n",
       "    </tr>\n",
       "    <tr>\n",
       "      <th>0</th>\n",
       "      <td>Do Not Email</td>\n",
       "      <td>1.11</td>\n",
       "    </tr>\n",
       "    <tr>\n",
       "      <th>11</th>\n",
       "      <td>Specialization_Supply Chain Management</td>\n",
       "      <td>1.08</td>\n",
       "    </tr>\n",
       "    <tr>\n",
       "      <th>12</th>\n",
       "      <td>Specialization_Travel and Tourism</td>\n",
       "      <td>1.06</td>\n",
       "    </tr>\n",
       "    <tr>\n",
       "      <th>10</th>\n",
       "      <td>Specialization_Media and Advertising</td>\n",
       "      <td>1.04</td>\n",
       "    </tr>\n",
       "    <tr>\n",
       "      <th>9</th>\n",
       "      <td>Specialization_Hospitality Management</td>\n",
       "      <td>1.02</td>\n",
       "    </tr>\n",
       "  </tbody>\n",
       "</table>\n",
       "</div>"
      ],
      "text/plain": [
       "                                   Features   VIF\n",
       "6                    Lead_Source_Olark Chat  2.27\n",
       "8                    Specialization_Fresher  2.25\n",
       "3       Lead_Origin_Landing Page Submission  1.85\n",
       "1                               TotalVisits  1.60\n",
       "5                        Lead_Source_Google  1.59\n",
       "4              Lead_Origin_Lead Form/Import  1.37\n",
       "2               Total Time Spent on Website  1.26\n",
       "7         Specialization_Finance Management  1.23\n",
       "13  Current_Occupation_Working Professional  1.16\n",
       "0                              Do Not Email  1.11\n",
       "11   Specialization_Supply Chain Management  1.08\n",
       "12        Specialization_Travel and Tourism  1.06\n",
       "10     Specialization_Media and Advertising  1.04\n",
       "9     Specialization_Hospitality Management  1.02"
      ]
     },
     "execution_count": 75,
     "metadata": {},
     "output_type": "execute_result"
    }
   ],
   "source": [
    "checkVIF(X_train_model)"
   ]
  },
  {
   "cell_type": "markdown",
   "metadata": {},
   "source": [
    "#### We see 'Specialization_Media and Advertising' has high p value, hence we drop this column "
   ]
  },
  {
   "cell_type": "code",
   "execution_count": 76,
   "metadata": {},
   "outputs": [],
   "source": [
    "X_train_model = X_train_model.drop([\"Specialization_Media and Advertising\"], axis = 1)"
   ]
  },
  {
   "cell_type": "code",
   "execution_count": 77,
   "metadata": {},
   "outputs": [
    {
     "name": "stdout",
     "output_type": "stream",
     "text": [
      "                 Generalized Linear Model Regression Results                  \n",
      "==============================================================================\n",
      "Dep. Variable:              Converted   No. Observations:                 6320\n",
      "Model:                            GLM   Df Residuals:                     6306\n",
      "Model Family:                Binomial   Df Model:                           13\n",
      "Link Function:                  logit   Scale:                          1.0000\n",
      "Method:                          IRLS   Log-Likelihood:                -2992.0\n",
      "Date:                Mon, 17 May 2021   Deviance:                       5984.0\n",
      "Time:                        20:32:57   Pearson chi2:                 8.28e+03\n",
      "No. Iterations:                     6                                         \n",
      "Covariance Type:            nonrobust                                         \n",
      "===========================================================================================================\n",
      "                                              coef    std err          z      P>|z|      [0.025      0.975]\n",
      "-----------------------------------------------------------------------------------------------------------\n",
      "const                                      -0.2766      0.132     -2.100      0.036      -0.535      -0.018\n",
      "Do Not Email                               -1.0562      0.151     -7.009      0.000      -1.352      -0.761\n",
      "TotalVisits                                 0.1670      0.040      4.132      0.000       0.088       0.246\n",
      "Total Time Spent on Website                 1.0590      0.038     27.900      0.000       0.985       1.133\n",
      "Lead_Origin_Landing Page Submission        -0.8537      0.123     -6.922      0.000      -1.095      -0.612\n",
      "Lead_Origin_Lead Form/Import                3.6539      0.177     20.648      0.000       3.307       4.001\n",
      "Lead_Source_Google                          0.2319      0.076      3.040      0.002       0.082       0.381\n",
      "Lead_Source_Olark Chat                      1.1386      0.132      8.606      0.000       0.879       1.398\n",
      "Specialization_Finance Management          -0.1693      0.110     -1.544      0.123      -0.384       0.046\n",
      "Specialization_Fresher                     -1.1867      0.118    -10.027      0.000      -1.419      -0.955\n",
      "Specialization_Hospitality Management      -0.6654      0.302     -2.204      0.028      -1.257      -0.074\n",
      "Specialization_Supply Chain Management     -0.2488      0.176     -1.417      0.156      -0.593       0.095\n",
      "Specialization_Travel and Tourism          -0.3164      0.222     -1.425      0.154      -0.752       0.119\n",
      "Current_Occupation_Working Professional     2.5658      0.179     14.317      0.000       2.215       2.917\n",
      "===========================================================================================================\n"
     ]
    }
   ],
   "source": [
    "X_train_model = build_model(X_train_model,y_train)"
   ]
  },
  {
   "cell_type": "code",
   "execution_count": 78,
   "metadata": {},
   "outputs": [
    {
     "data": {
      "text/html": [
       "<div>\n",
       "<style scoped>\n",
       "    .dataframe tbody tr th:only-of-type {\n",
       "        vertical-align: middle;\n",
       "    }\n",
       "\n",
       "    .dataframe tbody tr th {\n",
       "        vertical-align: top;\n",
       "    }\n",
       "\n",
       "    .dataframe thead th {\n",
       "        text-align: right;\n",
       "    }\n",
       "</style>\n",
       "<table border=\"1\" class=\"dataframe\">\n",
       "  <thead>\n",
       "    <tr style=\"text-align: right;\">\n",
       "      <th></th>\n",
       "      <th>Features</th>\n",
       "      <th>VIF</th>\n",
       "    </tr>\n",
       "  </thead>\n",
       "  <tbody>\n",
       "    <tr>\n",
       "      <th>6</th>\n",
       "      <td>Lead_Source_Olark Chat</td>\n",
       "      <td>2.27</td>\n",
       "    </tr>\n",
       "    <tr>\n",
       "      <th>8</th>\n",
       "      <td>Specialization_Fresher</td>\n",
       "      <td>2.25</td>\n",
       "    </tr>\n",
       "    <tr>\n",
       "      <th>3</th>\n",
       "      <td>Lead_Origin_Landing Page Submission</td>\n",
       "      <td>1.81</td>\n",
       "    </tr>\n",
       "    <tr>\n",
       "      <th>1</th>\n",
       "      <td>TotalVisits</td>\n",
       "      <td>1.59</td>\n",
       "    </tr>\n",
       "    <tr>\n",
       "      <th>5</th>\n",
       "      <td>Lead_Source_Google</td>\n",
       "      <td>1.59</td>\n",
       "    </tr>\n",
       "    <tr>\n",
       "      <th>4</th>\n",
       "      <td>Lead_Origin_Lead Form/Import</td>\n",
       "      <td>1.37</td>\n",
       "    </tr>\n",
       "    <tr>\n",
       "      <th>2</th>\n",
       "      <td>Total Time Spent on Website</td>\n",
       "      <td>1.26</td>\n",
       "    </tr>\n",
       "    <tr>\n",
       "      <th>7</th>\n",
       "      <td>Specialization_Finance Management</td>\n",
       "      <td>1.22</td>\n",
       "    </tr>\n",
       "    <tr>\n",
       "      <th>12</th>\n",
       "      <td>Current_Occupation_Working Professional</td>\n",
       "      <td>1.15</td>\n",
       "    </tr>\n",
       "    <tr>\n",
       "      <th>0</th>\n",
       "      <td>Do Not Email</td>\n",
       "      <td>1.11</td>\n",
       "    </tr>\n",
       "    <tr>\n",
       "      <th>10</th>\n",
       "      <td>Specialization_Supply Chain Management</td>\n",
       "      <td>1.07</td>\n",
       "    </tr>\n",
       "    <tr>\n",
       "      <th>11</th>\n",
       "      <td>Specialization_Travel and Tourism</td>\n",
       "      <td>1.06</td>\n",
       "    </tr>\n",
       "    <tr>\n",
       "      <th>9</th>\n",
       "      <td>Specialization_Hospitality Management</td>\n",
       "      <td>1.02</td>\n",
       "    </tr>\n",
       "  </tbody>\n",
       "</table>\n",
       "</div>"
      ],
      "text/plain": [
       "                                   Features   VIF\n",
       "6                    Lead_Source_Olark Chat  2.27\n",
       "8                    Specialization_Fresher  2.25\n",
       "3       Lead_Origin_Landing Page Submission  1.81\n",
       "1                               TotalVisits  1.59\n",
       "5                        Lead_Source_Google  1.59\n",
       "4              Lead_Origin_Lead Form/Import  1.37\n",
       "2               Total Time Spent on Website  1.26\n",
       "7         Specialization_Finance Management  1.22\n",
       "12  Current_Occupation_Working Professional  1.15\n",
       "0                              Do Not Email  1.11\n",
       "10   Specialization_Supply Chain Management  1.07\n",
       "11        Specialization_Travel and Tourism  1.06\n",
       "9     Specialization_Hospitality Management  1.02"
      ]
     },
     "execution_count": 78,
     "metadata": {},
     "output_type": "execute_result"
    }
   ],
   "source": [
    "checkVIF(X_train_model)"
   ]
  },
  {
   "cell_type": "markdown",
   "metadata": {},
   "source": [
    "#### We see 'Specialization_Supply Chain Management' has high p value, hence we drop this column "
   ]
  },
  {
   "cell_type": "code",
   "execution_count": 79,
   "metadata": {},
   "outputs": [],
   "source": [
    "X_train_model = X_train_model.drop([\"Specialization_Supply Chain Management\"], axis = 1)"
   ]
  },
  {
   "cell_type": "code",
   "execution_count": 80,
   "metadata": {},
   "outputs": [
    {
     "name": "stdout",
     "output_type": "stream",
     "text": [
      "                 Generalized Linear Model Regression Results                  \n",
      "==============================================================================\n",
      "Dep. Variable:              Converted   No. Observations:                 6320\n",
      "Model:                            GLM   Df Residuals:                     6307\n",
      "Model Family:                Binomial   Df Model:                           12\n",
      "Link Function:                  logit   Scale:                          1.0000\n",
      "Method:                          IRLS   Log-Likelihood:                -2993.0\n",
      "Date:                Mon, 17 May 2021   Deviance:                       5986.0\n",
      "Time:                        20:32:57   Pearson chi2:                 8.23e+03\n",
      "No. Iterations:                     6                                         \n",
      "Covariance Type:            nonrobust                                         \n",
      "===========================================================================================================\n",
      "                                              coef    std err          z      P>|z|      [0.025      0.975]\n",
      "-----------------------------------------------------------------------------------------------------------\n",
      "const                                      -0.2982      0.131     -2.280      0.023      -0.555      -0.042\n",
      "Do Not Email                               -1.0539      0.151     -6.999      0.000      -1.349      -0.759\n",
      "TotalVisits                                 0.1672      0.040      4.139      0.000       0.088       0.246\n",
      "Total Time Spent on Website                 1.0575      0.038     27.885      0.000       0.983       1.132\n",
      "Lead_Origin_Landing Page Submission        -0.8525      0.123     -6.915      0.000      -1.094      -0.611\n",
      "Lead_Origin_Lead Form/Import                3.6565      0.177     20.667      0.000       3.310       4.003\n",
      "Lead_Source_Google                          0.2375      0.076      3.118      0.002       0.088       0.387\n",
      "Lead_Source_Olark Chat                      1.1399      0.132      8.617      0.000       0.881       1.399\n",
      "Specialization_Finance Management          -0.1507      0.109     -1.385      0.166      -0.364       0.063\n",
      "Specialization_Fresher                     -1.1679      0.118     -9.935      0.000      -1.398      -0.938\n",
      "Specialization_Hospitality Management      -0.6460      0.302     -2.142      0.032      -1.237      -0.055\n",
      "Specialization_Travel and Tourism          -0.2963      0.222     -1.338      0.181      -0.731       0.138\n",
      "Current_Occupation_Working Professional     2.5635      0.179     14.309      0.000       2.212       2.915\n",
      "===========================================================================================================\n"
     ]
    }
   ],
   "source": [
    "X_train_model = build_model(X_train_model,y_train)"
   ]
  },
  {
   "cell_type": "code",
   "execution_count": 81,
   "metadata": {},
   "outputs": [
    {
     "data": {
      "text/html": [
       "<div>\n",
       "<style scoped>\n",
       "    .dataframe tbody tr th:only-of-type {\n",
       "        vertical-align: middle;\n",
       "    }\n",
       "\n",
       "    .dataframe tbody tr th {\n",
       "        vertical-align: top;\n",
       "    }\n",
       "\n",
       "    .dataframe thead th {\n",
       "        text-align: right;\n",
       "    }\n",
       "</style>\n",
       "<table border=\"1\" class=\"dataframe\">\n",
       "  <thead>\n",
       "    <tr style=\"text-align: right;\">\n",
       "      <th></th>\n",
       "      <th>Features</th>\n",
       "      <th>VIF</th>\n",
       "    </tr>\n",
       "  </thead>\n",
       "  <tbody>\n",
       "    <tr>\n",
       "      <th>6</th>\n",
       "      <td>Lead_Source_Olark Chat</td>\n",
       "      <td>2.26</td>\n",
       "    </tr>\n",
       "    <tr>\n",
       "      <th>8</th>\n",
       "      <td>Specialization_Fresher</td>\n",
       "      <td>2.25</td>\n",
       "    </tr>\n",
       "    <tr>\n",
       "      <th>3</th>\n",
       "      <td>Lead_Origin_Landing Page Submission</td>\n",
       "      <td>1.73</td>\n",
       "    </tr>\n",
       "    <tr>\n",
       "      <th>1</th>\n",
       "      <td>TotalVisits</td>\n",
       "      <td>1.59</td>\n",
       "    </tr>\n",
       "    <tr>\n",
       "      <th>5</th>\n",
       "      <td>Lead_Source_Google</td>\n",
       "      <td>1.59</td>\n",
       "    </tr>\n",
       "    <tr>\n",
       "      <th>4</th>\n",
       "      <td>Lead_Origin_Lead Form/Import</td>\n",
       "      <td>1.37</td>\n",
       "    </tr>\n",
       "    <tr>\n",
       "      <th>2</th>\n",
       "      <td>Total Time Spent on Website</td>\n",
       "      <td>1.26</td>\n",
       "    </tr>\n",
       "    <tr>\n",
       "      <th>7</th>\n",
       "      <td>Specialization_Finance Management</td>\n",
       "      <td>1.21</td>\n",
       "    </tr>\n",
       "    <tr>\n",
       "      <th>11</th>\n",
       "      <td>Current_Occupation_Working Professional</td>\n",
       "      <td>1.15</td>\n",
       "    </tr>\n",
       "    <tr>\n",
       "      <th>0</th>\n",
       "      <td>Do Not Email</td>\n",
       "      <td>1.11</td>\n",
       "    </tr>\n",
       "    <tr>\n",
       "      <th>10</th>\n",
       "      <td>Specialization_Travel and Tourism</td>\n",
       "      <td>1.05</td>\n",
       "    </tr>\n",
       "    <tr>\n",
       "      <th>9</th>\n",
       "      <td>Specialization_Hospitality Management</td>\n",
       "      <td>1.02</td>\n",
       "    </tr>\n",
       "  </tbody>\n",
       "</table>\n",
       "</div>"
      ],
      "text/plain": [
       "                                   Features   VIF\n",
       "6                    Lead_Source_Olark Chat  2.26\n",
       "8                    Specialization_Fresher  2.25\n",
       "3       Lead_Origin_Landing Page Submission  1.73\n",
       "1                               TotalVisits  1.59\n",
       "5                        Lead_Source_Google  1.59\n",
       "4              Lead_Origin_Lead Form/Import  1.37\n",
       "2               Total Time Spent on Website  1.26\n",
       "7         Specialization_Finance Management  1.21\n",
       "11  Current_Occupation_Working Professional  1.15\n",
       "0                              Do Not Email  1.11\n",
       "10        Specialization_Travel and Tourism  1.05\n",
       "9     Specialization_Hospitality Management  1.02"
      ]
     },
     "execution_count": 81,
     "metadata": {},
     "output_type": "execute_result"
    }
   ],
   "source": [
    "checkVIF(X_train_model)"
   ]
  },
  {
   "cell_type": "markdown",
   "metadata": {},
   "source": [
    "#### We see 'Specialization_Travel and Tourism' has high p value, hence we drop this column "
   ]
  },
  {
   "cell_type": "code",
   "execution_count": 82,
   "metadata": {},
   "outputs": [],
   "source": [
    "X_train_model = X_train_model.drop([\"Specialization_Travel and Tourism\"], axis = 1)"
   ]
  },
  {
   "cell_type": "code",
   "execution_count": 83,
   "metadata": {},
   "outputs": [
    {
     "name": "stdout",
     "output_type": "stream",
     "text": [
      "                 Generalized Linear Model Regression Results                  \n",
      "==============================================================================\n",
      "Dep. Variable:              Converted   No. Observations:                 6320\n",
      "Model:                            GLM   Df Residuals:                     6308\n",
      "Model Family:                Binomial   Df Model:                           11\n",
      "Link Function:                  logit   Scale:                          1.0000\n",
      "Method:                          IRLS   Log-Likelihood:                -2993.9\n",
      "Date:                Mon, 17 May 2021   Deviance:                       5987.9\n",
      "Time:                        20:32:58   Pearson chi2:                 8.21e+03\n",
      "No. Iterations:                     6                                         \n",
      "Covariance Type:            nonrobust                                         \n",
      "===========================================================================================================\n",
      "                                              coef    std err          z      P>|z|      [0.025      0.975]\n",
      "-----------------------------------------------------------------------------------------------------------\n",
      "const                                      -0.3102      0.131     -2.376      0.018      -0.566      -0.054\n",
      "Do Not Email                               -1.0651      0.151     -7.077      0.000      -1.360      -0.770\n",
      "TotalVisits                                 0.1646      0.040      4.081      0.000       0.086       0.244\n",
      "Total Time Spent on Website                 1.0562      0.038     27.879      0.000       0.982       1.130\n",
      "Lead_Origin_Landing Page Submission        -0.8550      0.123     -6.935      0.000      -1.097      -0.613\n",
      "Lead_Origin_Lead Form/Import                3.6582      0.177     20.677      0.000       3.311       4.005\n",
      "Lead_Source_Google                          0.2450      0.076      3.225      0.001       0.096       0.394\n",
      "Lead_Source_Olark Chat                      1.1404      0.132      8.622      0.000       0.881       1.400\n",
      "Specialization_Finance Management          -0.1382      0.108     -1.274      0.203      -0.351       0.074\n",
      "Specialization_Fresher                     -1.1597      0.117     -9.879      0.000      -1.390      -0.930\n",
      "Specialization_Hospitality Management      -0.6329      0.302     -2.099      0.036      -1.224      -0.042\n",
      "Current_Occupation_Working Professional     2.5641      0.179     14.314      0.000       2.213       2.915\n",
      "===========================================================================================================\n"
     ]
    }
   ],
   "source": [
    "X_train_model = build_model(X_train_model,y_train)"
   ]
  },
  {
   "cell_type": "code",
   "execution_count": 84,
   "metadata": {},
   "outputs": [
    {
     "data": {
      "text/html": [
       "<div>\n",
       "<style scoped>\n",
       "    .dataframe tbody tr th:only-of-type {\n",
       "        vertical-align: middle;\n",
       "    }\n",
       "\n",
       "    .dataframe tbody tr th {\n",
       "        vertical-align: top;\n",
       "    }\n",
       "\n",
       "    .dataframe thead th {\n",
       "        text-align: right;\n",
       "    }\n",
       "</style>\n",
       "<table border=\"1\" class=\"dataframe\">\n",
       "  <thead>\n",
       "    <tr style=\"text-align: right;\">\n",
       "      <th></th>\n",
       "      <th>Features</th>\n",
       "      <th>VIF</th>\n",
       "    </tr>\n",
       "  </thead>\n",
       "  <tbody>\n",
       "    <tr>\n",
       "      <th>6</th>\n",
       "      <td>Lead_Source_Olark Chat</td>\n",
       "      <td>2.26</td>\n",
       "    </tr>\n",
       "    <tr>\n",
       "      <th>8</th>\n",
       "      <td>Specialization_Fresher</td>\n",
       "      <td>2.25</td>\n",
       "    </tr>\n",
       "    <tr>\n",
       "      <th>3</th>\n",
       "      <td>Lead_Origin_Landing Page Submission</td>\n",
       "      <td>1.69</td>\n",
       "    </tr>\n",
       "    <tr>\n",
       "      <th>1</th>\n",
       "      <td>TotalVisits</td>\n",
       "      <td>1.59</td>\n",
       "    </tr>\n",
       "    <tr>\n",
       "      <th>5</th>\n",
       "      <td>Lead_Source_Google</td>\n",
       "      <td>1.59</td>\n",
       "    </tr>\n",
       "    <tr>\n",
       "      <th>4</th>\n",
       "      <td>Lead_Origin_Lead Form/Import</td>\n",
       "      <td>1.36</td>\n",
       "    </tr>\n",
       "    <tr>\n",
       "      <th>2</th>\n",
       "      <td>Total Time Spent on Website</td>\n",
       "      <td>1.26</td>\n",
       "    </tr>\n",
       "    <tr>\n",
       "      <th>7</th>\n",
       "      <td>Specialization_Finance Management</td>\n",
       "      <td>1.20</td>\n",
       "    </tr>\n",
       "    <tr>\n",
       "      <th>10</th>\n",
       "      <td>Current_Occupation_Working Professional</td>\n",
       "      <td>1.15</td>\n",
       "    </tr>\n",
       "    <tr>\n",
       "      <th>0</th>\n",
       "      <td>Do Not Email</td>\n",
       "      <td>1.11</td>\n",
       "    </tr>\n",
       "    <tr>\n",
       "      <th>9</th>\n",
       "      <td>Specialization_Hospitality Management</td>\n",
       "      <td>1.02</td>\n",
       "    </tr>\n",
       "  </tbody>\n",
       "</table>\n",
       "</div>"
      ],
      "text/plain": [
       "                                   Features   VIF\n",
       "6                    Lead_Source_Olark Chat  2.26\n",
       "8                    Specialization_Fresher  2.25\n",
       "3       Lead_Origin_Landing Page Submission  1.69\n",
       "1                               TotalVisits  1.59\n",
       "5                        Lead_Source_Google  1.59\n",
       "4              Lead_Origin_Lead Form/Import  1.36\n",
       "2               Total Time Spent on Website  1.26\n",
       "7         Specialization_Finance Management  1.20\n",
       "10  Current_Occupation_Working Professional  1.15\n",
       "0                              Do Not Email  1.11\n",
       "9     Specialization_Hospitality Management  1.02"
      ]
     },
     "execution_count": 84,
     "metadata": {},
     "output_type": "execute_result"
    }
   ],
   "source": [
    "checkVIF(X_train_model)"
   ]
  },
  {
   "cell_type": "markdown",
   "metadata": {},
   "source": [
    "#### We see 'Specialization_Finance Management' has high p value, hence we drop this column "
   ]
  },
  {
   "cell_type": "code",
   "execution_count": 85,
   "metadata": {},
   "outputs": [],
   "source": [
    "X_train_model = X_train_model.drop([\"Specialization_Finance Management\"], axis = 1)"
   ]
  },
  {
   "cell_type": "code",
   "execution_count": 86,
   "metadata": {},
   "outputs": [
    {
     "name": "stdout",
     "output_type": "stream",
     "text": [
      "                 Generalized Linear Model Regression Results                  \n",
      "==============================================================================\n",
      "Dep. Variable:              Converted   No. Observations:                 6320\n",
      "Model:                            GLM   Df Residuals:                     6309\n",
      "Model Family:                Binomial   Df Model:                           10\n",
      "Link Function:                  logit   Scale:                          1.0000\n",
      "Method:                          IRLS   Log-Likelihood:                -2994.8\n",
      "Date:                Mon, 17 May 2021   Deviance:                       5989.5\n",
      "Time:                        20:32:58   Pearson chi2:                 8.17e+03\n",
      "No. Iterations:                     6                                         \n",
      "Covariance Type:            nonrobust                                         \n",
      "===========================================================================================================\n",
      "                                              coef    std err          z      P>|z|      [0.025      0.975]\n",
      "-----------------------------------------------------------------------------------------------------------\n",
      "const                                      -0.3298      0.130     -2.544      0.011      -0.584      -0.076\n",
      "Do Not Email                               -1.0611      0.150     -7.053      0.000      -1.356      -0.766\n",
      "TotalVisits                                 0.1646      0.040      4.081      0.000       0.086       0.244\n",
      "Total Time Spent on Website                 1.0559      0.038     27.865      0.000       0.982       1.130\n",
      "Lead_Origin_Landing Page Submission        -0.8575      0.123     -6.957      0.000      -1.099      -0.616\n",
      "Lead_Origin_Lead Form/Import                3.6533      0.177     20.658      0.000       3.307       4.000\n",
      "Lead_Source_Google                          0.2403      0.076      3.166      0.002       0.092       0.389\n",
      "Lead_Source_Olark Chat                      1.1365      0.132      8.597      0.000       0.877       1.396\n",
      "Specialization_Fresher                     -1.1366      0.116     -9.803      0.000      -1.364      -0.909\n",
      "Specialization_Hospitality Management      -0.6087      0.301     -2.023      0.043      -1.198      -0.019\n",
      "Current_Occupation_Working Professional     2.5614      0.179     14.310      0.000       2.211       2.912\n",
      "===========================================================================================================\n"
     ]
    }
   ],
   "source": [
    "X_train_model = build_model(X_train_model,y_train)"
   ]
  },
  {
   "cell_type": "code",
   "execution_count": 87,
   "metadata": {},
   "outputs": [
    {
     "data": {
      "text/html": [
       "<div>\n",
       "<style scoped>\n",
       "    .dataframe tbody tr th:only-of-type {\n",
       "        vertical-align: middle;\n",
       "    }\n",
       "\n",
       "    .dataframe tbody tr th {\n",
       "        vertical-align: top;\n",
       "    }\n",
       "\n",
       "    .dataframe thead th {\n",
       "        text-align: right;\n",
       "    }\n",
       "</style>\n",
       "<table border=\"1\" class=\"dataframe\">\n",
       "  <thead>\n",
       "    <tr style=\"text-align: right;\">\n",
       "      <th></th>\n",
       "      <th>Features</th>\n",
       "      <th>VIF</th>\n",
       "    </tr>\n",
       "  </thead>\n",
       "  <tbody>\n",
       "    <tr>\n",
       "      <th>6</th>\n",
       "      <td>Lead_Source_Olark Chat</td>\n",
       "      <td>2.23</td>\n",
       "    </tr>\n",
       "    <tr>\n",
       "      <th>7</th>\n",
       "      <td>Specialization_Fresher</td>\n",
       "      <td>2.22</td>\n",
       "    </tr>\n",
       "    <tr>\n",
       "      <th>1</th>\n",
       "      <td>TotalVisits</td>\n",
       "      <td>1.59</td>\n",
       "    </tr>\n",
       "    <tr>\n",
       "      <th>3</th>\n",
       "      <td>Lead_Origin_Landing Page Submission</td>\n",
       "      <td>1.57</td>\n",
       "    </tr>\n",
       "    <tr>\n",
       "      <th>5</th>\n",
       "      <td>Lead_Source_Google</td>\n",
       "      <td>1.57</td>\n",
       "    </tr>\n",
       "    <tr>\n",
       "      <th>4</th>\n",
       "      <td>Lead_Origin_Lead Form/Import</td>\n",
       "      <td>1.34</td>\n",
       "    </tr>\n",
       "    <tr>\n",
       "      <th>2</th>\n",
       "      <td>Total Time Spent on Website</td>\n",
       "      <td>1.26</td>\n",
       "    </tr>\n",
       "    <tr>\n",
       "      <th>9</th>\n",
       "      <td>Current_Occupation_Working Professional</td>\n",
       "      <td>1.15</td>\n",
       "    </tr>\n",
       "    <tr>\n",
       "      <th>0</th>\n",
       "      <td>Do Not Email</td>\n",
       "      <td>1.11</td>\n",
       "    </tr>\n",
       "    <tr>\n",
       "      <th>8</th>\n",
       "      <td>Specialization_Hospitality Management</td>\n",
       "      <td>1.02</td>\n",
       "    </tr>\n",
       "  </tbody>\n",
       "</table>\n",
       "</div>"
      ],
      "text/plain": [
       "                                  Features   VIF\n",
       "6                   Lead_Source_Olark Chat  2.23\n",
       "7                   Specialization_Fresher  2.22\n",
       "1                              TotalVisits  1.59\n",
       "3      Lead_Origin_Landing Page Submission  1.57\n",
       "5                       Lead_Source_Google  1.57\n",
       "4             Lead_Origin_Lead Form/Import  1.34\n",
       "2              Total Time Spent on Website  1.26\n",
       "9  Current_Occupation_Working Professional  1.15\n",
       "0                             Do Not Email  1.11\n",
       "8    Specialization_Hospitality Management  1.02"
      ]
     },
     "execution_count": 87,
     "metadata": {},
     "output_type": "execute_result"
    }
   ],
   "source": [
    "checkVIF(X_train_model)"
   ]
  },
  {
   "cell_type": "markdown",
   "metadata": {},
   "source": [
    "### All variables now are within acceptable range in terms of p-value and VIF. So we go ahead and make our predictions using this model only."
   ]
  },
  {
   "cell_type": "markdown",
   "metadata": {},
   "source": [
    "## Step 6: Making Predictions Using the Final Model"
   ]
  },
  {
   "cell_type": "code",
   "execution_count": 88,
   "metadata": {},
   "outputs": [],
   "source": [
    "X = sm.add_constant(X_train_model)\n",
    "y=y_train\n",
    "logm2 = sm.GLM(y,X, family = sm.families.Binomial())\n",
    "res = logm2.fit()"
   ]
  },
  {
   "cell_type": "markdown",
   "metadata": {},
   "source": [
    "### Creating Predict on training dataset"
   ]
  },
  {
   "cell_type": "code",
   "execution_count": 89,
   "metadata": {},
   "outputs": [
    {
     "data": {
      "text/plain": [
       "array([0.11954353, 0.09779688, 0.06008343, 0.1913817 , 0.49171155,\n",
       "       0.1913817 , 0.1913817 , 0.17540102, 0.27937245, 0.12326354])"
      ]
     },
     "execution_count": 89,
     "metadata": {},
     "output_type": "execute_result"
    }
   ],
   "source": [
    "y_train_pred = res.predict(X)\n",
    "y_train_pred = y_train_pred.values.reshape(-1)\n",
    "y_train_pred[:10]"
   ]
  },
  {
   "cell_type": "code",
   "execution_count": 90,
   "metadata": {},
   "outputs": [],
   "source": [
    "y_train_pred_final = pd.DataFrame({'Converted':y_train.values, 'Converted_Prob':y_train_pred})\n",
    "y_train_pred_final['ProspectID'] = y_train.index"
   ]
  },
  {
   "cell_type": "markdown",
   "metadata": {},
   "source": [
    "### Creating 'predicted' column based on 'Converted_Prob' value >0.5"
   ]
  },
  {
   "cell_type": "code",
   "execution_count": 91,
   "metadata": {},
   "outputs": [],
   "source": [
    "y_train_pred_final['predicted'] = y_train_pred_final['Converted_Prob'].map(lambda x: 1 if x > 0.5 else 0)"
   ]
  },
  {
   "cell_type": "code",
   "execution_count": 92,
   "metadata": {},
   "outputs": [
    {
     "data": {
      "text/html": [
       "<div>\n",
       "<style scoped>\n",
       "    .dataframe tbody tr th:only-of-type {\n",
       "        vertical-align: middle;\n",
       "    }\n",
       "\n",
       "    .dataframe tbody tr th {\n",
       "        vertical-align: top;\n",
       "    }\n",
       "\n",
       "    .dataframe thead th {\n",
       "        text-align: right;\n",
       "    }\n",
       "</style>\n",
       "<table border=\"1\" class=\"dataframe\">\n",
       "  <thead>\n",
       "    <tr style=\"text-align: right;\">\n",
       "      <th></th>\n",
       "      <th>Converted</th>\n",
       "      <th>Converted_Prob</th>\n",
       "      <th>ProspectID</th>\n",
       "      <th>predicted</th>\n",
       "    </tr>\n",
       "  </thead>\n",
       "  <tbody>\n",
       "    <tr>\n",
       "      <th>0</th>\n",
       "      <td>0</td>\n",
       "      <td>0.119544</td>\n",
       "      <td>5493</td>\n",
       "      <td>0</td>\n",
       "    </tr>\n",
       "    <tr>\n",
       "      <th>1</th>\n",
       "      <td>0</td>\n",
       "      <td>0.097797</td>\n",
       "      <td>8064</td>\n",
       "      <td>0</td>\n",
       "    </tr>\n",
       "    <tr>\n",
       "      <th>2</th>\n",
       "      <td>0</td>\n",
       "      <td>0.060083</td>\n",
       "      <td>4716</td>\n",
       "      <td>0</td>\n",
       "    </tr>\n",
       "    <tr>\n",
       "      <th>3</th>\n",
       "      <td>0</td>\n",
       "      <td>0.191382</td>\n",
       "      <td>9117</td>\n",
       "      <td>0</td>\n",
       "    </tr>\n",
       "    <tr>\n",
       "      <th>4</th>\n",
       "      <td>1</td>\n",
       "      <td>0.491712</td>\n",
       "      <td>2402</td>\n",
       "      <td>0</td>\n",
       "    </tr>\n",
       "  </tbody>\n",
       "</table>\n",
       "</div>"
      ],
      "text/plain": [
       "   Converted  Converted_Prob  ProspectID  predicted\n",
       "0          0        0.119544        5493          0\n",
       "1          0        0.097797        8064          0\n",
       "2          0        0.060083        4716          0\n",
       "3          0        0.191382        9117          0\n",
       "4          1        0.491712        2402          0"
      ]
     },
     "execution_count": 92,
     "metadata": {},
     "output_type": "execute_result"
    }
   ],
   "source": [
    "y_train_pred_final.head()"
   ]
  },
  {
   "cell_type": "code",
   "execution_count": 93,
   "metadata": {},
   "outputs": [],
   "source": [
    "def confusionMatrix(x,y):  \n",
    "    matrixName=metrics.confusion_matrix(x,y)\n",
    "    print(matrixName)\n",
    "    print()\n",
    "    TP = matrixName[1,1] # true positive \n",
    "    TN = matrixName[0,0] # true negatives\n",
    "    FP = matrixName[0,1] # false positives\n",
    "    FN = matrixName[1,0] # false negatives\n",
    "    matrix={\"TP\": TP,\"TN\":TN,\"FP\":FP,\"FN\":FN}\n",
    "    print()\n",
    "    print(matrix)\n",
    "    print(\"Sensitivity is : \",round(TP / float(TP+FN),3))\n",
    "    print(\"Specificity is : \",round(TN / float(TN+FP),3))\n",
    "    print(\"False Postive Rate is :\",round(FP/ float(TN+FP),3))\n",
    "    print(\"Positive predictive value is : \",round(TP / float(TP+FP),3))\n",
    "    print(\"Negative predictive value is : \",round(TN / float(TN+ FN),3))\n",
    "    print(\"Accuracy Score is : \",round(metrics.accuracy_score(x,y),3))\n",
    "    print(\"Precision Score is : \",round(precision_score(x,y),3))\n",
    "    print(\"Recall Value is : \",round(recall_score(x,y),3))    "
   ]
  },
  {
   "cell_type": "markdown",
   "metadata": {},
   "source": [
    "### Creating confusion matrix and related values using the y_train_pred_final"
   ]
  },
  {
   "cell_type": "code",
   "execution_count": 94,
   "metadata": {},
   "outputs": [
    {
     "name": "stdout",
     "output_type": "stream",
     "text": [
      "[[3414  495]\n",
      " [ 867 1544]]\n",
      "\n",
      "\n",
      "{'TP': 1544, 'TN': 3414, 'FP': 495, 'FN': 867}\n",
      "Sensitivity is :  0.64\n",
      "Specificity is :  0.873\n",
      "False Postive Rate is : 0.127\n",
      "Positive predictive value is :  0.757\n",
      "Negative predictive value is :  0.797\n",
      "Accuracy Score is :  0.784\n",
      "Precision Score is :  0.757\n",
      "Recall Value is :  0.64\n"
     ]
    }
   ],
   "source": [
    "confusionMatrix(y_train_pred_final['Converted'], y_train_pred_final['predicted'])"
   ]
  },
  {
   "cell_type": "markdown",
   "metadata": {},
   "source": [
    "### Drawing ROC curve for the Training Dataset"
   ]
  },
  {
   "cell_type": "code",
   "execution_count": 95,
   "metadata": {},
   "outputs": [],
   "source": [
    "def draw_roc(actual, probs):\n",
    "    fpr, tpr, thresholds = metrics.roc_curve( actual, probs,drop_intermediate = False )\n",
    "    auc_score = metrics.roc_auc_score( actual, probs )\n",
    "    plt.figure(figsize=(10, 5))\n",
    "    plt.plot( fpr, tpr, label='ROC curve (area = %0.2f)' % auc_score )\n",
    "    plt.plot([0, 1], [0, 1], 'k--')\n",
    "    plt.xlim([0.0, 1.0])\n",
    "    plt.ylim([0.0, 1.05])\n",
    "    plt.xlabel('False Positive Rate or [1 - True Negative Rate]')\n",
    "    plt.ylabel('True Positive Rate')\n",
    "    plt.title('Receiver operating characteristic example')\n",
    "    plt.legend(loc=\"lower right\")\n",
    "    plt.grid()\n",
    "    plt.show()\n",
    "\n",
    "    return None"
   ]
  },
  {
   "cell_type": "code",
   "execution_count": 96,
   "metadata": {},
   "outputs": [],
   "source": [
    "fpr, tpr, thresholds = metrics.roc_curve( y_train_pred_final['Converted'], y_train_pred_final['Converted_Prob'], drop_intermediate = False )"
   ]
  },
  {
   "cell_type": "code",
   "execution_count": 97,
   "metadata": {},
   "outputs": [
    {
     "data": {
      "image/png": "[encoded data removed]",
      "text/plain": [
       "<Figure size 720x360 with 1 Axes>"
      ]
     },
     "metadata": {
      "needs_background": "light"
     },
     "output_type": "display_data"
    }
   ],
   "source": [
    "draw_roc(y_train_pred_final['Converted'],y_train_pred_final['Converted_Prob'])"
   ]
  },
  {
   "cell_type": "markdown",
   "metadata": {},
   "source": [
    "### Creating columns with different probability cutoffs "
   ]
  },
  {
   "cell_type": "code",
   "execution_count": 98,
   "metadata": {},
   "outputs": [
    {
     "data": {
      "text/html": [
       "<div>\n",
       "<style scoped>\n",
       "    .dataframe tbody tr th:only-of-type {\n",
       "        vertical-align: middle;\n",
       "    }\n",
       "\n",
       "    .dataframe tbody tr th {\n",
       "        vertical-align: top;\n",
       "    }\n",
       "\n",
       "    .dataframe thead th {\n",
       "        text-align: right;\n",
       "    }\n",
       "</style>\n",
       "<table border=\"1\" class=\"dataframe\">\n",
       "  <thead>\n",
       "    <tr style=\"text-align: right;\">\n",
       "      <th></th>\n",
       "      <th>Converted</th>\n",
       "      <th>Converted_Prob</th>\n",
       "      <th>ProspectID</th>\n",
       "      <th>predicted</th>\n",
       "      <th>0.0</th>\n",
       "      <th>0.1</th>\n",
       "      <th>0.2</th>\n",
       "      <th>0.3</th>\n",
       "      <th>0.4</th>\n",
       "      <th>0.5</th>\n",
       "      <th>0.6</th>\n",
       "      <th>0.7</th>\n",
       "      <th>0.8</th>\n",
       "      <th>0.9</th>\n",
       "    </tr>\n",
       "  </thead>\n",
       "  <tbody>\n",
       "    <tr>\n",
       "      <th>0</th>\n",
       "      <td>0</td>\n",
       "      <td>0.119544</td>\n",
       "      <td>5493</td>\n",
       "      <td>0</td>\n",
       "      <td>1</td>\n",
       "      <td>1</td>\n",
       "      <td>0</td>\n",
       "      <td>0</td>\n",
       "      <td>0</td>\n",
       "      <td>0</td>\n",
       "      <td>0</td>\n",
       "      <td>0</td>\n",
       "      <td>0</td>\n",
       "      <td>0</td>\n",
       "    </tr>\n",
       "    <tr>\n",
       "      <th>1</th>\n",
       "      <td>0</td>\n",
       "      <td>0.097797</td>\n",
       "      <td>8064</td>\n",
       "      <td>0</td>\n",
       "      <td>1</td>\n",
       "      <td>0</td>\n",
       "      <td>0</td>\n",
       "      <td>0</td>\n",
       "      <td>0</td>\n",
       "      <td>0</td>\n",
       "      <td>0</td>\n",
       "      <td>0</td>\n",
       "      <td>0</td>\n",
       "      <td>0</td>\n",
       "    </tr>\n",
       "    <tr>\n",
       "      <th>2</th>\n",
       "      <td>0</td>\n",
       "      <td>0.060083</td>\n",
       "      <td>4716</td>\n",
       "      <td>0</td>\n",
       "      <td>1</td>\n",
       "      <td>0</td>\n",
       "      <td>0</td>\n",
       "      <td>0</td>\n",
       "      <td>0</td>\n",
       "      <td>0</td>\n",
       "      <td>0</td>\n",
       "      <td>0</td>\n",
       "      <td>0</td>\n",
       "      <td>0</td>\n",
       "    </tr>\n",
       "    <tr>\n",
       "      <th>3</th>\n",
       "      <td>0</td>\n",
       "      <td>0.191382</td>\n",
       "      <td>9117</td>\n",
       "      <td>0</td>\n",
       "      <td>1</td>\n",
       "      <td>1</td>\n",
       "      <td>0</td>\n",
       "      <td>0</td>\n",
       "      <td>0</td>\n",
       "      <td>0</td>\n",
       "      <td>0</td>\n",
       "      <td>0</td>\n",
       "      <td>0</td>\n",
       "      <td>0</td>\n",
       "    </tr>\n",
       "    <tr>\n",
       "      <th>4</th>\n",
       "      <td>1</td>\n",
       "      <td>0.491712</td>\n",
       "      <td>2402</td>\n",
       "      <td>0</td>\n",
       "      <td>1</td>\n",
       "      <td>1</td>\n",
       "      <td>1</td>\n",
       "      <td>1</td>\n",
       "      <td>1</td>\n",
       "      <td>0</td>\n",
       "      <td>0</td>\n",
       "      <td>0</td>\n",
       "      <td>0</td>\n",
       "      <td>0</td>\n",
       "    </tr>\n",
       "  </tbody>\n",
       "</table>\n",
       "</div>"
      ],
      "text/plain": [
       "   Converted  Converted_Prob  ProspectID  predicted  0.0  0.1  0.2  0.3  0.4  0.5  0.6  0.7  0.8  0.9\n",
       "0          0        0.119544        5493          0    1    1    0    0    0    0    0    0    0    0\n",
       "1          0        0.097797        8064          0    1    0    0    0    0    0    0    0    0    0\n",
       "2          0        0.060083        4716          0    1    0    0    0    0    0    0    0    0    0\n",
       "3          0        0.191382        9117          0    1    1    0    0    0    0    0    0    0    0\n",
       "4          1        0.491712        2402          0    1    1    1    1    1    0    0    0    0    0"
      ]
     },
     "execution_count": 98,
     "metadata": {},
     "output_type": "execute_result"
    }
   ],
   "source": [
    "numbers = [float(x)/10 for x in range(10)]\n",
    "for i in numbers:\n",
    "    y_train_pred_final[i]= y_train_pred_final['Converted_Prob'].map(lambda x: 1 if x > i else 0)\n",
    "y_train_pred_final.head()"
   ]
  },
  {
   "cell_type": "markdown",
   "metadata": {},
   "source": [
    "### Calculate accuracy sensitivity & specificity for various probability cutoffs"
   ]
  },
  {
   "cell_type": "code",
   "execution_count": 99,
   "metadata": {},
   "outputs": [
    {
     "name": "stdout",
     "output_type": "stream",
     "text": [
      "     prob  accuracy     sensi     speci\n",
      "0.0   0.0  0.381487  1.000000  0.000000\n",
      "0.1   0.1  0.443829  0.991705  0.105909\n",
      "0.2   0.2  0.730854  0.835753  0.666155\n",
      "0.3   0.3  0.793987  0.783907  0.800205\n",
      "0.4   0.4  0.798101  0.731647  0.839089\n",
      "0.5   0.5  0.784494  0.640398  0.873369\n",
      "0.6   0.6  0.768671  0.539610  0.909951\n",
      "0.7   0.7  0.747310  0.433430  0.940906\n",
      "0.8   0.8  0.711551  0.284114  0.975185\n",
      "0.9   0.9  0.691930  0.211945  0.987976\n"
     ]
    }
   ],
   "source": [
    "cutoff_df = pd.DataFrame( columns = ['prob','accuracy','sensi','speci'])\n",
    "num = [0.0,0.1,0.2,0.3,0.4,0.5,0.6,0.7,0.8,0.9]\n",
    "for i in num:\n",
    "    cm1 = metrics.confusion_matrix(y_train_pred_final['Converted'], y_train_pred_final[i])\n",
    "    total1=sum(sum(cm1))\n",
    "    accuracy = (cm1[0,0]+cm1[1,1])/total1\n",
    "    speci = cm1[0,0]/(cm1[0,0]+cm1[0,1])\n",
    "    sensi = cm1[1,1]/(cm1[1,0]+cm1[1,1])\n",
    "    cutoff_df.loc[i] =[ i ,accuracy,sensi,speci]\n",
    "print(cutoff_df)"
   ]
  },
  {
   "cell_type": "markdown",
   "metadata": {},
   "source": [
    "### Plot accuracy,sensitivity & specificity for various probabilities"
   ]
  },
  {
   "cell_type": "code",
   "execution_count": 100,
   "metadata": {},
   "outputs": [
    {
     "data": {
      "text/plain": [
       "<Figure size 720x360 with 0 Axes>"
      ]
     },
     "metadata": {},
     "output_type": "display_data"
    },
    {
     "data": {
      "image/png": "[encoded data removed]",
      "text/plain": [
       "<Figure size 432x288 with 1 Axes>"
      ]
     },
     "metadata": {
      "needs_background": "light"
     },
     "output_type": "display_data"
    }
   ],
   "source": [
    "# Let's plot accuracy sensitivity and specificity for various probabilities.\n",
    "plt.figure(figsize=(10, 5))\n",
    "cutoff_df.plot.line(x='prob', y=['accuracy','sensi','speci'])\n",
    "plt.title('accuracy,sensitivity & specificity vs. probability')\n",
    "plt.xlabel('Probability')\n",
    "plt.ylabel('accuracy,sensitivity & specificity')\n",
    "plt.legend()\n",
    "plt.grid()\n",
    "plt.show()"
   ]
  },
  {
   "cell_type": "markdown",
   "metadata": {},
   "source": [
    "### Creating 'predicted' column based on 'Converted_Prob' value >0.25"
   ]
  },
  {
   "cell_type": "code",
   "execution_count": 101,
   "metadata": {},
   "outputs": [
    {
     "data": {
      "text/html": [
       "<div>\n",
       "<style scoped>\n",
       "    .dataframe tbody tr th:only-of-type {\n",
       "        vertical-align: middle;\n",
       "    }\n",
       "\n",
       "    .dataframe tbody tr th {\n",
       "        vertical-align: top;\n",
       "    }\n",
       "\n",
       "    .dataframe thead th {\n",
       "        text-align: right;\n",
       "    }\n",
       "</style>\n",
       "<table border=\"1\" class=\"dataframe\">\n",
       "  <thead>\n",
       "    <tr style=\"text-align: right;\">\n",
       "      <th></th>\n",
       "      <th>Converted</th>\n",
       "      <th>Converted_Prob</th>\n",
       "      <th>ProspectID</th>\n",
       "      <th>predicted</th>\n",
       "      <th>0.0</th>\n",
       "      <th>0.1</th>\n",
       "      <th>0.2</th>\n",
       "      <th>0.3</th>\n",
       "      <th>0.4</th>\n",
       "      <th>0.5</th>\n",
       "      <th>0.6</th>\n",
       "      <th>0.7</th>\n",
       "      <th>0.8</th>\n",
       "      <th>0.9</th>\n",
       "      <th>final_predicted</th>\n",
       "    </tr>\n",
       "  </thead>\n",
       "  <tbody>\n",
       "    <tr>\n",
       "      <th>0</th>\n",
       "      <td>0</td>\n",
       "      <td>0.119544</td>\n",
       "      <td>5493</td>\n",
       "      <td>0</td>\n",
       "      <td>1</td>\n",
       "      <td>1</td>\n",
       "      <td>0</td>\n",
       "      <td>0</td>\n",
       "      <td>0</td>\n",
       "      <td>0</td>\n",
       "      <td>0</td>\n",
       "      <td>0</td>\n",
       "      <td>0</td>\n",
       "      <td>0</td>\n",
       "      <td>0</td>\n",
       "    </tr>\n",
       "    <tr>\n",
       "      <th>1</th>\n",
       "      <td>0</td>\n",
       "      <td>0.097797</td>\n",
       "      <td>8064</td>\n",
       "      <td>0</td>\n",
       "      <td>1</td>\n",
       "      <td>0</td>\n",
       "      <td>0</td>\n",
       "      <td>0</td>\n",
       "      <td>0</td>\n",
       "      <td>0</td>\n",
       "      <td>0</td>\n",
       "      <td>0</td>\n",
       "      <td>0</td>\n",
       "      <td>0</td>\n",
       "      <td>0</td>\n",
       "    </tr>\n",
       "    <tr>\n",
       "      <th>2</th>\n",
       "      <td>0</td>\n",
       "      <td>0.060083</td>\n",
       "      <td>4716</td>\n",
       "      <td>0</td>\n",
       "      <td>1</td>\n",
       "      <td>0</td>\n",
       "      <td>0</td>\n",
       "      <td>0</td>\n",
       "      <td>0</td>\n",
       "      <td>0</td>\n",
       "      <td>0</td>\n",
       "      <td>0</td>\n",
       "      <td>0</td>\n",
       "      <td>0</td>\n",
       "      <td>0</td>\n",
       "    </tr>\n",
       "    <tr>\n",
       "      <th>3</th>\n",
       "      <td>0</td>\n",
       "      <td>0.191382</td>\n",
       "      <td>9117</td>\n",
       "      <td>0</td>\n",
       "      <td>1</td>\n",
       "      <td>1</td>\n",
       "      <td>0</td>\n",
       "      <td>0</td>\n",
       "      <td>0</td>\n",
       "      <td>0</td>\n",
       "      <td>0</td>\n",
       "      <td>0</td>\n",
       "      <td>0</td>\n",
       "      <td>0</td>\n",
       "      <td>0</td>\n",
       "    </tr>\n",
       "    <tr>\n",
       "      <th>4</th>\n",
       "      <td>1</td>\n",
       "      <td>0.491712</td>\n",
       "      <td>2402</td>\n",
       "      <td>0</td>\n",
       "      <td>1</td>\n",
       "      <td>1</td>\n",
       "      <td>1</td>\n",
       "      <td>1</td>\n",
       "      <td>1</td>\n",
       "      <td>0</td>\n",
       "      <td>0</td>\n",
       "      <td>0</td>\n",
       "      <td>0</td>\n",
       "      <td>0</td>\n",
       "      <td>1</td>\n",
       "    </tr>\n",
       "  </tbody>\n",
       "</table>\n",
       "</div>"
      ],
      "text/plain": [
       "   Converted  Converted_Prob  ProspectID  predicted  0.0  0.1  0.2  0.3  0.4  0.5  0.6  0.7  0.8  0.9  final_predicted\n",
       "0          0        0.119544        5493          0    1    1    0    0    0    0    0    0    0    0                0\n",
       "1          0        0.097797        8064          0    1    0    0    0    0    0    0    0    0    0                0\n",
       "2          0        0.060083        4716          0    1    0    0    0    0    0    0    0    0    0                0\n",
       "3          0        0.191382        9117          0    1    1    0    0    0    0    0    0    0    0                0\n",
       "4          1        0.491712        2402          0    1    1    1    1    1    0    0    0    0    0                1"
      ]
     },
     "execution_count": 101,
     "metadata": {},
     "output_type": "execute_result"
    }
   ],
   "source": [
    "y_train_pred_final['final_predicted'] = y_train_pred_final['Converted_Prob'].map( lambda x: 1 if x > 0.25 else 0)\n",
    "y_train_pred_final.head()"
   ]
  },
  {
   "cell_type": "markdown",
   "metadata": {},
   "source": [
    "### Creating confusion matrix and related values using y_train_pred_final"
   ]
  },
  {
   "cell_type": "code",
   "execution_count": 102,
   "metadata": {},
   "outputs": [
    {
     "name": "stdout",
     "output_type": "stream",
     "text": [
      "[[2946  963]\n",
      " [ 469 1942]]\n",
      "\n",
      "\n",
      "{'TP': 1942, 'TN': 2946, 'FP': 963, 'FN': 469}\n",
      "Sensitivity is :  0.805\n",
      "Specificity is :  0.754\n",
      "False Postive Rate is : 0.246\n",
      "Positive predictive value is :  0.669\n",
      "Negative predictive value is :  0.863\n",
      "Accuracy Score is :  0.773\n",
      "Precision Score is :  0.669\n",
      "Recall Value is :  0.805\n"
     ]
    }
   ],
   "source": [
    "confusionMatrix(y_train_pred_final['Converted'], y_train_pred_final['final_predicted'])"
   ]
  },
  {
   "cell_type": "code",
   "execution_count": 103,
   "metadata": {},
   "outputs": [],
   "source": [
    "y_train_pred_final['Converted'], y_train_pred_final['final_predicted']\n",
    "p, r, thresholds = precision_recall_curve(y_train_pred_final['Converted'], y_train_pred_final['Converted_Prob'])"
   ]
  },
  {
   "cell_type": "code",
   "execution_count": 104,
   "metadata": {},
   "outputs": [
    {
     "data": {
      "image/png": "[encoded data removed]",
      "text/plain": [
       "<Figure size 432x288 with 1 Axes>"
      ]
     },
     "metadata": {
      "needs_background": "light"
     },
     "output_type": "display_data"
    }
   ],
   "source": [
    "plt.plot(thresholds, p[:-1], \"g-\")\n",
    "plt.plot(thresholds, r[:-1], \"r-\")\n",
    "plt.title(\"Precision Recall Plot\")\n",
    "plt.grid()\n",
    "plt.show()"
   ]
  },
  {
   "cell_type": "markdown",
   "metadata": {},
   "source": [
    "## Step 7: Model Evaluation    "
   ]
  },
  {
   "cell_type": "markdown",
   "metadata": {},
   "source": [
    "### Rescaling the Features of test data set"
   ]
  },
  {
   "cell_type": "code",
   "execution_count": 105,
   "metadata": {},
   "outputs": [],
   "source": [
    "cols=['TotalVisits','Total Time Spent on Website','Page Views Per Visit']\n",
    "X_test[cols]=scaler.fit_transform(X_test[cols])"
   ]
  },
  {
   "cell_type": "code",
   "execution_count": 106,
   "metadata": {},
   "outputs": [],
   "source": [
    "final_col=X_train_model.drop('const',axis=1)"
   ]
  },
  {
   "cell_type": "code",
   "execution_count": 107,
   "metadata": {},
   "outputs": [],
   "source": [
    "X_test=X_test[final_col.columns]"
   ]
  },
  {
   "cell_type": "code",
   "execution_count": 108,
   "metadata": {},
   "outputs": [
    {
     "data": {
      "text/plain": [
       "4664    0.192415\n",
       "5394    0.562698\n",
       "1595    0.939473\n",
       "2111    0.293026\n",
       "9182    0.192415\n",
       "1055    0.421291\n",
       "541     0.188469\n",
       "446     0.991677\n",
       "3728    0.109016\n",
       "4249    0.065723\n",
       "dtype: float64"
      ]
     },
     "execution_count": 108,
     "metadata": {},
     "output_type": "execute_result"
    }
   ],
   "source": [
    "X_test_sm = sm.add_constant(X_test)\n",
    "y_test_pred = res.predict(X_test_sm)\n",
    "y_test_pred[:10]"
   ]
  },
  {
   "cell_type": "code",
   "execution_count": 109,
   "metadata": {},
   "outputs": [],
   "source": [
    "y_pred_1 = pd.DataFrame(y_test_pred)\n",
    "y_test_df = pd.DataFrame(y_test)"
   ]
  },
  {
   "cell_type": "code",
   "execution_count": 110,
   "metadata": {},
   "outputs": [],
   "source": [
    "y_test_df['Prospect ID'] = y_test_df.index"
   ]
  },
  {
   "cell_type": "code",
   "execution_count": 111,
   "metadata": {},
   "outputs": [],
   "source": [
    "y_pred_1.reset_index(drop=True, inplace=True)\n",
    "y_test_df.reset_index(drop=True, inplace=True)"
   ]
  },
  {
   "cell_type": "code",
   "execution_count": 112,
   "metadata": {},
   "outputs": [],
   "source": [
    "y_test_pred_final = pd.concat([y_test_df, y_pred_1],axis=1)"
   ]
  },
  {
   "cell_type": "code",
   "execution_count": 113,
   "metadata": {},
   "outputs": [],
   "source": [
    "y_test_pred_final= y_test_pred_final.rename(columns={ 0 : 'Converted_prob'})"
   ]
  },
  {
   "cell_type": "code",
   "execution_count": 114,
   "metadata": {},
   "outputs": [
    {
     "data": {
      "text/html": [
       "<div>\n",
       "<style scoped>\n",
       "    .dataframe tbody tr th:only-of-type {\n",
       "        vertical-align: middle;\n",
       "    }\n",
       "\n",
       "    .dataframe tbody tr th {\n",
       "        vertical-align: top;\n",
       "    }\n",
       "\n",
       "    .dataframe thead th {\n",
       "        text-align: right;\n",
       "    }\n",
       "</style>\n",
       "<table border=\"1\" class=\"dataframe\">\n",
       "  <thead>\n",
       "    <tr style=\"text-align: right;\">\n",
       "      <th></th>\n",
       "      <th>Converted</th>\n",
       "      <th>Prospect ID</th>\n",
       "      <th>Converted_prob</th>\n",
       "    </tr>\n",
       "  </thead>\n",
       "  <tbody>\n",
       "    <tr>\n",
       "      <th>0</th>\n",
       "      <td>0</td>\n",
       "      <td>4664</td>\n",
       "      <td>0.192415</td>\n",
       "    </tr>\n",
       "    <tr>\n",
       "      <th>1</th>\n",
       "      <td>0</td>\n",
       "      <td>5394</td>\n",
       "      <td>0.562698</td>\n",
       "    </tr>\n",
       "    <tr>\n",
       "      <th>2</th>\n",
       "      <td>1</td>\n",
       "      <td>1595</td>\n",
       "      <td>0.939473</td>\n",
       "    </tr>\n",
       "    <tr>\n",
       "      <th>3</th>\n",
       "      <td>0</td>\n",
       "      <td>2111</td>\n",
       "      <td>0.293026</td>\n",
       "    </tr>\n",
       "    <tr>\n",
       "      <th>4</th>\n",
       "      <td>0</td>\n",
       "      <td>9182</td>\n",
       "      <td>0.192415</td>\n",
       "    </tr>\n",
       "  </tbody>\n",
       "</table>\n",
       "</div>"
      ],
      "text/plain": [
       "   Converted  Prospect ID  Converted_prob\n",
       "0          0         4664        0.192415\n",
       "1          0         5394        0.562698\n",
       "2          1         1595        0.939473\n",
       "3          0         2111        0.293026\n",
       "4          0         9182        0.192415"
      ]
     },
     "execution_count": 114,
     "metadata": {},
     "output_type": "execute_result"
    }
   ],
   "source": [
    "y_test_pred_final.head()"
   ]
  },
  {
   "cell_type": "code",
   "execution_count": 115,
   "metadata": {},
   "outputs": [],
   "source": [
    "y_test_pred_final = y_test_pred_final[['Prospect ID','Converted','Converted_prob']]\n",
    "y_test_pred_final['Lead_Score'] = y_test_pred_final.Converted_prob.map( lambda x: round(x*100))"
   ]
  },
  {
   "cell_type": "markdown",
   "metadata": {},
   "source": [
    "### Creating 'final_predicted' column based on 'Converted_Prob' value >0.25"
   ]
  },
  {
   "cell_type": "code",
   "execution_count": 116,
   "metadata": {},
   "outputs": [],
   "source": [
    "y_test_pred_final['final_Predicted'] = y_test_pred_final.Converted_prob.map(lambda x: 1 if x > 0.25 else 0)"
   ]
  },
  {
   "cell_type": "code",
   "execution_count": 117,
   "metadata": {},
   "outputs": [
    {
     "data": {
      "text/html": [
       "<div>\n",
       "<style scoped>\n",
       "    .dataframe tbody tr th:only-of-type {\n",
       "        vertical-align: middle;\n",
       "    }\n",
       "\n",
       "    .dataframe tbody tr th {\n",
       "        vertical-align: top;\n",
       "    }\n",
       "\n",
       "    .dataframe thead th {\n",
       "        text-align: right;\n",
       "    }\n",
       "</style>\n",
       "<table border=\"1\" class=\"dataframe\">\n",
       "  <thead>\n",
       "    <tr style=\"text-align: right;\">\n",
       "      <th></th>\n",
       "      <th>Prospect ID</th>\n",
       "      <th>Converted</th>\n",
       "      <th>Converted_prob</th>\n",
       "      <th>Lead_Score</th>\n",
       "      <th>final_Predicted</th>\n",
       "    </tr>\n",
       "  </thead>\n",
       "  <tbody>\n",
       "    <tr>\n",
       "      <th>0</th>\n",
       "      <td>4664</td>\n",
       "      <td>0</td>\n",
       "      <td>0.192415</td>\n",
       "      <td>19</td>\n",
       "      <td>0</td>\n",
       "    </tr>\n",
       "    <tr>\n",
       "      <th>1</th>\n",
       "      <td>5394</td>\n",
       "      <td>0</td>\n",
       "      <td>0.562698</td>\n",
       "      <td>56</td>\n",
       "      <td>1</td>\n",
       "    </tr>\n",
       "    <tr>\n",
       "      <th>2</th>\n",
       "      <td>1595</td>\n",
       "      <td>1</td>\n",
       "      <td>0.939473</td>\n",
       "      <td>94</td>\n",
       "      <td>1</td>\n",
       "    </tr>\n",
       "    <tr>\n",
       "      <th>3</th>\n",
       "      <td>2111</td>\n",
       "      <td>0</td>\n",
       "      <td>0.293026</td>\n",
       "      <td>29</td>\n",
       "      <td>1</td>\n",
       "    </tr>\n",
       "    <tr>\n",
       "      <th>4</th>\n",
       "      <td>9182</td>\n",
       "      <td>0</td>\n",
       "      <td>0.192415</td>\n",
       "      <td>19</td>\n",
       "      <td>0</td>\n",
       "    </tr>\n",
       "  </tbody>\n",
       "</table>\n",
       "</div>"
      ],
      "text/plain": [
       "   Prospect ID  Converted  Converted_prob  Lead_Score  final_Predicted\n",
       "0         4664          0        0.192415          19                0\n",
       "1         5394          0        0.562698          56                1\n",
       "2         1595          1        0.939473          94                1\n",
       "3         2111          0        0.293026          29                1\n",
       "4         9182          0        0.192415          19                0"
      ]
     },
     "execution_count": 117,
     "metadata": {},
     "output_type": "execute_result"
    }
   ],
   "source": [
    "y_test_pred_final.head()"
   ]
  },
  {
   "cell_type": "markdown",
   "metadata": {},
   "source": [
    "### Creating Confusion matrix for the test Data"
   ]
  },
  {
   "cell_type": "code",
   "execution_count": 118,
   "metadata": {},
   "outputs": [
    {
     "name": "stdout",
     "output_type": "stream",
     "text": [
      "[[1244  399]\n",
      " [ 197  869]]\n",
      "\n",
      "\n",
      "{'TP': 869, 'TN': 1244, 'FP': 399, 'FN': 197}\n",
      "Sensitivity is :  0.815\n",
      "Specificity is :  0.757\n",
      "False Postive Rate is : 0.243\n",
      "Positive predictive value is :  0.685\n",
      "Negative predictive value is :  0.863\n",
      "Accuracy Score is :  0.78\n",
      "Precision Score is :  0.685\n",
      "Recall Value is :  0.815\n"
     ]
    }
   ],
   "source": [
    "confusionMatrix(y_test_pred_final['Converted'], y_test_pred_final['final_Predicted'])"
   ]
  },
  {
   "cell_type": "markdown",
   "metadata": {},
   "source": [
    "### Creating confusion matrix and related values using y_train_pred_final"
   ]
  },
  {
   "cell_type": "code",
   "execution_count": 119,
   "metadata": {},
   "outputs": [
    {
     "name": "stdout",
     "output_type": "stream",
     "text": [
      "[[2946  963]\n",
      " [ 469 1942]]\n",
      "\n",
      "\n",
      "{'TP': 1942, 'TN': 2946, 'FP': 963, 'FN': 469}\n",
      "Sensitivity is :  0.805\n",
      "Specificity is :  0.754\n",
      "False Postive Rate is : 0.246\n",
      "Positive predictive value is :  0.669\n",
      "Negative predictive value is :  0.863\n",
      "Accuracy Score is :  0.773\n",
      "Precision Score is :  0.669\n",
      "Recall Value is :  0.805\n"
     ]
    }
   ],
   "source": [
    "confusionMatrix(y_train_pred_final['Converted'], y_train_pred_final['final_predicted'])"
   ]
  },
  {
   "cell_type": "markdown",
   "metadata": {},
   "source": [
    "# Recommendations"
   ]
  },
  {
   "cell_type": "markdown",
   "metadata": {},
   "source": [
    "#### Top features which are recommended by model as factors leading to Hot Leads are -\n",
    "    1.) Lead_Origin_Lead Form/Import\n",
    "    2.) Current_Occupation_Working Professional\n",
    "    3.) Lead_Source_Olark Chat\n",
    "    4.) Total Time Spent on Website\n",
    "#### Features which are indicators of Leads not getting converted are -\n",
    "    1.) Do Not Email\n",
    "    2.) Specialization_Fresher\n",
    "    3.) Specialization_Hospitality Management\n",
    "    4.) Lead_Origin_Landing Page Submission"
   ]
  },
  {
   "cell_type": "markdown",
   "metadata": {},
   "source": [
    "# Insights"
   ]
  },
  {
   "cell_type": "markdown",
   "metadata": {},
   "source": [
    "1.) Leads whose origin is either Lead Add Form or Lead Import are good leads.\n",
    "    Marketting spends can be increased on these 2 lead origins to increase revenues for the company as these leads are likely to buy the courses.\n",
    "   \n",
    "2.) Lead prospects who are working professionals are good leads. Salesperson should concentrate more on such insividuals. They should explain all benefits of joining these courses to these working professionals when they call them later.\n",
    "\n",
    "3.) X education should also try to make the website even more informative and interesting for prospects. This is because prospects who spend more time on website lead to buying the courses.\n",
    "\n",
    "4.) Sales professionals should not invest way too much time on Prospects who mark 'Do not email\" as they are most unlikely to buy a course.\n",
    "\n",
    "5.) Prospects which do not select specialisation are Freshers. These are not buying courses that easily. Company should look into having more fresher-friendly & fresher relevant courses which could motivate freshers to take courses from X education.\n",
    "\n",
    "6.) Prospects who have specialisation in Hospitality Management are least likely to be hot Leads. X education not having Hospitality relevant courses on the website could be the reason for it. This should be worked upon by management. Till then, not much use of putting too much efforts by sales team on such prospects.\n"
   ]
  }
 ],
 "metadata": {
  "kernelspec": {
   "display_name": "Python 3",
   "language": "python",
   "name": "python3"
  },
  "language_info": {
   "codemirror_mode": {
    "name": "ipython",
    "version": 3
   },
   "file_extension": ".py",
   "mimetype": "text/x-python",
   "name": "python",
   "nbconvert_exporter": "python",
   "pygments_lexer": "ipython3",
   "version": "3.7.6"
  }
 },
 "nbformat": 4,
 "nbformat_minor": 4
}
